{
  "cells": [
    {
      "cell_type": "markdown",
      "metadata": {
        "id": "PsnH_XFYuzwF"
      },
      "source": [
        "Connect to Drive\n"
      ]
    },
    {
      "cell_type": "code",
      "execution_count": null,
      "metadata": {
        "colab": {
          "base_uri": "https://localhost:8080/"
        },
        "id": "hLRkKp2_vjTX",
        "outputId": "5993ef50-7bb2-44bf-dcf9-07e58da858a5"
      },
      "outputs": [
        {
          "output_type": "stream",
          "name": "stdout",
          "text": [
            "Drive already mounted at /content/drive; to attempt to forcibly remount, call drive.mount(\"/content/drive\", force_remount=True).\n"
          ]
        }
      ],
      "source": [
        "from google.colab import drive\n",
        "drive.mount('/content/drive')"
      ]
    },
    {
      "cell_type": "markdown",
      "metadata": {
        "id": "FXxkcW2eoNi1"
      },
      "source": [
        "#Train Model"
      ]
    },
    {
      "cell_type": "code",
      "execution_count": null,
      "metadata": {
        "colab": {
          "base_uri": "https://localhost:8080/"
        },
        "collapsed": true,
        "id": "I2uJm12EmoVm",
        "outputId": "91c0081c-0684-46b7-cfd2-d05d03783159"
      },
      "outputs": [
        {
          "output_type": "stream",
          "name": "stdout",
          "text": [
            "Ultralytics 8.3.36 🚀 Python-3.10.12 torch-2.5.1+cu121 CUDA:0 (Tesla T4, 15102MiB)\n",
            "Setup complete ✅ (2 CPUs, 12.7 GB RAM, 33.4/112.6 GB disk)\n"
          ]
        }
      ],
      "source": [
        "!pip install ultralytics\n",
        "import ultralytics\n",
        "ultralytics.checks()"
      ]
    },
    {
      "cell_type": "code",
      "execution_count": null,
      "metadata": {
        "colab": {
          "base_uri": "https://localhost:8080/"
        },
        "id": "U5qJTsd-neeN",
        "outputId": "59f981b7-3a6e-40cc-b468-810f432aaa93",
        "collapsed": true
      },
      "outputs": [
        {
          "output_type": "stream",
          "name": "stdout",
          "text": [
            "Ultralytics 8.3.35 🚀 Python-3.10.12 torch-2.5.1+cu121 CUDA:0 (Tesla T4, 15102MiB)\n",
            "\u001b[34m\u001b[1mengine/trainer: \u001b[0mtask=detect, mode=train, model=/content/drive/MyDrive/YOLO_finalgigi/train2/weights/last.pt, data=/content/drive/MyDrive/Yolo_final_data/train.yaml, epochs=50, time=None, patience=100, batch=16, imgsz=640, save=True, save_period=-1, cache=False, device=None, workers=8, project=None, name=train, exist_ok=False, pretrained=True, optimizer=auto, verbose=True, seed=0, deterministic=True, single_cls=False, rect=False, cos_lr=False, close_mosaic=10, resume=False, amp=True, fraction=1.0, profile=False, freeze=None, multi_scale=False, overlap_mask=True, mask_ratio=4, dropout=0.0, val=True, split=val, save_json=False, save_hybrid=False, conf=None, iou=0.7, max_det=300, half=False, dnn=False, plots=True, source=None, vid_stride=1, stream_buffer=False, visualize=False, augment=False, agnostic_nms=False, classes=None, retina_masks=False, embed=None, show=False, save_frames=False, save_txt=False, save_conf=False, save_crop=False, show_labels=True, show_conf=True, show_boxes=True, line_width=None, format=torchscript, keras=False, optimize=False, int8=False, dynamic=False, simplify=True, opset=None, workspace=4, nms=False, lr0=0.01, lrf=0.01, momentum=0.937, weight_decay=0.0005, warmup_epochs=3.0, warmup_momentum=0.8, warmup_bias_lr=0.1, box=7.5, cls=0.5, dfl=1.5, pose=12.0, kobj=1.0, label_smoothing=0.0, nbs=64, hsv_h=0.015, hsv_s=0.7, hsv_v=0.4, degrees=0.0, translate=0.1, scale=0.5, shear=0.0, perspective=0.0, flipud=0.0, fliplr=0.5, bgr=0.0, mosaic=1.0, mixup=0.0, copy_paste=0.0, copy_paste_mode=flip, auto_augment=randaugment, erasing=0.4, crop_fraction=1.0, cfg=None, tracker=botsort.yaml, save_dir=runs/detect/train\n",
            "Downloading https://ultralytics.com/assets/Arial.ttf to '/root/.config/Ultralytics/Arial.ttf'...\n"
          ]
        },
        {
          "output_type": "stream",
          "name": "stderr",
          "text": [
            "100%|██████████| 755k/755k [00:00<00:00, 24.4MB/s]\n"
          ]
        },
        {
          "output_type": "stream",
          "name": "stdout",
          "text": [
            "\n",
            "                   from  n    params  module                                       arguments                     \n",
            "  0                  -1  1       928  ultralytics.nn.modules.conv.Conv             [3, 32, 3, 2]                 \n",
            "  1                  -1  1     18560  ultralytics.nn.modules.conv.Conv             [32, 64, 3, 2]                \n",
            "  2                  -1  1     29056  ultralytics.nn.modules.block.C2f             [64, 64, 1, True]             \n",
            "  3                  -1  1     73984  ultralytics.nn.modules.conv.Conv             [64, 128, 3, 2]               \n",
            "  4                  -1  2    197632  ultralytics.nn.modules.block.C2f             [128, 128, 2, True]           \n",
            "  5                  -1  1    295424  ultralytics.nn.modules.conv.Conv             [128, 256, 3, 2]              \n",
            "  6                  -1  2    788480  ultralytics.nn.modules.block.C2f             [256, 256, 2, True]           \n",
            "  7                  -1  1   1180672  ultralytics.nn.modules.conv.Conv             [256, 512, 3, 2]              \n",
            "  8                  -1  1   1838080  ultralytics.nn.modules.block.C2f             [512, 512, 1, True]           \n",
            "  9                  -1  1    656896  ultralytics.nn.modules.block.SPPF            [512, 512, 5]                 \n",
            " 10                  -1  1         0  torch.nn.modules.upsampling.Upsample         [None, 2, 'nearest']          \n",
            " 11             [-1, 6]  1         0  ultralytics.nn.modules.conv.Concat           [1]                           \n",
            " 12                  -1  1    591360  ultralytics.nn.modules.block.C2f             [768, 256, 1]                 \n",
            " 13                  -1  1         0  torch.nn.modules.upsampling.Upsample         [None, 2, 'nearest']          \n",
            " 14             [-1, 4]  1         0  ultralytics.nn.modules.conv.Concat           [1]                           \n",
            " 15                  -1  1    148224  ultralytics.nn.modules.block.C2f             [384, 128, 1]                 \n",
            " 16                  -1  1    147712  ultralytics.nn.modules.conv.Conv             [128, 128, 3, 2]              \n",
            " 17            [-1, 12]  1         0  ultralytics.nn.modules.conv.Concat           [1]                           \n",
            " 18                  -1  1    493056  ultralytics.nn.modules.block.C2f             [384, 256, 1]                 \n",
            " 19                  -1  1    590336  ultralytics.nn.modules.conv.Conv             [256, 256, 3, 2]              \n",
            " 20             [-1, 9]  1         0  ultralytics.nn.modules.conv.Concat           [1]                           \n",
            " 21                  -1  1   1969152  ultralytics.nn.modules.block.C2f             [768, 512, 1]                 \n",
            " 22        [15, 18, 21]  1   2117209  ultralytics.nn.modules.head.Detect           [3, [128, 256, 512]]          \n",
            "Model summary: 225 layers, 11,136,761 parameters, 11,136,745 gradients, 28.7 GFLOPs\n",
            "\n",
            "Transferred 355/355 items from pretrained weights\n",
            "\u001b[34m\u001b[1mTensorBoard: \u001b[0mStart with 'tensorboard --logdir runs/detect/train', view at http://localhost:6006/\n",
            "Freezing layer 'model.22.dfl.conv.weight'\n",
            "\u001b[34m\u001b[1mAMP: \u001b[0mrunning Automatic Mixed Precision (AMP) checks...\n",
            "Downloading https://github.com/ultralytics/assets/releases/download/v8.3.0/yolo11n.pt to 'yolo11n.pt'...\n"
          ]
        },
        {
          "output_type": "stream",
          "name": "stderr",
          "text": [
            "100%|██████████| 5.35M/5.35M [00:00<00:00, 102MB/s]\n"
          ]
        },
        {
          "output_type": "stream",
          "name": "stdout",
          "text": [
            "\u001b[34m\u001b[1mAMP: \u001b[0mchecks passed ✅\n"
          ]
        },
        {
          "output_type": "stream",
          "name": "stderr",
          "text": [
            "\u001b[34m\u001b[1mtrain: \u001b[0mScanning /content/drive/MyDrive/Yolo_final_data/labels/train... 699 images, 271 backgrounds, 0 corrupt: 100%|██████████| 699/699 [03:52<00:00,  3.01it/s]\n"
          ]
        },
        {
          "output_type": "stream",
          "name": "stdout",
          "text": [
            "\u001b[34m\u001b[1mtrain: \u001b[0mNew cache created: /content/drive/MyDrive/Yolo_final_data/labels/train.cache\n",
            "\u001b[34m\u001b[1malbumentations: \u001b[0mBlur(p=0.01, blur_limit=(3, 7)), MedianBlur(p=0.01, blur_limit=(3, 7)), ToGray(p=0.01, num_output_channels=3, method='weighted_average'), CLAHE(p=0.01, clip_limit=(1.0, 4.0), tile_grid_size=(8, 8))\n"
          ]
        },
        {
          "output_type": "stream",
          "name": "stderr",
          "text": [
            "/usr/local/lib/python3.10/dist-packages/albumentations/__init__.py:24: UserWarning: A new version of Albumentations is available: 1.4.21 (you have 1.4.20). Upgrade using: pip install -U albumentations. To disable automatic update checks, set the environment variable NO_ALBUMENTATIONS_UPDATE to 1.\n",
            "  check_for_updates()\n",
            "\u001b[34m\u001b[1mval: \u001b[0mScanning /content/drive/MyDrive/Yolo_final_data/labels/val... 198 images, 77 backgrounds, 0 corrupt: 100%|██████████| 198/198 [00:57<00:00,  3.47it/s]"
          ]
        },
        {
          "output_type": "stream",
          "name": "stdout",
          "text": [
            "\u001b[34m\u001b[1mval: \u001b[0mNew cache created: /content/drive/MyDrive/Yolo_final_data/labels/val.cache\n"
          ]
        },
        {
          "output_type": "stream",
          "name": "stderr",
          "text": [
            "\n"
          ]
        },
        {
          "output_type": "stream",
          "name": "stdout",
          "text": [
            "Plotting labels to runs/detect/train/labels.jpg... \n",
            "\u001b[34m\u001b[1moptimizer:\u001b[0m 'optimizer=auto' found, ignoring 'lr0=0.01' and 'momentum=0.937' and determining best 'optimizer', 'lr0' and 'momentum' automatically... \n",
            "\u001b[34m\u001b[1moptimizer:\u001b[0m AdamW(lr=0.001429, momentum=0.9) with parameter groups 57 weight(decay=0.0), 64 weight(decay=0.0005), 63 bias(decay=0.0)\n",
            "\u001b[34m\u001b[1mTensorBoard: \u001b[0mmodel graph visualization added ✅\n",
            "Image sizes 640 train, 640 val\n",
            "Using 2 dataloader workers\n",
            "Logging results to \u001b[1mruns/detect/train\u001b[0m\n",
            "Starting training for 50 epochs...\n",
            "\n",
            "      Epoch    GPU_mem   box_loss   cls_loss   dfl_loss  Instances       Size\n"
          ]
        },
        {
          "output_type": "stream",
          "name": "stderr",
          "text": [
            "       1/50      4.04G     0.4592     0.3772     0.9364         21        640: 100%|██████████| 44/44 [00:33<00:00,  1.32it/s]\n",
            "                 Class     Images  Instances      Box(P          R      mAP50  mAP50-95): 100%|██████████| 7/7 [00:04<00:00,  1.75it/s]"
          ]
        },
        {
          "output_type": "stream",
          "name": "stdout",
          "text": [
            "                   all        198        235      0.615       0.44      0.489      0.327\n"
          ]
        },
        {
          "output_type": "stream",
          "name": "stderr",
          "text": [
            "\n"
          ]
        },
        {
          "output_type": "stream",
          "name": "stdout",
          "text": [
            "\n",
            "      Epoch    GPU_mem   box_loss   cls_loss   dfl_loss  Instances       Size\n"
          ]
        },
        {
          "output_type": "stream",
          "name": "stderr",
          "text": [
            "       2/50      3.99G     0.5135     0.4145     0.9442         16        640: 100%|██████████| 44/44 [00:25<00:00,  1.70it/s]\n",
            "                 Class     Images  Instances      Box(P          R      mAP50  mAP50-95): 100%|██████████| 7/7 [00:04<00:00,  1.51it/s]"
          ]
        },
        {
          "output_type": "stream",
          "name": "stdout",
          "text": [
            "                   all        198        235      0.487      0.451      0.421      0.297\n"
          ]
        },
        {
          "output_type": "stream",
          "name": "stderr",
          "text": [
            "\n"
          ]
        },
        {
          "output_type": "stream",
          "name": "stdout",
          "text": [
            "\n",
            "      Epoch    GPU_mem   box_loss   cls_loss   dfl_loss  Instances       Size\n"
          ]
        },
        {
          "output_type": "stream",
          "name": "stderr",
          "text": [
            "       3/50      4.06G     0.6238     0.5051      1.001         34        640: 100%|██████████| 44/44 [00:24<00:00,  1.80it/s]\n",
            "                 Class     Images  Instances      Box(P          R      mAP50  mAP50-95): 100%|██████████| 7/7 [00:04<00:00,  1.53it/s]\n"
          ]
        },
        {
          "output_type": "stream",
          "name": "stdout",
          "text": [
            "                   all        198        235      0.559      0.419      0.448      0.304\n",
            "\n",
            "      Epoch    GPU_mem   box_loss   cls_loss   dfl_loss  Instances       Size\n"
          ]
        },
        {
          "output_type": "stream",
          "name": "stderr",
          "text": [
            "       4/50      4.02G     0.6876     0.5725      1.033         29        640: 100%|██████████| 44/44 [00:24<00:00,  1.81it/s]\n",
            "                 Class     Images  Instances      Box(P          R      mAP50  mAP50-95): 100%|██████████| 7/7 [00:02<00:00,  2.34it/s]"
          ]
        },
        {
          "output_type": "stream",
          "name": "stdout",
          "text": [
            "                   all        198        235      0.584      0.378      0.396      0.257\n"
          ]
        },
        {
          "output_type": "stream",
          "name": "stderr",
          "text": [
            "\n"
          ]
        },
        {
          "output_type": "stream",
          "name": "stdout",
          "text": [
            "\n",
            "      Epoch    GPU_mem   box_loss   cls_loss   dfl_loss  Instances       Size\n"
          ]
        },
        {
          "output_type": "stream",
          "name": "stderr",
          "text": [
            "       5/50      4.01G     0.6868     0.5922      1.038         21        640: 100%|██████████| 44/44 [00:27<00:00,  1.61it/s]\n",
            "                 Class     Images  Instances      Box(P          R      mAP50  mAP50-95): 100%|██████████| 7/7 [00:03<00:00,  2.24it/s]"
          ]
        },
        {
          "output_type": "stream",
          "name": "stdout",
          "text": [
            "                   all        198        235      0.564      0.396      0.447        0.3\n"
          ]
        },
        {
          "output_type": "stream",
          "name": "stderr",
          "text": [
            "\n"
          ]
        },
        {
          "output_type": "stream",
          "name": "stdout",
          "text": [
            "\n",
            "      Epoch    GPU_mem   box_loss   cls_loss   dfl_loss  Instances       Size\n"
          ]
        },
        {
          "output_type": "stream",
          "name": "stderr",
          "text": [
            "       6/50      3.87G      0.673     0.5815      1.017         21        640: 100%|██████████| 44/44 [00:26<00:00,  1.68it/s]\n",
            "                 Class     Images  Instances      Box(P          R      mAP50  mAP50-95): 100%|██████████| 7/7 [00:04<00:00,  1.51it/s]"
          ]
        },
        {
          "output_type": "stream",
          "name": "stdout",
          "text": [
            "                   all        198        235      0.619      0.447      0.435      0.295\n"
          ]
        },
        {
          "output_type": "stream",
          "name": "stderr",
          "text": [
            "\n"
          ]
        },
        {
          "output_type": "stream",
          "name": "stdout",
          "text": [
            "\n",
            "      Epoch    GPU_mem   box_loss   cls_loss   dfl_loss  Instances       Size\n"
          ]
        },
        {
          "output_type": "stream",
          "name": "stderr",
          "text": [
            "       7/50      3.84G     0.6974     0.5981       1.03         20        640: 100%|██████████| 44/44 [00:24<00:00,  1.81it/s]\n",
            "                 Class     Images  Instances      Box(P          R      mAP50  mAP50-95): 100%|██████████| 7/7 [00:04<00:00,  1.73it/s]\n"
          ]
        },
        {
          "output_type": "stream",
          "name": "stdout",
          "text": [
            "                   all        198        235      0.646      0.372      0.372      0.254\n",
            "\n",
            "      Epoch    GPU_mem   box_loss   cls_loss   dfl_loss  Instances       Size\n"
          ]
        },
        {
          "output_type": "stream",
          "name": "stderr",
          "text": [
            "       8/50      3.84G     0.6984     0.5898      1.031         30        640: 100%|██████████| 44/44 [00:24<00:00,  1.78it/s]\n",
            "                 Class     Images  Instances      Box(P          R      mAP50  mAP50-95): 100%|██████████| 7/7 [00:03<00:00,  2.22it/s]"
          ]
        },
        {
          "output_type": "stream",
          "name": "stdout",
          "text": [
            "                   all        198        235      0.676       0.41      0.455      0.315\n"
          ]
        },
        {
          "output_type": "stream",
          "name": "stderr",
          "text": [
            "\n"
          ]
        },
        {
          "output_type": "stream",
          "name": "stdout",
          "text": [
            "\n",
            "      Epoch    GPU_mem   box_loss   cls_loss   dfl_loss  Instances       Size\n"
          ]
        },
        {
          "output_type": "stream",
          "name": "stderr",
          "text": [
            "       9/50      3.89G      0.702     0.5761      1.041         21        640: 100%|██████████| 44/44 [00:26<00:00,  1.65it/s]\n",
            "                 Class     Images  Instances      Box(P          R      mAP50  mAP50-95): 100%|██████████| 7/7 [00:03<00:00,  1.96it/s]"
          ]
        },
        {
          "output_type": "stream",
          "name": "stdout",
          "text": [
            "                   all        198        235      0.706       0.34      0.443       0.31\n"
          ]
        },
        {
          "output_type": "stream",
          "name": "stderr",
          "text": [
            "\n"
          ]
        },
        {
          "output_type": "stream",
          "name": "stdout",
          "text": [
            "\n",
            "      Epoch    GPU_mem   box_loss   cls_loss   dfl_loss  Instances       Size\n"
          ]
        },
        {
          "output_type": "stream",
          "name": "stderr",
          "text": [
            "      10/50      4.01G     0.7102     0.5957      1.051         41        640: 100%|██████████| 44/44 [00:24<00:00,  1.77it/s]\n",
            "                 Class     Images  Instances      Box(P          R      mAP50  mAP50-95): 100%|██████████| 7/7 [00:05<00:00,  1.29it/s]\n"
          ]
        },
        {
          "output_type": "stream",
          "name": "stdout",
          "text": [
            "                   all        198        235      0.449      0.428      0.362      0.235\n",
            "\n",
            "      Epoch    GPU_mem   box_loss   cls_loss   dfl_loss  Instances       Size\n"
          ]
        },
        {
          "output_type": "stream",
          "name": "stderr",
          "text": [
            "      11/50      3.89G      0.671     0.5759      1.026         25        640: 100%|██████████| 44/44 [00:26<00:00,  1.63it/s]\n",
            "                 Class     Images  Instances      Box(P          R      mAP50  mAP50-95): 100%|██████████| 7/7 [00:05<00:00,  1.22it/s]"
          ]
        },
        {
          "output_type": "stream",
          "name": "stdout",
          "text": [
            "                   all        198        235       0.49      0.462      0.414      0.276\n"
          ]
        },
        {
          "output_type": "stream",
          "name": "stderr",
          "text": [
            "\n"
          ]
        },
        {
          "output_type": "stream",
          "name": "stdout",
          "text": [
            "\n",
            "      Epoch    GPU_mem   box_loss   cls_loss   dfl_loss  Instances       Size\n"
          ]
        },
        {
          "output_type": "stream",
          "name": "stderr",
          "text": [
            "      12/50      3.85G     0.6685     0.5623       1.03         29        640: 100%|██████████| 44/44 [00:24<00:00,  1.83it/s]\n",
            "                 Class     Images  Instances      Box(P          R      mAP50  mAP50-95): 100%|██████████| 7/7 [00:03<00:00,  2.16it/s]"
          ]
        },
        {
          "output_type": "stream",
          "name": "stdout",
          "text": [
            "                   all        198        235      0.531      0.429      0.417       0.26\n"
          ]
        },
        {
          "output_type": "stream",
          "name": "stderr",
          "text": [
            "\n"
          ]
        },
        {
          "output_type": "stream",
          "name": "stdout",
          "text": [
            "\n",
            "      Epoch    GPU_mem   box_loss   cls_loss   dfl_loss  Instances       Size\n"
          ]
        },
        {
          "output_type": "stream",
          "name": "stderr",
          "text": [
            "      13/50      3.87G     0.6813     0.5658      1.038         26        640: 100%|██████████| 44/44 [00:26<00:00,  1.66it/s]\n",
            "                 Class     Images  Instances      Box(P          R      mAP50  mAP50-95): 100%|██████████| 7/7 [00:02<00:00,  2.41it/s]"
          ]
        },
        {
          "output_type": "stream",
          "name": "stdout",
          "text": [
            "                   all        198        235      0.546      0.404      0.432      0.282\n"
          ]
        },
        {
          "output_type": "stream",
          "name": "stderr",
          "text": [
            "\n"
          ]
        },
        {
          "output_type": "stream",
          "name": "stdout",
          "text": [
            "\n",
            "      Epoch    GPU_mem   box_loss   cls_loss   dfl_loss  Instances       Size\n"
          ]
        },
        {
          "output_type": "stream",
          "name": "stderr",
          "text": [
            "      14/50      3.86G     0.6671     0.5523      1.028         24        640: 100%|██████████| 44/44 [00:26<00:00,  1.64it/s]\n",
            "                 Class     Images  Instances      Box(P          R      mAP50  mAP50-95): 100%|██████████| 7/7 [00:03<00:00,  2.13it/s]"
          ]
        },
        {
          "output_type": "stream",
          "name": "stdout",
          "text": [
            "                   all        198        235      0.589      0.412      0.414      0.265\n"
          ]
        },
        {
          "output_type": "stream",
          "name": "stderr",
          "text": [
            "\n"
          ]
        },
        {
          "output_type": "stream",
          "name": "stdout",
          "text": [
            "\n",
            "      Epoch    GPU_mem   box_loss   cls_loss   dfl_loss  Instances       Size\n"
          ]
        },
        {
          "output_type": "stream",
          "name": "stderr",
          "text": [
            "      15/50      4.03G     0.6767     0.5714      1.042         18        640: 100%|██████████| 44/44 [00:25<00:00,  1.70it/s]\n",
            "                 Class     Images  Instances      Box(P          R      mAP50  mAP50-95): 100%|██████████| 7/7 [00:05<00:00,  1.31it/s]"
          ]
        },
        {
          "output_type": "stream",
          "name": "stdout",
          "text": [
            "                   all        198        235      0.524      0.461      0.434      0.282\n"
          ]
        },
        {
          "output_type": "stream",
          "name": "stderr",
          "text": [
            "\n"
          ]
        },
        {
          "output_type": "stream",
          "name": "stdout",
          "text": [
            "\n",
            "      Epoch    GPU_mem   box_loss   cls_loss   dfl_loss  Instances       Size\n"
          ]
        },
        {
          "output_type": "stream",
          "name": "stderr",
          "text": [
            "      16/50      3.86G     0.6765     0.5485      1.026         26        640: 100%|██████████| 44/44 [00:24<00:00,  1.78it/s]\n",
            "                 Class     Images  Instances      Box(P          R      mAP50  mAP50-95): 100%|██████████| 7/7 [00:04<00:00,  1.67it/s]"
          ]
        },
        {
          "output_type": "stream",
          "name": "stdout",
          "text": [
            "                   all        198        235      0.685       0.41      0.474       0.31\n"
          ]
        },
        {
          "output_type": "stream",
          "name": "stderr",
          "text": [
            "\n"
          ]
        },
        {
          "output_type": "stream",
          "name": "stdout",
          "text": [
            "\n",
            "      Epoch    GPU_mem   box_loss   cls_loss   dfl_loss  Instances       Size\n"
          ]
        },
        {
          "output_type": "stream",
          "name": "stderr",
          "text": [
            "      17/50      3.87G     0.6431     0.5053      1.011         26        640: 100%|██████████| 44/44 [00:24<00:00,  1.76it/s]\n",
            "                 Class     Images  Instances      Box(P          R      mAP50  mAP50-95): 100%|██████████| 7/7 [00:03<00:00,  2.28it/s]"
          ]
        },
        {
          "output_type": "stream",
          "name": "stdout",
          "text": [
            "                   all        198        235      0.469      0.467       0.44      0.292\n"
          ]
        },
        {
          "output_type": "stream",
          "name": "stderr",
          "text": [
            "\n"
          ]
        },
        {
          "output_type": "stream",
          "name": "stdout",
          "text": [
            "\n",
            "      Epoch    GPU_mem   box_loss   cls_loss   dfl_loss  Instances       Size\n"
          ]
        },
        {
          "output_type": "stream",
          "name": "stderr",
          "text": [
            "      18/50      3.84G     0.6438     0.5341      1.005         42        640: 100%|██████████| 44/44 [00:27<00:00,  1.61it/s]\n",
            "                 Class     Images  Instances      Box(P          R      mAP50  mAP50-95): 100%|██████████| 7/7 [00:03<00:00,  2.20it/s]"
          ]
        },
        {
          "output_type": "stream",
          "name": "stdout",
          "text": [
            "                   all        198        235      0.522      0.401      0.413      0.268\n"
          ]
        },
        {
          "output_type": "stream",
          "name": "stderr",
          "text": [
            "\n"
          ]
        },
        {
          "output_type": "stream",
          "name": "stdout",
          "text": [
            "\n",
            "      Epoch    GPU_mem   box_loss   cls_loss   dfl_loss  Instances       Size\n"
          ]
        },
        {
          "output_type": "stream",
          "name": "stderr",
          "text": [
            "      19/50      3.82G     0.6386     0.5464      1.021         32        640: 100%|██████████| 44/44 [00:24<00:00,  1.76it/s]\n",
            "                 Class     Images  Instances      Box(P          R      mAP50  mAP50-95): 100%|██████████| 7/7 [00:05<00:00,  1.21it/s]"
          ]
        },
        {
          "output_type": "stream",
          "name": "stdout",
          "text": [
            "                   all        198        235      0.529      0.412      0.423      0.278\n"
          ]
        },
        {
          "output_type": "stream",
          "name": "stderr",
          "text": [
            "\n"
          ]
        },
        {
          "output_type": "stream",
          "name": "stdout",
          "text": [
            "\n",
            "      Epoch    GPU_mem   box_loss   cls_loss   dfl_loss  Instances       Size\n"
          ]
        },
        {
          "output_type": "stream",
          "name": "stderr",
          "text": [
            "      20/50      4.03G     0.6376     0.5158      1.005         21        640: 100%|██████████| 44/44 [00:24<00:00,  1.82it/s]\n",
            "                 Class     Images  Instances      Box(P          R      mAP50  mAP50-95): 100%|██████████| 7/7 [00:03<00:00,  1.79it/s]\n"
          ]
        },
        {
          "output_type": "stream",
          "name": "stdout",
          "text": [
            "                   all        198        235      0.669      0.354      0.423      0.265\n",
            "\n",
            "      Epoch    GPU_mem   box_loss   cls_loss   dfl_loss  Instances       Size\n"
          ]
        },
        {
          "output_type": "stream",
          "name": "stderr",
          "text": [
            "      21/50      3.84G     0.6315       0.53      1.019         15        640: 100%|██████████| 44/44 [00:25<00:00,  1.75it/s]\n",
            "                 Class     Images  Instances      Box(P          R      mAP50  mAP50-95): 100%|██████████| 7/7 [00:02<00:00,  2.44it/s]"
          ]
        },
        {
          "output_type": "stream",
          "name": "stdout",
          "text": [
            "                   all        198        235      0.513      0.441      0.447      0.296\n"
          ]
        },
        {
          "output_type": "stream",
          "name": "stderr",
          "text": [
            "\n"
          ]
        },
        {
          "output_type": "stream",
          "name": "stdout",
          "text": [
            "\n",
            "      Epoch    GPU_mem   box_loss   cls_loss   dfl_loss  Instances       Size\n"
          ]
        },
        {
          "output_type": "stream",
          "name": "stderr",
          "text": [
            "      22/50      3.84G     0.6471     0.4973      1.018         15        640: 100%|██████████| 44/44 [00:29<00:00,  1.50it/s]\n",
            "                 Class     Images  Instances      Box(P          R      mAP50  mAP50-95): 100%|██████████| 7/7 [00:04<00:00,  1.68it/s]"
          ]
        },
        {
          "output_type": "stream",
          "name": "stdout",
          "text": [
            "                   all        198        235      0.519      0.459      0.452      0.283\n"
          ]
        },
        {
          "output_type": "stream",
          "name": "stderr",
          "text": [
            "\n"
          ]
        },
        {
          "output_type": "stream",
          "name": "stdout",
          "text": [
            "\n",
            "      Epoch    GPU_mem   box_loss   cls_loss   dfl_loss  Instances       Size\n"
          ]
        },
        {
          "output_type": "stream",
          "name": "stderr",
          "text": [
            "      23/50      3.87G     0.6475     0.5383      1.012         33        640: 100%|██████████| 44/44 [00:24<00:00,  1.79it/s]\n",
            "                 Class     Images  Instances      Box(P          R      mAP50  mAP50-95): 100%|██████████| 7/7 [00:05<00:00,  1.26it/s]"
          ]
        },
        {
          "output_type": "stream",
          "name": "stdout",
          "text": [
            "                   all        198        235      0.476      0.444      0.435      0.287\n"
          ]
        },
        {
          "output_type": "stream",
          "name": "stderr",
          "text": [
            "\n"
          ]
        },
        {
          "output_type": "stream",
          "name": "stdout",
          "text": [
            "\n",
            "      Epoch    GPU_mem   box_loss   cls_loss   dfl_loss  Instances       Size\n"
          ]
        },
        {
          "output_type": "stream",
          "name": "stderr",
          "text": [
            "      24/50      3.86G     0.6293     0.5091      1.022         36        640: 100%|██████████| 44/44 [00:24<00:00,  1.82it/s]\n",
            "                 Class     Images  Instances      Box(P          R      mAP50  mAP50-95): 100%|██████████| 7/7 [00:03<00:00,  2.02it/s]"
          ]
        },
        {
          "output_type": "stream",
          "name": "stdout",
          "text": [
            "                   all        198        235      0.529      0.427      0.453      0.297\n"
          ]
        },
        {
          "output_type": "stream",
          "name": "stderr",
          "text": [
            "\n"
          ]
        },
        {
          "output_type": "stream",
          "name": "stdout",
          "text": [
            "\n",
            "      Epoch    GPU_mem   box_loss   cls_loss   dfl_loss  Instances       Size\n"
          ]
        },
        {
          "output_type": "stream",
          "name": "stderr",
          "text": [
            "      25/50      4.01G     0.6088     0.4991     0.9974         35        640: 100%|██████████| 44/44 [00:25<00:00,  1.71it/s]\n",
            "                 Class     Images  Instances      Box(P          R      mAP50  mAP50-95): 100%|██████████| 7/7 [00:03<00:00,  2.21it/s]"
          ]
        },
        {
          "output_type": "stream",
          "name": "stdout",
          "text": [
            "                   all        198        235      0.534      0.443      0.455      0.312\n"
          ]
        },
        {
          "output_type": "stream",
          "name": "stderr",
          "text": [
            "\n"
          ]
        },
        {
          "output_type": "stream",
          "name": "stdout",
          "text": [
            "\n",
            "      Epoch    GPU_mem   box_loss   cls_loss   dfl_loss  Instances       Size\n"
          ]
        },
        {
          "output_type": "stream",
          "name": "stderr",
          "text": [
            "      26/50      3.86G     0.6096     0.4836     0.9992         14        640: 100%|██████████| 44/44 [00:26<00:00,  1.66it/s]\n",
            "                 Class     Images  Instances      Box(P          R      mAP50  mAP50-95): 100%|██████████| 7/7 [00:02<00:00,  2.35it/s]"
          ]
        },
        {
          "output_type": "stream",
          "name": "stdout",
          "text": [
            "                   all        198        235      0.619      0.429       0.47      0.322\n"
          ]
        },
        {
          "output_type": "stream",
          "name": "stderr",
          "text": [
            "\n"
          ]
        },
        {
          "output_type": "stream",
          "name": "stdout",
          "text": [
            "\n",
            "      Epoch    GPU_mem   box_loss   cls_loss   dfl_loss  Instances       Size\n"
          ]
        },
        {
          "output_type": "stream",
          "name": "stderr",
          "text": [
            "      27/50      3.84G     0.5968     0.4849     0.9941         25        640: 100%|██████████| 44/44 [00:25<00:00,  1.75it/s]\n",
            "                 Class     Images  Instances      Box(P          R      mAP50  mAP50-95): 100%|██████████| 7/7 [00:04<00:00,  1.43it/s]"
          ]
        },
        {
          "output_type": "stream",
          "name": "stdout",
          "text": [
            "                   all        198        235       0.65      0.444      0.492      0.339\n"
          ]
        },
        {
          "output_type": "stream",
          "name": "stderr",
          "text": [
            "\n"
          ]
        },
        {
          "output_type": "stream",
          "name": "stdout",
          "text": [
            "\n",
            "      Epoch    GPU_mem   box_loss   cls_loss   dfl_loss  Instances       Size\n"
          ]
        },
        {
          "output_type": "stream",
          "name": "stderr",
          "text": [
            "      28/50      3.86G     0.5793     0.4543     0.9766         36        640: 100%|██████████| 44/44 [00:24<00:00,  1.83it/s]\n",
            "                 Class     Images  Instances      Box(P          R      mAP50  mAP50-95): 100%|██████████| 7/7 [00:03<00:00,  1.99it/s]"
          ]
        },
        {
          "output_type": "stream",
          "name": "stdout",
          "text": [
            "                   all        198        235      0.548      0.452      0.461      0.312\n"
          ]
        },
        {
          "output_type": "stream",
          "name": "stderr",
          "text": [
            "\n"
          ]
        },
        {
          "output_type": "stream",
          "name": "stdout",
          "text": [
            "\n",
            "      Epoch    GPU_mem   box_loss   cls_loss   dfl_loss  Instances       Size\n"
          ]
        },
        {
          "output_type": "stream",
          "name": "stderr",
          "text": [
            "      29/50      3.87G     0.5772     0.4505     0.9849         37        640: 100%|██████████| 44/44 [00:25<00:00,  1.74it/s]\n",
            "                 Class     Images  Instances      Box(P          R      mAP50  mAP50-95): 100%|██████████| 7/7 [00:03<00:00,  2.08it/s]"
          ]
        },
        {
          "output_type": "stream",
          "name": "stdout",
          "text": [
            "                   all        198        235      0.573      0.422      0.439      0.294\n"
          ]
        },
        {
          "output_type": "stream",
          "name": "stderr",
          "text": [
            "\n"
          ]
        },
        {
          "output_type": "stream",
          "name": "stdout",
          "text": [
            "\n",
            "      Epoch    GPU_mem   box_loss   cls_loss   dfl_loss  Instances       Size\n"
          ]
        },
        {
          "output_type": "stream",
          "name": "stderr",
          "text": [
            "      30/50      4.01G     0.5768     0.4531     0.9867         20        640: 100%|██████████| 44/44 [00:26<00:00,  1.66it/s]\n",
            "                 Class     Images  Instances      Box(P          R      mAP50  mAP50-95): 100%|██████████| 7/7 [00:03<00:00,  2.11it/s]"
          ]
        },
        {
          "output_type": "stream",
          "name": "stdout",
          "text": [
            "                   all        198        235      0.654      0.376       0.44      0.303\n"
          ]
        },
        {
          "output_type": "stream",
          "name": "stderr",
          "text": [
            "\n"
          ]
        },
        {
          "output_type": "stream",
          "name": "stdout",
          "text": [
            "\n",
            "      Epoch    GPU_mem   box_loss   cls_loss   dfl_loss  Instances       Size\n"
          ]
        },
        {
          "output_type": "stream",
          "name": "stderr",
          "text": [
            "      31/50      3.84G     0.5847     0.4598     0.9864         20        640: 100%|██████████| 44/44 [00:24<00:00,  1.78it/s]\n",
            "                 Class     Images  Instances      Box(P          R      mAP50  mAP50-95): 100%|██████████| 7/7 [00:05<00:00,  1.39it/s]"
          ]
        },
        {
          "output_type": "stream",
          "name": "stdout",
          "text": [
            "                   all        198        235      0.603      0.388      0.469      0.326\n"
          ]
        },
        {
          "output_type": "stream",
          "name": "stderr",
          "text": [
            "\n"
          ]
        },
        {
          "output_type": "stream",
          "name": "stdout",
          "text": [
            "\n",
            "      Epoch    GPU_mem   box_loss   cls_loss   dfl_loss  Instances       Size\n"
          ]
        },
        {
          "output_type": "stream",
          "name": "stderr",
          "text": [
            "      32/50      3.87G     0.5652     0.4488     0.9838         28        640: 100%|██████████| 44/44 [00:24<00:00,  1.82it/s]\n",
            "                 Class     Images  Instances      Box(P          R      mAP50  mAP50-95): 100%|██████████| 7/7 [00:03<00:00,  2.24it/s]"
          ]
        },
        {
          "output_type": "stream",
          "name": "stdout",
          "text": [
            "                   all        198        235      0.548      0.419      0.473      0.324\n"
          ]
        },
        {
          "output_type": "stream",
          "name": "stderr",
          "text": [
            "\n"
          ]
        },
        {
          "output_type": "stream",
          "name": "stdout",
          "text": [
            "\n",
            "      Epoch    GPU_mem   box_loss   cls_loss   dfl_loss  Instances       Size\n"
          ]
        },
        {
          "output_type": "stream",
          "name": "stderr",
          "text": [
            "      33/50      3.87G     0.5466     0.4313     0.9593         40        640: 100%|██████████| 44/44 [00:26<00:00,  1.68it/s]\n",
            "                 Class     Images  Instances      Box(P          R      mAP50  mAP50-95): 100%|██████████| 7/7 [00:03<00:00,  2.01it/s]"
          ]
        },
        {
          "output_type": "stream",
          "name": "stdout",
          "text": [
            "                   all        198        235      0.565      0.475      0.458      0.318\n"
          ]
        },
        {
          "output_type": "stream",
          "name": "stderr",
          "text": [
            "\n"
          ]
        },
        {
          "output_type": "stream",
          "name": "stdout",
          "text": [
            "\n",
            "      Epoch    GPU_mem   box_loss   cls_loss   dfl_loss  Instances       Size\n"
          ]
        },
        {
          "output_type": "stream",
          "name": "stderr",
          "text": [
            "      34/50      3.84G     0.5305     0.4261     0.9487         24        640: 100%|██████████| 44/44 [00:28<00:00,  1.56it/s]\n",
            "                 Class     Images  Instances      Box(P          R      mAP50  mAP50-95): 100%|██████████| 7/7 [00:02<00:00,  2.52it/s]"
          ]
        },
        {
          "output_type": "stream",
          "name": "stdout",
          "text": [
            "                   all        198        235      0.477      0.466      0.457      0.313\n"
          ]
        },
        {
          "output_type": "stream",
          "name": "stderr",
          "text": [
            "\n"
          ]
        },
        {
          "output_type": "stream",
          "name": "stdout",
          "text": [
            "\n",
            "      Epoch    GPU_mem   box_loss   cls_loss   dfl_loss  Instances       Size\n"
          ]
        },
        {
          "output_type": "stream",
          "name": "stderr",
          "text": [
            "      35/50      4.03G     0.5748     0.4611      0.989         27        640: 100%|██████████| 44/44 [00:25<00:00,  1.76it/s]\n",
            "                 Class     Images  Instances      Box(P          R      mAP50  mAP50-95): 100%|██████████| 7/7 [00:05<00:00,  1.35it/s]"
          ]
        },
        {
          "output_type": "stream",
          "name": "stdout",
          "text": [
            "                   all        198        235      0.634      0.433      0.475      0.304\n"
          ]
        },
        {
          "output_type": "stream",
          "name": "stderr",
          "text": [
            "\n"
          ]
        },
        {
          "output_type": "stream",
          "name": "stdout",
          "text": [
            "\n",
            "      Epoch    GPU_mem   box_loss   cls_loss   dfl_loss  Instances       Size\n"
          ]
        },
        {
          "output_type": "stream",
          "name": "stderr",
          "text": [
            "      36/50      3.87G     0.5408     0.4253     0.9611         23        640: 100%|██████████| 44/44 [00:23<00:00,  1.84it/s]\n",
            "                 Class     Images  Instances      Box(P          R      mAP50  mAP50-95): 100%|██████████| 7/7 [00:02<00:00,  2.48it/s]"
          ]
        },
        {
          "output_type": "stream",
          "name": "stdout",
          "text": [
            "                   all        198        235       0.63      0.398       0.44      0.291\n"
          ]
        },
        {
          "output_type": "stream",
          "name": "stderr",
          "text": [
            "\n"
          ]
        },
        {
          "output_type": "stream",
          "name": "stdout",
          "text": [
            "\n",
            "      Epoch    GPU_mem   box_loss   cls_loss   dfl_loss  Instances       Size\n"
          ]
        },
        {
          "output_type": "stream",
          "name": "stderr",
          "text": [
            "      37/50      3.86G     0.5101     0.4027     0.9434         23        640: 100%|██████████| 44/44 [00:25<00:00,  1.69it/s]\n",
            "                 Class     Images  Instances      Box(P          R      mAP50  mAP50-95): 100%|██████████| 7/7 [00:02<00:00,  2.37it/s]"
          ]
        },
        {
          "output_type": "stream",
          "name": "stdout",
          "text": [
            "                   all        198        235      0.506      0.474      0.472      0.316\n"
          ]
        },
        {
          "output_type": "stream",
          "name": "stderr",
          "text": [
            "\n"
          ]
        },
        {
          "output_type": "stream",
          "name": "stdout",
          "text": [
            "\n",
            "      Epoch    GPU_mem   box_loss   cls_loss   dfl_loss  Instances       Size\n"
          ]
        },
        {
          "output_type": "stream",
          "name": "stderr",
          "text": [
            "      38/50      3.84G     0.5008     0.3989     0.9492         23        640: 100%|██████████| 44/44 [00:27<00:00,  1.62it/s]\n",
            "                 Class     Images  Instances      Box(P          R      mAP50  mAP50-95): 100%|██████████| 7/7 [00:03<00:00,  2.14it/s]"
          ]
        },
        {
          "output_type": "stream",
          "name": "stdout",
          "text": [
            "                   all        198        235      0.523      0.454      0.486       0.33\n"
          ]
        },
        {
          "output_type": "stream",
          "name": "stderr",
          "text": [
            "\n"
          ]
        },
        {
          "output_type": "stream",
          "name": "stdout",
          "text": [
            "\n",
            "      Epoch    GPU_mem   box_loss   cls_loss   dfl_loss  Instances       Size\n"
          ]
        },
        {
          "output_type": "stream",
          "name": "stderr",
          "text": [
            "      39/50      3.84G      0.521     0.3922     0.9537         20        640: 100%|██████████| 44/44 [00:24<00:00,  1.82it/s]\n",
            "                 Class     Images  Instances      Box(P          R      mAP50  mAP50-95): 100%|██████████| 7/7 [00:05<00:00,  1.35it/s]"
          ]
        },
        {
          "output_type": "stream",
          "name": "stdout",
          "text": [
            "                   all        198        235       0.69      0.427      0.511      0.338\n"
          ]
        },
        {
          "output_type": "stream",
          "name": "stderr",
          "text": [
            "\n"
          ]
        },
        {
          "output_type": "stream",
          "name": "stdout",
          "text": [
            "\n",
            "      Epoch    GPU_mem   box_loss   cls_loss   dfl_loss  Instances       Size\n"
          ]
        },
        {
          "output_type": "stream",
          "name": "stderr",
          "text": [
            "      40/50      4.02G     0.5002     0.3897     0.9507         31        640: 100%|██████████| 44/44 [00:23<00:00,  1.84it/s]\n",
            "                 Class     Images  Instances      Box(P          R      mAP50  mAP50-95): 100%|██████████| 7/7 [00:03<00:00,  2.07it/s]\n"
          ]
        },
        {
          "output_type": "stream",
          "name": "stdout",
          "text": [
            "                   all        198        235      0.614      0.458      0.507      0.342\n",
            "Closing dataloader mosaic\n",
            "\u001b[34m\u001b[1malbumentations: \u001b[0mBlur(p=0.01, blur_limit=(3, 7)), MedianBlur(p=0.01, blur_limit=(3, 7)), ToGray(p=0.01, num_output_channels=3, method='weighted_average'), CLAHE(p=0.01, clip_limit=(1.0, 4.0), tile_grid_size=(8, 8))\n",
            "\n",
            "      Epoch    GPU_mem   box_loss   cls_loss   dfl_loss  Instances       Size\n"
          ]
        },
        {
          "output_type": "stream",
          "name": "stderr",
          "text": [
            "      41/50      3.85G     0.4451     0.3116     0.8851         11        640: 100%|██████████| 44/44 [00:26<00:00,  1.64it/s]\n",
            "                 Class     Images  Instances      Box(P          R      mAP50  mAP50-95): 100%|██████████| 7/7 [00:02<00:00,  2.42it/s]"
          ]
        },
        {
          "output_type": "stream",
          "name": "stdout",
          "text": [
            "                   all        198        235      0.599      0.435      0.488      0.326\n"
          ]
        },
        {
          "output_type": "stream",
          "name": "stderr",
          "text": [
            "\n"
          ]
        },
        {
          "output_type": "stream",
          "name": "stdout",
          "text": [
            "\n",
            "      Epoch    GPU_mem   box_loss   cls_loss   dfl_loss  Instances       Size\n"
          ]
        },
        {
          "output_type": "stream",
          "name": "stderr",
          "text": [
            "      42/50      3.85G     0.4184     0.3065     0.8719         16        640: 100%|██████████| 44/44 [00:25<00:00,  1.71it/s]\n",
            "                 Class     Images  Instances      Box(P          R      mAP50  mAP50-95): 100%|██████████| 7/7 [00:03<00:00,  2.26it/s]"
          ]
        },
        {
          "output_type": "stream",
          "name": "stdout",
          "text": [
            "                   all        198        235      0.723      0.403      0.475      0.331\n"
          ]
        },
        {
          "output_type": "stream",
          "name": "stderr",
          "text": [
            "\n"
          ]
        },
        {
          "output_type": "stream",
          "name": "stdout",
          "text": [
            "\n",
            "      Epoch    GPU_mem   box_loss   cls_loss   dfl_loss  Instances       Size\n"
          ]
        },
        {
          "output_type": "stream",
          "name": "stderr",
          "text": [
            "      43/50      3.84G     0.4141     0.3074     0.8678         12        640: 100%|██████████| 44/44 [00:24<00:00,  1.78it/s]\n",
            "                 Class     Images  Instances      Box(P          R      mAP50  mAP50-95): 100%|██████████| 7/7 [00:05<00:00,  1.27it/s]"
          ]
        },
        {
          "output_type": "stream",
          "name": "stdout",
          "text": [
            "                   all        198        235      0.718      0.391      0.485      0.329\n"
          ]
        },
        {
          "output_type": "stream",
          "name": "stderr",
          "text": [
            "\n"
          ]
        },
        {
          "output_type": "stream",
          "name": "stdout",
          "text": [
            "\n",
            "      Epoch    GPU_mem   box_loss   cls_loss   dfl_loss  Instances       Size\n"
          ]
        },
        {
          "output_type": "stream",
          "name": "stderr",
          "text": [
            "      44/50      3.85G     0.4068     0.2765     0.8648         18        640: 100%|██████████| 44/44 [00:23<00:00,  1.88it/s]\n",
            "                 Class     Images  Instances      Box(P          R      mAP50  mAP50-95): 100%|██████████| 7/7 [00:03<00:00,  2.16it/s]"
          ]
        },
        {
          "output_type": "stream",
          "name": "stdout",
          "text": [
            "                   all        198        235      0.738      0.364      0.473      0.323\n"
          ]
        },
        {
          "output_type": "stream",
          "name": "stderr",
          "text": [
            "\n"
          ]
        },
        {
          "output_type": "stream",
          "name": "stdout",
          "text": [
            "\n",
            "      Epoch    GPU_mem   box_loss   cls_loss   dfl_loss  Instances       Size\n"
          ]
        },
        {
          "output_type": "stream",
          "name": "stderr",
          "text": [
            "      45/50      4.01G     0.3738     0.2611     0.8417         25        640: 100%|██████████| 44/44 [00:29<00:00,  1.49it/s]\n",
            "                 Class     Images  Instances      Box(P          R      mAP50  mAP50-95): 100%|██████████| 7/7 [00:02<00:00,  2.48it/s]"
          ]
        },
        {
          "output_type": "stream",
          "name": "stdout",
          "text": [
            "                   all        198        235      0.659      0.365      0.471      0.326\n"
          ]
        },
        {
          "output_type": "stream",
          "name": "stderr",
          "text": [
            "\n"
          ]
        },
        {
          "output_type": "stream",
          "name": "stdout",
          "text": [
            "\n",
            "      Epoch    GPU_mem   box_loss   cls_loss   dfl_loss  Instances       Size\n"
          ]
        },
        {
          "output_type": "stream",
          "name": "stderr",
          "text": [
            "      46/50      3.85G     0.3711     0.2665     0.8469          7        640: 100%|██████████| 44/44 [00:27<00:00,  1.60it/s]\n",
            "                 Class     Images  Instances      Box(P          R      mAP50  mAP50-95): 100%|██████████| 7/7 [00:03<00:00,  2.29it/s]"
          ]
        },
        {
          "output_type": "stream",
          "name": "stdout",
          "text": [
            "                   all        198        235       0.64      0.414      0.498       0.33\n"
          ]
        },
        {
          "output_type": "stream",
          "name": "stderr",
          "text": [
            "\n"
          ]
        },
        {
          "output_type": "stream",
          "name": "stdout",
          "text": [
            "\n",
            "      Epoch    GPU_mem   box_loss   cls_loss   dfl_loss  Instances       Size\n"
          ]
        },
        {
          "output_type": "stream",
          "name": "stderr",
          "text": [
            "      47/50      3.85G     0.3806     0.2806     0.8602         11        640: 100%|██████████| 44/44 [00:25<00:00,  1.76it/s]\n",
            "                 Class     Images  Instances      Box(P          R      mAP50  mAP50-95): 100%|██████████| 7/7 [00:05<00:00,  1.31it/s]"
          ]
        },
        {
          "output_type": "stream",
          "name": "stdout",
          "text": [
            "                   all        198        235      0.688      0.427       0.52       0.35\n"
          ]
        },
        {
          "output_type": "stream",
          "name": "stderr",
          "text": [
            "\n"
          ]
        },
        {
          "output_type": "stream",
          "name": "stdout",
          "text": [
            "\n",
            "      Epoch    GPU_mem   box_loss   cls_loss   dfl_loss  Instances       Size\n"
          ]
        },
        {
          "output_type": "stream",
          "name": "stderr",
          "text": [
            "      48/50      3.85G     0.3695     0.2595     0.8413         16        640: 100%|██████████| 44/44 [00:23<00:00,  1.86it/s]\n",
            "                 Class     Images  Instances      Box(P          R      mAP50  mAP50-95): 100%|██████████| 7/7 [00:03<00:00,  2.29it/s]"
          ]
        },
        {
          "output_type": "stream",
          "name": "stdout",
          "text": [
            "                   all        198        235      0.685      0.432      0.509      0.349\n"
          ]
        },
        {
          "output_type": "stream",
          "name": "stderr",
          "text": [
            "\n"
          ]
        },
        {
          "output_type": "stream",
          "name": "stdout",
          "text": [
            "\n",
            "      Epoch    GPU_mem   box_loss   cls_loss   dfl_loss  Instances       Size\n"
          ]
        },
        {
          "output_type": "stream",
          "name": "stderr",
          "text": [
            "      49/50      3.85G     0.3512     0.2558     0.8398         10        640: 100%|██████████| 44/44 [00:26<00:00,  1.67it/s]\n",
            "                 Class     Images  Instances      Box(P          R      mAP50  mAP50-95): 100%|██████████| 7/7 [00:02<00:00,  2.54it/s]"
          ]
        },
        {
          "output_type": "stream",
          "name": "stdout",
          "text": [
            "                   all        198        235      0.671      0.434      0.508      0.347\n"
          ]
        },
        {
          "output_type": "stream",
          "name": "stderr",
          "text": [
            "\n"
          ]
        },
        {
          "output_type": "stream",
          "name": "stdout",
          "text": [
            "\n",
            "      Epoch    GPU_mem   box_loss   cls_loss   dfl_loss  Instances       Size\n"
          ]
        },
        {
          "output_type": "stream",
          "name": "stderr",
          "text": [
            "      50/50      4.03G     0.3528     0.2524     0.8411         22        640: 100%|██████████| 44/44 [00:25<00:00,  1.73it/s]\n",
            "                 Class     Images  Instances      Box(P          R      mAP50  mAP50-95): 100%|██████████| 7/7 [00:04<00:00,  1.52it/s]"
          ]
        },
        {
          "output_type": "stream",
          "name": "stdout",
          "text": [
            "                   all        198        235      0.703      0.411      0.504      0.346\n"
          ]
        },
        {
          "output_type": "stream",
          "name": "stderr",
          "text": [
            "\n"
          ]
        },
        {
          "output_type": "stream",
          "name": "stdout",
          "text": [
            "\n",
            "50 epochs completed in 0.441 hours.\n",
            "Optimizer stripped from runs/detect/train/weights/last.pt, 22.5MB\n",
            "Optimizer stripped from runs/detect/train/weights/best.pt, 22.5MB\n",
            "\n",
            "Validating runs/detect/train/weights/best.pt...\n",
            "Ultralytics 8.3.35 🚀 Python-3.10.12 torch-2.5.1+cu121 CUDA:0 (Tesla T4, 15102MiB)\n",
            "Model summary (fused): 168 layers, 11,126,745 parameters, 0 gradients, 28.4 GFLOPs\n"
          ]
        },
        {
          "output_type": "stream",
          "name": "stderr",
          "text": [
            "                 Class     Images  Instances      Box(P          R      mAP50  mAP50-95): 100%|██████████| 7/7 [00:03<00:00,  1.88it/s]\n"
          ]
        },
        {
          "output_type": "stream",
          "name": "stdout",
          "text": [
            "                   all        198        235      0.686      0.427      0.521      0.348\n",
            "               rubbish         86        162       0.52      0.346      0.405      0.224\n",
            "              mattress         17         21      0.755      0.381       0.52      0.383\n",
            "             furniture         31         52      0.783      0.556      0.638      0.438\n",
            "Speed: 0.2ms preprocess, 4.4ms inference, 0.0ms loss, 2.5ms postprocess per image\n",
            "Results saved to \u001b[1mruns/detect/train\u001b[0m\n"
          ]
        },
        {
          "output_type": "execute_result",
          "data": {
            "text/plain": [
              "ultralytics.utils.metrics.DetMetrics object with attributes:\n",
              "\n",
              "ap_class_index: array([0, 1, 2])\n",
              "box: ultralytics.utils.metrics.Metric object\n",
              "confusion_matrix: <ultralytics.utils.metrics.ConfusionMatrix object at 0x7b051da8fe80>\n",
              "curves: ['Precision-Recall(B)', 'F1-Confidence(B)', 'Precision-Confidence(B)', 'Recall-Confidence(B)']\n",
              "curves_results: [[array([          0,    0.001001,    0.002002,    0.003003,    0.004004,    0.005005,    0.006006,    0.007007,    0.008008,    0.009009,     0.01001,    0.011011,    0.012012,    0.013013,    0.014014,    0.015015,    0.016016,    0.017017,    0.018018,    0.019019,     0.02002,    0.021021,    0.022022,    0.023023,\n",
              "          0.024024,    0.025025,    0.026026,    0.027027,    0.028028,    0.029029,     0.03003,    0.031031,    0.032032,    0.033033,    0.034034,    0.035035,    0.036036,    0.037037,    0.038038,    0.039039,     0.04004,    0.041041,    0.042042,    0.043043,    0.044044,    0.045045,    0.046046,    0.047047,\n",
              "          0.048048,    0.049049,     0.05005,    0.051051,    0.052052,    0.053053,    0.054054,    0.055055,    0.056056,    0.057057,    0.058058,    0.059059,     0.06006,    0.061061,    0.062062,    0.063063,    0.064064,    0.065065,    0.066066,    0.067067,    0.068068,    0.069069,     0.07007,    0.071071,\n",
              "          0.072072,    0.073073,    0.074074,    0.075075,    0.076076,    0.077077,    0.078078,    0.079079,     0.08008,    0.081081,    0.082082,    0.083083,    0.084084,    0.085085,    0.086086,    0.087087,    0.088088,    0.089089,     0.09009,    0.091091,    0.092092,    0.093093,    0.094094,    0.095095,\n",
              "          0.096096,    0.097097,    0.098098,    0.099099,      0.1001,      0.1011,      0.1021,      0.1031,      0.1041,     0.10511,     0.10611,     0.10711,     0.10811,     0.10911,     0.11011,     0.11111,     0.11211,     0.11311,     0.11411,     0.11512,     0.11612,     0.11712,     0.11812,     0.11912,\n",
              "           0.12012,     0.12112,     0.12212,     0.12312,     0.12412,     0.12513,     0.12613,     0.12713,     0.12813,     0.12913,     0.13013,     0.13113,     0.13213,     0.13313,     0.13413,     0.13514,     0.13614,     0.13714,     0.13814,     0.13914,     0.14014,     0.14114,     0.14214,     0.14314,\n",
              "           0.14414,     0.14515,     0.14615,     0.14715,     0.14815,     0.14915,     0.15015,     0.15115,     0.15215,     0.15315,     0.15415,     0.15516,     0.15616,     0.15716,     0.15816,     0.15916,     0.16016,     0.16116,     0.16216,     0.16316,     0.16416,     0.16517,     0.16617,     0.16717,\n",
              "           0.16817,     0.16917,     0.17017,     0.17117,     0.17217,     0.17317,     0.17417,     0.17518,     0.17618,     0.17718,     0.17818,     0.17918,     0.18018,     0.18118,     0.18218,     0.18318,     0.18418,     0.18519,     0.18619,     0.18719,     0.18819,     0.18919,     0.19019,     0.19119,\n",
              "           0.19219,     0.19319,     0.19419,      0.1952,      0.1962,      0.1972,      0.1982,      0.1992,      0.2002,      0.2012,      0.2022,      0.2032,      0.2042,     0.20521,     0.20621,     0.20721,     0.20821,     0.20921,     0.21021,     0.21121,     0.21221,     0.21321,     0.21421,     0.21522,\n",
              "           0.21622,     0.21722,     0.21822,     0.21922,     0.22022,     0.22122,     0.22222,     0.22322,     0.22422,     0.22523,     0.22623,     0.22723,     0.22823,     0.22923,     0.23023,     0.23123,     0.23223,     0.23323,     0.23423,     0.23524,     0.23624,     0.23724,     0.23824,     0.23924,\n",
              "           0.24024,     0.24124,     0.24224,     0.24324,     0.24424,     0.24525,     0.24625,     0.24725,     0.24825,     0.24925,     0.25025,     0.25125,     0.25225,     0.25325,     0.25425,     0.25526,     0.25626,     0.25726,     0.25826,     0.25926,     0.26026,     0.26126,     0.26226,     0.26326,\n",
              "           0.26426,     0.26527,     0.26627,     0.26727,     0.26827,     0.26927,     0.27027,     0.27127,     0.27227,     0.27327,     0.27427,     0.27528,     0.27628,     0.27728,     0.27828,     0.27928,     0.28028,     0.28128,     0.28228,     0.28328,     0.28428,     0.28529,     0.28629,     0.28729,\n",
              "           0.28829,     0.28929,     0.29029,     0.29129,     0.29229,     0.29329,     0.29429,      0.2953,      0.2963,      0.2973,      0.2983,      0.2993,      0.3003,      0.3013,      0.3023,      0.3033,      0.3043,     0.30531,     0.30631,     0.30731,     0.30831,     0.30931,     0.31031,     0.31131,\n",
              "           0.31231,     0.31331,     0.31431,     0.31532,     0.31632,     0.31732,     0.31832,     0.31932,     0.32032,     0.32132,     0.32232,     0.32332,     0.32432,     0.32533,     0.32633,     0.32733,     0.32833,     0.32933,     0.33033,     0.33133,     0.33233,     0.33333,     0.33433,     0.33534,\n",
              "           0.33634,     0.33734,     0.33834,     0.33934,     0.34034,     0.34134,     0.34234,     0.34334,     0.34434,     0.34535,     0.34635,     0.34735,     0.34835,     0.34935,     0.35035,     0.35135,     0.35235,     0.35335,     0.35435,     0.35536,     0.35636,     0.35736,     0.35836,     0.35936,\n",
              "           0.36036,     0.36136,     0.36236,     0.36336,     0.36436,     0.36537,     0.36637,     0.36737,     0.36837,     0.36937,     0.37037,     0.37137,     0.37237,     0.37337,     0.37437,     0.37538,     0.37638,     0.37738,     0.37838,     0.37938,     0.38038,     0.38138,     0.38238,     0.38338,\n",
              "           0.38438,     0.38539,     0.38639,     0.38739,     0.38839,     0.38939,     0.39039,     0.39139,     0.39239,     0.39339,     0.39439,      0.3954,      0.3964,      0.3974,      0.3984,      0.3994,      0.4004,      0.4014,      0.4024,      0.4034,      0.4044,     0.40541,     0.40641,     0.40741,\n",
              "           0.40841,     0.40941,     0.41041,     0.41141,     0.41241,     0.41341,     0.41441,     0.41542,     0.41642,     0.41742,     0.41842,     0.41942,     0.42042,     0.42142,     0.42242,     0.42342,     0.42442,     0.42543,     0.42643,     0.42743,     0.42843,     0.42943,     0.43043,     0.43143,\n",
              "           0.43243,     0.43343,     0.43443,     0.43544,     0.43644,     0.43744,     0.43844,     0.43944,     0.44044,     0.44144,     0.44244,     0.44344,     0.44444,     0.44545,     0.44645,     0.44745,     0.44845,     0.44945,     0.45045,     0.45145,     0.45245,     0.45345,     0.45445,     0.45546,\n",
              "           0.45646,     0.45746,     0.45846,     0.45946,     0.46046,     0.46146,     0.46246,     0.46346,     0.46446,     0.46547,     0.46647,     0.46747,     0.46847,     0.46947,     0.47047,     0.47147,     0.47247,     0.47347,     0.47447,     0.47548,     0.47648,     0.47748,     0.47848,     0.47948,\n",
              "           0.48048,     0.48148,     0.48248,     0.48348,     0.48448,     0.48549,     0.48649,     0.48749,     0.48849,     0.48949,     0.49049,     0.49149,     0.49249,     0.49349,     0.49449,      0.4955,      0.4965,      0.4975,      0.4985,      0.4995,      0.5005,      0.5015,      0.5025,      0.5035,\n",
              "            0.5045,     0.50551,     0.50651,     0.50751,     0.50851,     0.50951,     0.51051,     0.51151,     0.51251,     0.51351,     0.51451,     0.51552,     0.51652,     0.51752,     0.51852,     0.51952,     0.52052,     0.52152,     0.52252,     0.52352,     0.52452,     0.52553,     0.52653,     0.52753,\n",
              "           0.52853,     0.52953,     0.53053,     0.53153,     0.53253,     0.53353,     0.53453,     0.53554,     0.53654,     0.53754,     0.53854,     0.53954,     0.54054,     0.54154,     0.54254,     0.54354,     0.54454,     0.54555,     0.54655,     0.54755,     0.54855,     0.54955,     0.55055,     0.55155,\n",
              "           0.55255,     0.55355,     0.55455,     0.55556,     0.55656,     0.55756,     0.55856,     0.55956,     0.56056,     0.56156,     0.56256,     0.56356,     0.56456,     0.56557,     0.56657,     0.56757,     0.56857,     0.56957,     0.57057,     0.57157,     0.57257,     0.57357,     0.57457,     0.57558,\n",
              "           0.57658,     0.57758,     0.57858,     0.57958,     0.58058,     0.58158,     0.58258,     0.58358,     0.58458,     0.58559,     0.58659,     0.58759,     0.58859,     0.58959,     0.59059,     0.59159,     0.59259,     0.59359,     0.59459,      0.5956,      0.5966,      0.5976,      0.5986,      0.5996,\n",
              "            0.6006,      0.6016,      0.6026,      0.6036,      0.6046,     0.60561,     0.60661,     0.60761,     0.60861,     0.60961,     0.61061,     0.61161,     0.61261,     0.61361,     0.61461,     0.61562,     0.61662,     0.61762,     0.61862,     0.61962,     0.62062,     0.62162,     0.62262,     0.62362,\n",
              "           0.62462,     0.62563,     0.62663,     0.62763,     0.62863,     0.62963,     0.63063,     0.63163,     0.63263,     0.63363,     0.63463,     0.63564,     0.63664,     0.63764,     0.63864,     0.63964,     0.64064,     0.64164,     0.64264,     0.64364,     0.64464,     0.64565,     0.64665,     0.64765,\n",
              "           0.64865,     0.64965,     0.65065,     0.65165,     0.65265,     0.65365,     0.65465,     0.65566,     0.65666,     0.65766,     0.65866,     0.65966,     0.66066,     0.66166,     0.66266,     0.66366,     0.66466,     0.66567,     0.66667,     0.66767,     0.66867,     0.66967,     0.67067,     0.67167,\n",
              "           0.67267,     0.67367,     0.67467,     0.67568,     0.67668,     0.67768,     0.67868,     0.67968,     0.68068,     0.68168,     0.68268,     0.68368,     0.68468,     0.68569,     0.68669,     0.68769,     0.68869,     0.68969,     0.69069,     0.69169,     0.69269,     0.69369,     0.69469,      0.6957,\n",
              "            0.6967,      0.6977,      0.6987,      0.6997,      0.7007,      0.7017,      0.7027,      0.7037,      0.7047,     0.70571,     0.70671,     0.70771,     0.70871,     0.70971,     0.71071,     0.71171,     0.71271,     0.71371,     0.71471,     0.71572,     0.71672,     0.71772,     0.71872,     0.71972,\n",
              "           0.72072,     0.72172,     0.72272,     0.72372,     0.72472,     0.72573,     0.72673,     0.72773,     0.72873,     0.72973,     0.73073,     0.73173,     0.73273,     0.73373,     0.73473,     0.73574,     0.73674,     0.73774,     0.73874,     0.73974,     0.74074,     0.74174,     0.74274,     0.74374,\n",
              "           0.74474,     0.74575,     0.74675,     0.74775,     0.74875,     0.74975,     0.75075,     0.75175,     0.75275,     0.75375,     0.75475,     0.75576,     0.75676,     0.75776,     0.75876,     0.75976,     0.76076,     0.76176,     0.76276,     0.76376,     0.76476,     0.76577,     0.76677,     0.76777,\n",
              "           0.76877,     0.76977,     0.77077,     0.77177,     0.77277,     0.77377,     0.77477,     0.77578,     0.77678,     0.77778,     0.77878,     0.77978,     0.78078,     0.78178,     0.78278,     0.78378,     0.78478,     0.78579,     0.78679,     0.78779,     0.78879,     0.78979,     0.79079,     0.79179,\n",
              "           0.79279,     0.79379,     0.79479,      0.7958,      0.7968,      0.7978,      0.7988,      0.7998,      0.8008,      0.8018,      0.8028,      0.8038,      0.8048,     0.80581,     0.80681,     0.80781,     0.80881,     0.80981,     0.81081,     0.81181,     0.81281,     0.81381,     0.81481,     0.81582,\n",
              "           0.81682,     0.81782,     0.81882,     0.81982,     0.82082,     0.82182,     0.82282,     0.82382,     0.82482,     0.82583,     0.82683,     0.82783,     0.82883,     0.82983,     0.83083,     0.83183,     0.83283,     0.83383,     0.83483,     0.83584,     0.83684,     0.83784,     0.83884,     0.83984,\n",
              "           0.84084,     0.84184,     0.84284,     0.84384,     0.84484,     0.84585,     0.84685,     0.84785,     0.84885,     0.84985,     0.85085,     0.85185,     0.85285,     0.85385,     0.85485,     0.85586,     0.85686,     0.85786,     0.85886,     0.85986,     0.86086,     0.86186,     0.86286,     0.86386,\n",
              "           0.86486,     0.86587,     0.86687,     0.86787,     0.86887,     0.86987,     0.87087,     0.87187,     0.87287,     0.87387,     0.87487,     0.87588,     0.87688,     0.87788,     0.87888,     0.87988,     0.88088,     0.88188,     0.88288,     0.88388,     0.88488,     0.88589,     0.88689,     0.88789,\n",
              "           0.88889,     0.88989,     0.89089,     0.89189,     0.89289,     0.89389,     0.89489,      0.8959,      0.8969,      0.8979,      0.8989,      0.8999,      0.9009,      0.9019,      0.9029,      0.9039,      0.9049,     0.90591,     0.90691,     0.90791,     0.90891,     0.90991,     0.91091,     0.91191,\n",
              "           0.91291,     0.91391,     0.91491,     0.91592,     0.91692,     0.91792,     0.91892,     0.91992,     0.92092,     0.92192,     0.92292,     0.92392,     0.92492,     0.92593,     0.92693,     0.92793,     0.92893,     0.92993,     0.93093,     0.93193,     0.93293,     0.93393,     0.93493,     0.93594,\n",
              "           0.93694,     0.93794,     0.93894,     0.93994,     0.94094,     0.94194,     0.94294,     0.94394,     0.94494,     0.94595,     0.94695,     0.94795,     0.94895,     0.94995,     0.95095,     0.95195,     0.95295,     0.95395,     0.95495,     0.95596,     0.95696,     0.95796,     0.95896,     0.95996,\n",
              "           0.96096,     0.96196,     0.96296,     0.96396,     0.96496,     0.96597,     0.96697,     0.96797,     0.96897,     0.96997,     0.97097,     0.97197,     0.97297,     0.97397,     0.97497,     0.97598,     0.97698,     0.97798,     0.97898,     0.97998,     0.98098,     0.98198,     0.98298,     0.98398,\n",
              "           0.98498,     0.98599,     0.98699,     0.98799,     0.98899,     0.98999,     0.99099,     0.99199,     0.99299,     0.99399,     0.99499,       0.996,       0.997,       0.998,       0.999,           1]), array([[          1,           1,           1, ...,   0.0012061,  0.00060304,           0],\n",
              "       [          1,           1,           1, ...,   0.0010351,  0.00051756,           0],\n",
              "       [          1,           1,           1, ...,   0.0018608,   0.0009304,           0]]), 'Recall', 'Precision'], [array([          0,    0.001001,    0.002002,    0.003003,    0.004004,    0.005005,    0.006006,    0.007007,    0.008008,    0.009009,     0.01001,    0.011011,    0.012012,    0.013013,    0.014014,    0.015015,    0.016016,    0.017017,    0.018018,    0.019019,     0.02002,    0.021021,    0.022022,    0.023023,\n",
              "          0.024024,    0.025025,    0.026026,    0.027027,    0.028028,    0.029029,     0.03003,    0.031031,    0.032032,    0.033033,    0.034034,    0.035035,    0.036036,    0.037037,    0.038038,    0.039039,     0.04004,    0.041041,    0.042042,    0.043043,    0.044044,    0.045045,    0.046046,    0.047047,\n",
              "          0.048048,    0.049049,     0.05005,    0.051051,    0.052052,    0.053053,    0.054054,    0.055055,    0.056056,    0.057057,    0.058058,    0.059059,     0.06006,    0.061061,    0.062062,    0.063063,    0.064064,    0.065065,    0.066066,    0.067067,    0.068068,    0.069069,     0.07007,    0.071071,\n",
              "          0.072072,    0.073073,    0.074074,    0.075075,    0.076076,    0.077077,    0.078078,    0.079079,     0.08008,    0.081081,    0.082082,    0.083083,    0.084084,    0.085085,    0.086086,    0.087087,    0.088088,    0.089089,     0.09009,    0.091091,    0.092092,    0.093093,    0.094094,    0.095095,\n",
              "          0.096096,    0.097097,    0.098098,    0.099099,      0.1001,      0.1011,      0.1021,      0.1031,      0.1041,     0.10511,     0.10611,     0.10711,     0.10811,     0.10911,     0.11011,     0.11111,     0.11211,     0.11311,     0.11411,     0.11512,     0.11612,     0.11712,     0.11812,     0.11912,\n",
              "           0.12012,     0.12112,     0.12212,     0.12312,     0.12412,     0.12513,     0.12613,     0.12713,     0.12813,     0.12913,     0.13013,     0.13113,     0.13213,     0.13313,     0.13413,     0.13514,     0.13614,     0.13714,     0.13814,     0.13914,     0.14014,     0.14114,     0.14214,     0.14314,\n",
              "           0.14414,     0.14515,     0.14615,     0.14715,     0.14815,     0.14915,     0.15015,     0.15115,     0.15215,     0.15315,     0.15415,     0.15516,     0.15616,     0.15716,     0.15816,     0.15916,     0.16016,     0.16116,     0.16216,     0.16316,     0.16416,     0.16517,     0.16617,     0.16717,\n",
              "           0.16817,     0.16917,     0.17017,     0.17117,     0.17217,     0.17317,     0.17417,     0.17518,     0.17618,     0.17718,     0.17818,     0.17918,     0.18018,     0.18118,     0.18218,     0.18318,     0.18418,     0.18519,     0.18619,     0.18719,     0.18819,     0.18919,     0.19019,     0.19119,\n",
              "           0.19219,     0.19319,     0.19419,      0.1952,      0.1962,      0.1972,      0.1982,      0.1992,      0.2002,      0.2012,      0.2022,      0.2032,      0.2042,     0.20521,     0.20621,     0.20721,     0.20821,     0.20921,     0.21021,     0.21121,     0.21221,     0.21321,     0.21421,     0.21522,\n",
              "           0.21622,     0.21722,     0.21822,     0.21922,     0.22022,     0.22122,     0.22222,     0.22322,     0.22422,     0.22523,     0.22623,     0.22723,     0.22823,     0.22923,     0.23023,     0.23123,     0.23223,     0.23323,     0.23423,     0.23524,     0.23624,     0.23724,     0.23824,     0.23924,\n",
              "           0.24024,     0.24124,     0.24224,     0.24324,     0.24424,     0.24525,     0.24625,     0.24725,     0.24825,     0.24925,     0.25025,     0.25125,     0.25225,     0.25325,     0.25425,     0.25526,     0.25626,     0.25726,     0.25826,     0.25926,     0.26026,     0.26126,     0.26226,     0.26326,\n",
              "           0.26426,     0.26527,     0.26627,     0.26727,     0.26827,     0.26927,     0.27027,     0.27127,     0.27227,     0.27327,     0.27427,     0.27528,     0.27628,     0.27728,     0.27828,     0.27928,     0.28028,     0.28128,     0.28228,     0.28328,     0.28428,     0.28529,     0.28629,     0.28729,\n",
              "           0.28829,     0.28929,     0.29029,     0.29129,     0.29229,     0.29329,     0.29429,      0.2953,      0.2963,      0.2973,      0.2983,      0.2993,      0.3003,      0.3013,      0.3023,      0.3033,      0.3043,     0.30531,     0.30631,     0.30731,     0.30831,     0.30931,     0.31031,     0.31131,\n",
              "           0.31231,     0.31331,     0.31431,     0.31532,     0.31632,     0.31732,     0.31832,     0.31932,     0.32032,     0.32132,     0.32232,     0.32332,     0.32432,     0.32533,     0.32633,     0.32733,     0.32833,     0.32933,     0.33033,     0.33133,     0.33233,     0.33333,     0.33433,     0.33534,\n",
              "           0.33634,     0.33734,     0.33834,     0.33934,     0.34034,     0.34134,     0.34234,     0.34334,     0.34434,     0.34535,     0.34635,     0.34735,     0.34835,     0.34935,     0.35035,     0.35135,     0.35235,     0.35335,     0.35435,     0.35536,     0.35636,     0.35736,     0.35836,     0.35936,\n",
              "           0.36036,     0.36136,     0.36236,     0.36336,     0.36436,     0.36537,     0.36637,     0.36737,     0.36837,     0.36937,     0.37037,     0.37137,     0.37237,     0.37337,     0.37437,     0.37538,     0.37638,     0.37738,     0.37838,     0.37938,     0.38038,     0.38138,     0.38238,     0.38338,\n",
              "           0.38438,     0.38539,     0.38639,     0.38739,     0.38839,     0.38939,     0.39039,     0.39139,     0.39239,     0.39339,     0.39439,      0.3954,      0.3964,      0.3974,      0.3984,      0.3994,      0.4004,      0.4014,      0.4024,      0.4034,      0.4044,     0.40541,     0.40641,     0.40741,\n",
              "           0.40841,     0.40941,     0.41041,     0.41141,     0.41241,     0.41341,     0.41441,     0.41542,     0.41642,     0.41742,     0.41842,     0.41942,     0.42042,     0.42142,     0.42242,     0.42342,     0.42442,     0.42543,     0.42643,     0.42743,     0.42843,     0.42943,     0.43043,     0.43143,\n",
              "           0.43243,     0.43343,     0.43443,     0.43544,     0.43644,     0.43744,     0.43844,     0.43944,     0.44044,     0.44144,     0.44244,     0.44344,     0.44444,     0.44545,     0.44645,     0.44745,     0.44845,     0.44945,     0.45045,     0.45145,     0.45245,     0.45345,     0.45445,     0.45546,\n",
              "           0.45646,     0.45746,     0.45846,     0.45946,     0.46046,     0.46146,     0.46246,     0.46346,     0.46446,     0.46547,     0.46647,     0.46747,     0.46847,     0.46947,     0.47047,     0.47147,     0.47247,     0.47347,     0.47447,     0.47548,     0.47648,     0.47748,     0.47848,     0.47948,\n",
              "           0.48048,     0.48148,     0.48248,     0.48348,     0.48448,     0.48549,     0.48649,     0.48749,     0.48849,     0.48949,     0.49049,     0.49149,     0.49249,     0.49349,     0.49449,      0.4955,      0.4965,      0.4975,      0.4985,      0.4995,      0.5005,      0.5015,      0.5025,      0.5035,\n",
              "            0.5045,     0.50551,     0.50651,     0.50751,     0.50851,     0.50951,     0.51051,     0.51151,     0.51251,     0.51351,     0.51451,     0.51552,     0.51652,     0.51752,     0.51852,     0.51952,     0.52052,     0.52152,     0.52252,     0.52352,     0.52452,     0.52553,     0.52653,     0.52753,\n",
              "           0.52853,     0.52953,     0.53053,     0.53153,     0.53253,     0.53353,     0.53453,     0.53554,     0.53654,     0.53754,     0.53854,     0.53954,     0.54054,     0.54154,     0.54254,     0.54354,     0.54454,     0.54555,     0.54655,     0.54755,     0.54855,     0.54955,     0.55055,     0.55155,\n",
              "           0.55255,     0.55355,     0.55455,     0.55556,     0.55656,     0.55756,     0.55856,     0.55956,     0.56056,     0.56156,     0.56256,     0.56356,     0.56456,     0.56557,     0.56657,     0.56757,     0.56857,     0.56957,     0.57057,     0.57157,     0.57257,     0.57357,     0.57457,     0.57558,\n",
              "           0.57658,     0.57758,     0.57858,     0.57958,     0.58058,     0.58158,     0.58258,     0.58358,     0.58458,     0.58559,     0.58659,     0.58759,     0.58859,     0.58959,     0.59059,     0.59159,     0.59259,     0.59359,     0.59459,      0.5956,      0.5966,      0.5976,      0.5986,      0.5996,\n",
              "            0.6006,      0.6016,      0.6026,      0.6036,      0.6046,     0.60561,     0.60661,     0.60761,     0.60861,     0.60961,     0.61061,     0.61161,     0.61261,     0.61361,     0.61461,     0.61562,     0.61662,     0.61762,     0.61862,     0.61962,     0.62062,     0.62162,     0.62262,     0.62362,\n",
              "           0.62462,     0.62563,     0.62663,     0.62763,     0.62863,     0.62963,     0.63063,     0.63163,     0.63263,     0.63363,     0.63463,     0.63564,     0.63664,     0.63764,     0.63864,     0.63964,     0.64064,     0.64164,     0.64264,     0.64364,     0.64464,     0.64565,     0.64665,     0.64765,\n",
              "           0.64865,     0.64965,     0.65065,     0.65165,     0.65265,     0.65365,     0.65465,     0.65566,     0.65666,     0.65766,     0.65866,     0.65966,     0.66066,     0.66166,     0.66266,     0.66366,     0.66466,     0.66567,     0.66667,     0.66767,     0.66867,     0.66967,     0.67067,     0.67167,\n",
              "           0.67267,     0.67367,     0.67467,     0.67568,     0.67668,     0.67768,     0.67868,     0.67968,     0.68068,     0.68168,     0.68268,     0.68368,     0.68468,     0.68569,     0.68669,     0.68769,     0.68869,     0.68969,     0.69069,     0.69169,     0.69269,     0.69369,     0.69469,      0.6957,\n",
              "            0.6967,      0.6977,      0.6987,      0.6997,      0.7007,      0.7017,      0.7027,      0.7037,      0.7047,     0.70571,     0.70671,     0.70771,     0.70871,     0.70971,     0.71071,     0.71171,     0.71271,     0.71371,     0.71471,     0.71572,     0.71672,     0.71772,     0.71872,     0.71972,\n",
              "           0.72072,     0.72172,     0.72272,     0.72372,     0.72472,     0.72573,     0.72673,     0.72773,     0.72873,     0.72973,     0.73073,     0.73173,     0.73273,     0.73373,     0.73473,     0.73574,     0.73674,     0.73774,     0.73874,     0.73974,     0.74074,     0.74174,     0.74274,     0.74374,\n",
              "           0.74474,     0.74575,     0.74675,     0.74775,     0.74875,     0.74975,     0.75075,     0.75175,     0.75275,     0.75375,     0.75475,     0.75576,     0.75676,     0.75776,     0.75876,     0.75976,     0.76076,     0.76176,     0.76276,     0.76376,     0.76476,     0.76577,     0.76677,     0.76777,\n",
              "           0.76877,     0.76977,     0.77077,     0.77177,     0.77277,     0.77377,     0.77477,     0.77578,     0.77678,     0.77778,     0.77878,     0.77978,     0.78078,     0.78178,     0.78278,     0.78378,     0.78478,     0.78579,     0.78679,     0.78779,     0.78879,     0.78979,     0.79079,     0.79179,\n",
              "           0.79279,     0.79379,     0.79479,      0.7958,      0.7968,      0.7978,      0.7988,      0.7998,      0.8008,      0.8018,      0.8028,      0.8038,      0.8048,     0.80581,     0.80681,     0.80781,     0.80881,     0.80981,     0.81081,     0.81181,     0.81281,     0.81381,     0.81481,     0.81582,\n",
              "           0.81682,     0.81782,     0.81882,     0.81982,     0.82082,     0.82182,     0.82282,     0.82382,     0.82482,     0.82583,     0.82683,     0.82783,     0.82883,     0.82983,     0.83083,     0.83183,     0.83283,     0.83383,     0.83483,     0.83584,     0.83684,     0.83784,     0.83884,     0.83984,\n",
              "           0.84084,     0.84184,     0.84284,     0.84384,     0.84484,     0.84585,     0.84685,     0.84785,     0.84885,     0.84985,     0.85085,     0.85185,     0.85285,     0.85385,     0.85485,     0.85586,     0.85686,     0.85786,     0.85886,     0.85986,     0.86086,     0.86186,     0.86286,     0.86386,\n",
              "           0.86486,     0.86587,     0.86687,     0.86787,     0.86887,     0.86987,     0.87087,     0.87187,     0.87287,     0.87387,     0.87487,     0.87588,     0.87688,     0.87788,     0.87888,     0.87988,     0.88088,     0.88188,     0.88288,     0.88388,     0.88488,     0.88589,     0.88689,     0.88789,\n",
              "           0.88889,     0.88989,     0.89089,     0.89189,     0.89289,     0.89389,     0.89489,      0.8959,      0.8969,      0.8979,      0.8989,      0.8999,      0.9009,      0.9019,      0.9029,      0.9039,      0.9049,     0.90591,     0.90691,     0.90791,     0.90891,     0.90991,     0.91091,     0.91191,\n",
              "           0.91291,     0.91391,     0.91491,     0.91592,     0.91692,     0.91792,     0.91892,     0.91992,     0.92092,     0.92192,     0.92292,     0.92392,     0.92492,     0.92593,     0.92693,     0.92793,     0.92893,     0.92993,     0.93093,     0.93193,     0.93293,     0.93393,     0.93493,     0.93594,\n",
              "           0.93694,     0.93794,     0.93894,     0.93994,     0.94094,     0.94194,     0.94294,     0.94394,     0.94494,     0.94595,     0.94695,     0.94795,     0.94895,     0.94995,     0.95095,     0.95195,     0.95295,     0.95395,     0.95495,     0.95596,     0.95696,     0.95796,     0.95896,     0.95996,\n",
              "           0.96096,     0.96196,     0.96296,     0.96396,     0.96496,     0.96597,     0.96697,     0.96797,     0.96897,     0.96997,     0.97097,     0.97197,     0.97297,     0.97397,     0.97497,     0.97598,     0.97698,     0.97798,     0.97898,     0.97998,     0.98098,     0.98198,     0.98298,     0.98398,\n",
              "           0.98498,     0.98599,     0.98699,     0.98799,     0.98899,     0.98999,     0.99099,     0.99199,     0.99299,     0.99399,     0.99499,       0.996,       0.997,       0.998,       0.999,           1]), array([[    0.31595,     0.31595,     0.35309, ...,           0,           0,           0],\n",
              "       [    0.29885,     0.29885,     0.34311, ...,           0,           0,           0],\n",
              "       [    0.38947,     0.38947,     0.45677, ...,           0,           0,           0]]), 'Confidence', 'F1'], [array([          0,    0.001001,    0.002002,    0.003003,    0.004004,    0.005005,    0.006006,    0.007007,    0.008008,    0.009009,     0.01001,    0.011011,    0.012012,    0.013013,    0.014014,    0.015015,    0.016016,    0.017017,    0.018018,    0.019019,     0.02002,    0.021021,    0.022022,    0.023023,\n",
              "          0.024024,    0.025025,    0.026026,    0.027027,    0.028028,    0.029029,     0.03003,    0.031031,    0.032032,    0.033033,    0.034034,    0.035035,    0.036036,    0.037037,    0.038038,    0.039039,     0.04004,    0.041041,    0.042042,    0.043043,    0.044044,    0.045045,    0.046046,    0.047047,\n",
              "          0.048048,    0.049049,     0.05005,    0.051051,    0.052052,    0.053053,    0.054054,    0.055055,    0.056056,    0.057057,    0.058058,    0.059059,     0.06006,    0.061061,    0.062062,    0.063063,    0.064064,    0.065065,    0.066066,    0.067067,    0.068068,    0.069069,     0.07007,    0.071071,\n",
              "          0.072072,    0.073073,    0.074074,    0.075075,    0.076076,    0.077077,    0.078078,    0.079079,     0.08008,    0.081081,    0.082082,    0.083083,    0.084084,    0.085085,    0.086086,    0.087087,    0.088088,    0.089089,     0.09009,    0.091091,    0.092092,    0.093093,    0.094094,    0.095095,\n",
              "          0.096096,    0.097097,    0.098098,    0.099099,      0.1001,      0.1011,      0.1021,      0.1031,      0.1041,     0.10511,     0.10611,     0.10711,     0.10811,     0.10911,     0.11011,     0.11111,     0.11211,     0.11311,     0.11411,     0.11512,     0.11612,     0.11712,     0.11812,     0.11912,\n",
              "           0.12012,     0.12112,     0.12212,     0.12312,     0.12412,     0.12513,     0.12613,     0.12713,     0.12813,     0.12913,     0.13013,     0.13113,     0.13213,     0.13313,     0.13413,     0.13514,     0.13614,     0.13714,     0.13814,     0.13914,     0.14014,     0.14114,     0.14214,     0.14314,\n",
              "           0.14414,     0.14515,     0.14615,     0.14715,     0.14815,     0.14915,     0.15015,     0.15115,     0.15215,     0.15315,     0.15415,     0.15516,     0.15616,     0.15716,     0.15816,     0.15916,     0.16016,     0.16116,     0.16216,     0.16316,     0.16416,     0.16517,     0.16617,     0.16717,\n",
              "           0.16817,     0.16917,     0.17017,     0.17117,     0.17217,     0.17317,     0.17417,     0.17518,     0.17618,     0.17718,     0.17818,     0.17918,     0.18018,     0.18118,     0.18218,     0.18318,     0.18418,     0.18519,     0.18619,     0.18719,     0.18819,     0.18919,     0.19019,     0.19119,\n",
              "           0.19219,     0.19319,     0.19419,      0.1952,      0.1962,      0.1972,      0.1982,      0.1992,      0.2002,      0.2012,      0.2022,      0.2032,      0.2042,     0.20521,     0.20621,     0.20721,     0.20821,     0.20921,     0.21021,     0.21121,     0.21221,     0.21321,     0.21421,     0.21522,\n",
              "           0.21622,     0.21722,     0.21822,     0.21922,     0.22022,     0.22122,     0.22222,     0.22322,     0.22422,     0.22523,     0.22623,     0.22723,     0.22823,     0.22923,     0.23023,     0.23123,     0.23223,     0.23323,     0.23423,     0.23524,     0.23624,     0.23724,     0.23824,     0.23924,\n",
              "           0.24024,     0.24124,     0.24224,     0.24324,     0.24424,     0.24525,     0.24625,     0.24725,     0.24825,     0.24925,     0.25025,     0.25125,     0.25225,     0.25325,     0.25425,     0.25526,     0.25626,     0.25726,     0.25826,     0.25926,     0.26026,     0.26126,     0.26226,     0.26326,\n",
              "           0.26426,     0.26527,     0.26627,     0.26727,     0.26827,     0.26927,     0.27027,     0.27127,     0.27227,     0.27327,     0.27427,     0.27528,     0.27628,     0.27728,     0.27828,     0.27928,     0.28028,     0.28128,     0.28228,     0.28328,     0.28428,     0.28529,     0.28629,     0.28729,\n",
              "           0.28829,     0.28929,     0.29029,     0.29129,     0.29229,     0.29329,     0.29429,      0.2953,      0.2963,      0.2973,      0.2983,      0.2993,      0.3003,      0.3013,      0.3023,      0.3033,      0.3043,     0.30531,     0.30631,     0.30731,     0.30831,     0.30931,     0.31031,     0.31131,\n",
              "           0.31231,     0.31331,     0.31431,     0.31532,     0.31632,     0.31732,     0.31832,     0.31932,     0.32032,     0.32132,     0.32232,     0.32332,     0.32432,     0.32533,     0.32633,     0.32733,     0.32833,     0.32933,     0.33033,     0.33133,     0.33233,     0.33333,     0.33433,     0.33534,\n",
              "           0.33634,     0.33734,     0.33834,     0.33934,     0.34034,     0.34134,     0.34234,     0.34334,     0.34434,     0.34535,     0.34635,     0.34735,     0.34835,     0.34935,     0.35035,     0.35135,     0.35235,     0.35335,     0.35435,     0.35536,     0.35636,     0.35736,     0.35836,     0.35936,\n",
              "           0.36036,     0.36136,     0.36236,     0.36336,     0.36436,     0.36537,     0.36637,     0.36737,     0.36837,     0.36937,     0.37037,     0.37137,     0.37237,     0.37337,     0.37437,     0.37538,     0.37638,     0.37738,     0.37838,     0.37938,     0.38038,     0.38138,     0.38238,     0.38338,\n",
              "           0.38438,     0.38539,     0.38639,     0.38739,     0.38839,     0.38939,     0.39039,     0.39139,     0.39239,     0.39339,     0.39439,      0.3954,      0.3964,      0.3974,      0.3984,      0.3994,      0.4004,      0.4014,      0.4024,      0.4034,      0.4044,     0.40541,     0.40641,     0.40741,\n",
              "           0.40841,     0.40941,     0.41041,     0.41141,     0.41241,     0.41341,     0.41441,     0.41542,     0.41642,     0.41742,     0.41842,     0.41942,     0.42042,     0.42142,     0.42242,     0.42342,     0.42442,     0.42543,     0.42643,     0.42743,     0.42843,     0.42943,     0.43043,     0.43143,\n",
              "           0.43243,     0.43343,     0.43443,     0.43544,     0.43644,     0.43744,     0.43844,     0.43944,     0.44044,     0.44144,     0.44244,     0.44344,     0.44444,     0.44545,     0.44645,     0.44745,     0.44845,     0.44945,     0.45045,     0.45145,     0.45245,     0.45345,     0.45445,     0.45546,\n",
              "           0.45646,     0.45746,     0.45846,     0.45946,     0.46046,     0.46146,     0.46246,     0.46346,     0.46446,     0.46547,     0.46647,     0.46747,     0.46847,     0.46947,     0.47047,     0.47147,     0.47247,     0.47347,     0.47447,     0.47548,     0.47648,     0.47748,     0.47848,     0.47948,\n",
              "           0.48048,     0.48148,     0.48248,     0.48348,     0.48448,     0.48549,     0.48649,     0.48749,     0.48849,     0.48949,     0.49049,     0.49149,     0.49249,     0.49349,     0.49449,      0.4955,      0.4965,      0.4975,      0.4985,      0.4995,      0.5005,      0.5015,      0.5025,      0.5035,\n",
              "            0.5045,     0.50551,     0.50651,     0.50751,     0.50851,     0.50951,     0.51051,     0.51151,     0.51251,     0.51351,     0.51451,     0.51552,     0.51652,     0.51752,     0.51852,     0.51952,     0.52052,     0.52152,     0.52252,     0.52352,     0.52452,     0.52553,     0.52653,     0.52753,\n",
              "           0.52853,     0.52953,     0.53053,     0.53153,     0.53253,     0.53353,     0.53453,     0.53554,     0.53654,     0.53754,     0.53854,     0.53954,     0.54054,     0.54154,     0.54254,     0.54354,     0.54454,     0.54555,     0.54655,     0.54755,     0.54855,     0.54955,     0.55055,     0.55155,\n",
              "           0.55255,     0.55355,     0.55455,     0.55556,     0.55656,     0.55756,     0.55856,     0.55956,     0.56056,     0.56156,     0.56256,     0.56356,     0.56456,     0.56557,     0.56657,     0.56757,     0.56857,     0.56957,     0.57057,     0.57157,     0.57257,     0.57357,     0.57457,     0.57558,\n",
              "           0.57658,     0.57758,     0.57858,     0.57958,     0.58058,     0.58158,     0.58258,     0.58358,     0.58458,     0.58559,     0.58659,     0.58759,     0.58859,     0.58959,     0.59059,     0.59159,     0.59259,     0.59359,     0.59459,      0.5956,      0.5966,      0.5976,      0.5986,      0.5996,\n",
              "            0.6006,      0.6016,      0.6026,      0.6036,      0.6046,     0.60561,     0.60661,     0.60761,     0.60861,     0.60961,     0.61061,     0.61161,     0.61261,     0.61361,     0.61461,     0.61562,     0.61662,     0.61762,     0.61862,     0.61962,     0.62062,     0.62162,     0.62262,     0.62362,\n",
              "           0.62462,     0.62563,     0.62663,     0.62763,     0.62863,     0.62963,     0.63063,     0.63163,     0.63263,     0.63363,     0.63463,     0.63564,     0.63664,     0.63764,     0.63864,     0.63964,     0.64064,     0.64164,     0.64264,     0.64364,     0.64464,     0.64565,     0.64665,     0.64765,\n",
              "           0.64865,     0.64965,     0.65065,     0.65165,     0.65265,     0.65365,     0.65465,     0.65566,     0.65666,     0.65766,     0.65866,     0.65966,     0.66066,     0.66166,     0.66266,     0.66366,     0.66466,     0.66567,     0.66667,     0.66767,     0.66867,     0.66967,     0.67067,     0.67167,\n",
              "           0.67267,     0.67367,     0.67467,     0.67568,     0.67668,     0.67768,     0.67868,     0.67968,     0.68068,     0.68168,     0.68268,     0.68368,     0.68468,     0.68569,     0.68669,     0.68769,     0.68869,     0.68969,     0.69069,     0.69169,     0.69269,     0.69369,     0.69469,      0.6957,\n",
              "            0.6967,      0.6977,      0.6987,      0.6997,      0.7007,      0.7017,      0.7027,      0.7037,      0.7047,     0.70571,     0.70671,     0.70771,     0.70871,     0.70971,     0.71071,     0.71171,     0.71271,     0.71371,     0.71471,     0.71572,     0.71672,     0.71772,     0.71872,     0.71972,\n",
              "           0.72072,     0.72172,     0.72272,     0.72372,     0.72472,     0.72573,     0.72673,     0.72773,     0.72873,     0.72973,     0.73073,     0.73173,     0.73273,     0.73373,     0.73473,     0.73574,     0.73674,     0.73774,     0.73874,     0.73974,     0.74074,     0.74174,     0.74274,     0.74374,\n",
              "           0.74474,     0.74575,     0.74675,     0.74775,     0.74875,     0.74975,     0.75075,     0.75175,     0.75275,     0.75375,     0.75475,     0.75576,     0.75676,     0.75776,     0.75876,     0.75976,     0.76076,     0.76176,     0.76276,     0.76376,     0.76476,     0.76577,     0.76677,     0.76777,\n",
              "           0.76877,     0.76977,     0.77077,     0.77177,     0.77277,     0.77377,     0.77477,     0.77578,     0.77678,     0.77778,     0.77878,     0.77978,     0.78078,     0.78178,     0.78278,     0.78378,     0.78478,     0.78579,     0.78679,     0.78779,     0.78879,     0.78979,     0.79079,     0.79179,\n",
              "           0.79279,     0.79379,     0.79479,      0.7958,      0.7968,      0.7978,      0.7988,      0.7998,      0.8008,      0.8018,      0.8028,      0.8038,      0.8048,     0.80581,     0.80681,     0.80781,     0.80881,     0.80981,     0.81081,     0.81181,     0.81281,     0.81381,     0.81481,     0.81582,\n",
              "           0.81682,     0.81782,     0.81882,     0.81982,     0.82082,     0.82182,     0.82282,     0.82382,     0.82482,     0.82583,     0.82683,     0.82783,     0.82883,     0.82983,     0.83083,     0.83183,     0.83283,     0.83383,     0.83483,     0.83584,     0.83684,     0.83784,     0.83884,     0.83984,\n",
              "           0.84084,     0.84184,     0.84284,     0.84384,     0.84484,     0.84585,     0.84685,     0.84785,     0.84885,     0.84985,     0.85085,     0.85185,     0.85285,     0.85385,     0.85485,     0.85586,     0.85686,     0.85786,     0.85886,     0.85986,     0.86086,     0.86186,     0.86286,     0.86386,\n",
              "           0.86486,     0.86587,     0.86687,     0.86787,     0.86887,     0.86987,     0.87087,     0.87187,     0.87287,     0.87387,     0.87487,     0.87588,     0.87688,     0.87788,     0.87888,     0.87988,     0.88088,     0.88188,     0.88288,     0.88388,     0.88488,     0.88589,     0.88689,     0.88789,\n",
              "           0.88889,     0.88989,     0.89089,     0.89189,     0.89289,     0.89389,     0.89489,      0.8959,      0.8969,      0.8979,      0.8989,      0.8999,      0.9009,      0.9019,      0.9029,      0.9039,      0.9049,     0.90591,     0.90691,     0.90791,     0.90891,     0.90991,     0.91091,     0.91191,\n",
              "           0.91291,     0.91391,     0.91491,     0.91592,     0.91692,     0.91792,     0.91892,     0.91992,     0.92092,     0.92192,     0.92292,     0.92392,     0.92492,     0.92593,     0.92693,     0.92793,     0.92893,     0.92993,     0.93093,     0.93193,     0.93293,     0.93393,     0.93493,     0.93594,\n",
              "           0.93694,     0.93794,     0.93894,     0.93994,     0.94094,     0.94194,     0.94294,     0.94394,     0.94494,     0.94595,     0.94695,     0.94795,     0.94895,     0.94995,     0.95095,     0.95195,     0.95295,     0.95395,     0.95495,     0.95596,     0.95696,     0.95796,     0.95896,     0.95996,\n",
              "           0.96096,     0.96196,     0.96296,     0.96396,     0.96496,     0.96597,     0.96697,     0.96797,     0.96897,     0.96997,     0.97097,     0.97197,     0.97297,     0.97397,     0.97497,     0.97598,     0.97698,     0.97798,     0.97898,     0.97998,     0.98098,     0.98198,     0.98298,     0.98398,\n",
              "           0.98498,     0.98599,     0.98699,     0.98799,     0.98899,     0.98999,     0.99099,     0.99199,     0.99299,     0.99399,     0.99499,       0.996,       0.997,       0.998,       0.999,           1]), array([[    0.20825,     0.20825,     0.24672, ...,           1,           1,           1],\n",
              "       [    0.19697,     0.19697,     0.24516, ...,           1,           1,           1],\n",
              "       [    0.26812,     0.26812,     0.33634, ...,           1,           1,           1]]), 'Confidence', 'Precision'], [array([          0,    0.001001,    0.002002,    0.003003,    0.004004,    0.005005,    0.006006,    0.007007,    0.008008,    0.009009,     0.01001,    0.011011,    0.012012,    0.013013,    0.014014,    0.015015,    0.016016,    0.017017,    0.018018,    0.019019,     0.02002,    0.021021,    0.022022,    0.023023,\n",
              "          0.024024,    0.025025,    0.026026,    0.027027,    0.028028,    0.029029,     0.03003,    0.031031,    0.032032,    0.033033,    0.034034,    0.035035,    0.036036,    0.037037,    0.038038,    0.039039,     0.04004,    0.041041,    0.042042,    0.043043,    0.044044,    0.045045,    0.046046,    0.047047,\n",
              "          0.048048,    0.049049,     0.05005,    0.051051,    0.052052,    0.053053,    0.054054,    0.055055,    0.056056,    0.057057,    0.058058,    0.059059,     0.06006,    0.061061,    0.062062,    0.063063,    0.064064,    0.065065,    0.066066,    0.067067,    0.068068,    0.069069,     0.07007,    0.071071,\n",
              "          0.072072,    0.073073,    0.074074,    0.075075,    0.076076,    0.077077,    0.078078,    0.079079,     0.08008,    0.081081,    0.082082,    0.083083,    0.084084,    0.085085,    0.086086,    0.087087,    0.088088,    0.089089,     0.09009,    0.091091,    0.092092,    0.093093,    0.094094,    0.095095,\n",
              "          0.096096,    0.097097,    0.098098,    0.099099,      0.1001,      0.1011,      0.1021,      0.1031,      0.1041,     0.10511,     0.10611,     0.10711,     0.10811,     0.10911,     0.11011,     0.11111,     0.11211,     0.11311,     0.11411,     0.11512,     0.11612,     0.11712,     0.11812,     0.11912,\n",
              "           0.12012,     0.12112,     0.12212,     0.12312,     0.12412,     0.12513,     0.12613,     0.12713,     0.12813,     0.12913,     0.13013,     0.13113,     0.13213,     0.13313,     0.13413,     0.13514,     0.13614,     0.13714,     0.13814,     0.13914,     0.14014,     0.14114,     0.14214,     0.14314,\n",
              "           0.14414,     0.14515,     0.14615,     0.14715,     0.14815,     0.14915,     0.15015,     0.15115,     0.15215,     0.15315,     0.15415,     0.15516,     0.15616,     0.15716,     0.15816,     0.15916,     0.16016,     0.16116,     0.16216,     0.16316,     0.16416,     0.16517,     0.16617,     0.16717,\n",
              "           0.16817,     0.16917,     0.17017,     0.17117,     0.17217,     0.17317,     0.17417,     0.17518,     0.17618,     0.17718,     0.17818,     0.17918,     0.18018,     0.18118,     0.18218,     0.18318,     0.18418,     0.18519,     0.18619,     0.18719,     0.18819,     0.18919,     0.19019,     0.19119,\n",
              "           0.19219,     0.19319,     0.19419,      0.1952,      0.1962,      0.1972,      0.1982,      0.1992,      0.2002,      0.2012,      0.2022,      0.2032,      0.2042,     0.20521,     0.20621,     0.20721,     0.20821,     0.20921,     0.21021,     0.21121,     0.21221,     0.21321,     0.21421,     0.21522,\n",
              "           0.21622,     0.21722,     0.21822,     0.21922,     0.22022,     0.22122,     0.22222,     0.22322,     0.22422,     0.22523,     0.22623,     0.22723,     0.22823,     0.22923,     0.23023,     0.23123,     0.23223,     0.23323,     0.23423,     0.23524,     0.23624,     0.23724,     0.23824,     0.23924,\n",
              "           0.24024,     0.24124,     0.24224,     0.24324,     0.24424,     0.24525,     0.24625,     0.24725,     0.24825,     0.24925,     0.25025,     0.25125,     0.25225,     0.25325,     0.25425,     0.25526,     0.25626,     0.25726,     0.25826,     0.25926,     0.26026,     0.26126,     0.26226,     0.26326,\n",
              "           0.26426,     0.26527,     0.26627,     0.26727,     0.26827,     0.26927,     0.27027,     0.27127,     0.27227,     0.27327,     0.27427,     0.27528,     0.27628,     0.27728,     0.27828,     0.27928,     0.28028,     0.28128,     0.28228,     0.28328,     0.28428,     0.28529,     0.28629,     0.28729,\n",
              "           0.28829,     0.28929,     0.29029,     0.29129,     0.29229,     0.29329,     0.29429,      0.2953,      0.2963,      0.2973,      0.2983,      0.2993,      0.3003,      0.3013,      0.3023,      0.3033,      0.3043,     0.30531,     0.30631,     0.30731,     0.30831,     0.30931,     0.31031,     0.31131,\n",
              "           0.31231,     0.31331,     0.31431,     0.31532,     0.31632,     0.31732,     0.31832,     0.31932,     0.32032,     0.32132,     0.32232,     0.32332,     0.32432,     0.32533,     0.32633,     0.32733,     0.32833,     0.32933,     0.33033,     0.33133,     0.33233,     0.33333,     0.33433,     0.33534,\n",
              "           0.33634,     0.33734,     0.33834,     0.33934,     0.34034,     0.34134,     0.34234,     0.34334,     0.34434,     0.34535,     0.34635,     0.34735,     0.34835,     0.34935,     0.35035,     0.35135,     0.35235,     0.35335,     0.35435,     0.35536,     0.35636,     0.35736,     0.35836,     0.35936,\n",
              "           0.36036,     0.36136,     0.36236,     0.36336,     0.36436,     0.36537,     0.36637,     0.36737,     0.36837,     0.36937,     0.37037,     0.37137,     0.37237,     0.37337,     0.37437,     0.37538,     0.37638,     0.37738,     0.37838,     0.37938,     0.38038,     0.38138,     0.38238,     0.38338,\n",
              "           0.38438,     0.38539,     0.38639,     0.38739,     0.38839,     0.38939,     0.39039,     0.39139,     0.39239,     0.39339,     0.39439,      0.3954,      0.3964,      0.3974,      0.3984,      0.3994,      0.4004,      0.4014,      0.4024,      0.4034,      0.4044,     0.40541,     0.40641,     0.40741,\n",
              "           0.40841,     0.40941,     0.41041,     0.41141,     0.41241,     0.41341,     0.41441,     0.41542,     0.41642,     0.41742,     0.41842,     0.41942,     0.42042,     0.42142,     0.42242,     0.42342,     0.42442,     0.42543,     0.42643,     0.42743,     0.42843,     0.42943,     0.43043,     0.43143,\n",
              "           0.43243,     0.43343,     0.43443,     0.43544,     0.43644,     0.43744,     0.43844,     0.43944,     0.44044,     0.44144,     0.44244,     0.44344,     0.44444,     0.44545,     0.44645,     0.44745,     0.44845,     0.44945,     0.45045,     0.45145,     0.45245,     0.45345,     0.45445,     0.45546,\n",
              "           0.45646,     0.45746,     0.45846,     0.45946,     0.46046,     0.46146,     0.46246,     0.46346,     0.46446,     0.46547,     0.46647,     0.46747,     0.46847,     0.46947,     0.47047,     0.47147,     0.47247,     0.47347,     0.47447,     0.47548,     0.47648,     0.47748,     0.47848,     0.47948,\n",
              "           0.48048,     0.48148,     0.48248,     0.48348,     0.48448,     0.48549,     0.48649,     0.48749,     0.48849,     0.48949,     0.49049,     0.49149,     0.49249,     0.49349,     0.49449,      0.4955,      0.4965,      0.4975,      0.4985,      0.4995,      0.5005,      0.5015,      0.5025,      0.5035,\n",
              "            0.5045,     0.50551,     0.50651,     0.50751,     0.50851,     0.50951,     0.51051,     0.51151,     0.51251,     0.51351,     0.51451,     0.51552,     0.51652,     0.51752,     0.51852,     0.51952,     0.52052,     0.52152,     0.52252,     0.52352,     0.52452,     0.52553,     0.52653,     0.52753,\n",
              "           0.52853,     0.52953,     0.53053,     0.53153,     0.53253,     0.53353,     0.53453,     0.53554,     0.53654,     0.53754,     0.53854,     0.53954,     0.54054,     0.54154,     0.54254,     0.54354,     0.54454,     0.54555,     0.54655,     0.54755,     0.54855,     0.54955,     0.55055,     0.55155,\n",
              "           0.55255,     0.55355,     0.55455,     0.55556,     0.55656,     0.55756,     0.55856,     0.55956,     0.56056,     0.56156,     0.56256,     0.56356,     0.56456,     0.56557,     0.56657,     0.56757,     0.56857,     0.56957,     0.57057,     0.57157,     0.57257,     0.57357,     0.57457,     0.57558,\n",
              "           0.57658,     0.57758,     0.57858,     0.57958,     0.58058,     0.58158,     0.58258,     0.58358,     0.58458,     0.58559,     0.58659,     0.58759,     0.58859,     0.58959,     0.59059,     0.59159,     0.59259,     0.59359,     0.59459,      0.5956,      0.5966,      0.5976,      0.5986,      0.5996,\n",
              "            0.6006,      0.6016,      0.6026,      0.6036,      0.6046,     0.60561,     0.60661,     0.60761,     0.60861,     0.60961,     0.61061,     0.61161,     0.61261,     0.61361,     0.61461,     0.61562,     0.61662,     0.61762,     0.61862,     0.61962,     0.62062,     0.62162,     0.62262,     0.62362,\n",
              "           0.62462,     0.62563,     0.62663,     0.62763,     0.62863,     0.62963,     0.63063,     0.63163,     0.63263,     0.63363,     0.63463,     0.63564,     0.63664,     0.63764,     0.63864,     0.63964,     0.64064,     0.64164,     0.64264,     0.64364,     0.64464,     0.64565,     0.64665,     0.64765,\n",
              "           0.64865,     0.64965,     0.65065,     0.65165,     0.65265,     0.65365,     0.65465,     0.65566,     0.65666,     0.65766,     0.65866,     0.65966,     0.66066,     0.66166,     0.66266,     0.66366,     0.66466,     0.66567,     0.66667,     0.66767,     0.66867,     0.66967,     0.67067,     0.67167,\n",
              "           0.67267,     0.67367,     0.67467,     0.67568,     0.67668,     0.67768,     0.67868,     0.67968,     0.68068,     0.68168,     0.68268,     0.68368,     0.68468,     0.68569,     0.68669,     0.68769,     0.68869,     0.68969,     0.69069,     0.69169,     0.69269,     0.69369,     0.69469,      0.6957,\n",
              "            0.6967,      0.6977,      0.6987,      0.6997,      0.7007,      0.7017,      0.7027,      0.7037,      0.7047,     0.70571,     0.70671,     0.70771,     0.70871,     0.70971,     0.71071,     0.71171,     0.71271,     0.71371,     0.71471,     0.71572,     0.71672,     0.71772,     0.71872,     0.71972,\n",
              "           0.72072,     0.72172,     0.72272,     0.72372,     0.72472,     0.72573,     0.72673,     0.72773,     0.72873,     0.72973,     0.73073,     0.73173,     0.73273,     0.73373,     0.73473,     0.73574,     0.73674,     0.73774,     0.73874,     0.73974,     0.74074,     0.74174,     0.74274,     0.74374,\n",
              "           0.74474,     0.74575,     0.74675,     0.74775,     0.74875,     0.74975,     0.75075,     0.75175,     0.75275,     0.75375,     0.75475,     0.75576,     0.75676,     0.75776,     0.75876,     0.75976,     0.76076,     0.76176,     0.76276,     0.76376,     0.76476,     0.76577,     0.76677,     0.76777,\n",
              "           0.76877,     0.76977,     0.77077,     0.77177,     0.77277,     0.77377,     0.77477,     0.77578,     0.77678,     0.77778,     0.77878,     0.77978,     0.78078,     0.78178,     0.78278,     0.78378,     0.78478,     0.78579,     0.78679,     0.78779,     0.78879,     0.78979,     0.79079,     0.79179,\n",
              "           0.79279,     0.79379,     0.79479,      0.7958,      0.7968,      0.7978,      0.7988,      0.7998,      0.8008,      0.8018,      0.8028,      0.8038,      0.8048,     0.80581,     0.80681,     0.80781,     0.80881,     0.80981,     0.81081,     0.81181,     0.81281,     0.81381,     0.81481,     0.81582,\n",
              "           0.81682,     0.81782,     0.81882,     0.81982,     0.82082,     0.82182,     0.82282,     0.82382,     0.82482,     0.82583,     0.82683,     0.82783,     0.82883,     0.82983,     0.83083,     0.83183,     0.83283,     0.83383,     0.83483,     0.83584,     0.83684,     0.83784,     0.83884,     0.83984,\n",
              "           0.84084,     0.84184,     0.84284,     0.84384,     0.84484,     0.84585,     0.84685,     0.84785,     0.84885,     0.84985,     0.85085,     0.85185,     0.85285,     0.85385,     0.85485,     0.85586,     0.85686,     0.85786,     0.85886,     0.85986,     0.86086,     0.86186,     0.86286,     0.86386,\n",
              "           0.86486,     0.86587,     0.86687,     0.86787,     0.86887,     0.86987,     0.87087,     0.87187,     0.87287,     0.87387,     0.87487,     0.87588,     0.87688,     0.87788,     0.87888,     0.87988,     0.88088,     0.88188,     0.88288,     0.88388,     0.88488,     0.88589,     0.88689,     0.88789,\n",
              "           0.88889,     0.88989,     0.89089,     0.89189,     0.89289,     0.89389,     0.89489,      0.8959,      0.8969,      0.8979,      0.8989,      0.8999,      0.9009,      0.9019,      0.9029,      0.9039,      0.9049,     0.90591,     0.90691,     0.90791,     0.90891,     0.90991,     0.91091,     0.91191,\n",
              "           0.91291,     0.91391,     0.91491,     0.91592,     0.91692,     0.91792,     0.91892,     0.91992,     0.92092,     0.92192,     0.92292,     0.92392,     0.92492,     0.92593,     0.92693,     0.92793,     0.92893,     0.92993,     0.93093,     0.93193,     0.93293,     0.93393,     0.93493,     0.93594,\n",
              "           0.93694,     0.93794,     0.93894,     0.93994,     0.94094,     0.94194,     0.94294,     0.94394,     0.94494,     0.94595,     0.94695,     0.94795,     0.94895,     0.94995,     0.95095,     0.95195,     0.95295,     0.95395,     0.95495,     0.95596,     0.95696,     0.95796,     0.95896,     0.95996,\n",
              "           0.96096,     0.96196,     0.96296,     0.96396,     0.96496,     0.96597,     0.96697,     0.96797,     0.96897,     0.96997,     0.97097,     0.97197,     0.97297,     0.97397,     0.97497,     0.97598,     0.97698,     0.97798,     0.97898,     0.97998,     0.98098,     0.98198,     0.98298,     0.98398,\n",
              "           0.98498,     0.98599,     0.98699,     0.98799,     0.98899,     0.98999,     0.99099,     0.99199,     0.99299,     0.99399,     0.99499,       0.996,       0.997,       0.998,       0.999,           1]), array([[    0.65432,     0.65432,     0.62069, ...,           0,           0,           0],\n",
              "       [    0.61905,     0.61905,     0.57143, ...,           0,           0,           0],\n",
              "       [    0.71154,     0.71154,     0.71154, ...,           0,           0,           0]]), 'Confidence', 'Recall']]\n",
              "fitness: 0.3655201793824362\n",
              "keys: ['metrics/precision(B)', 'metrics/recall(B)', 'metrics/mAP50(B)', 'metrics/mAP50-95(B)']\n",
              "maps: array([     0.2236,     0.38288,     0.43834])\n",
              "names: {0: 'rubbish', 1: 'mattress', 2: 'furniture'}\n",
              "plot: True\n",
              "results_dict: {'metrics/precision(B)': 0.6862611580586294, 'metrics/recall(B)': 0.4274236859529621, 'metrics/mAP50(B)': 0.5207412941898052, 'metrics/mAP50-95(B)': 0.34827338884828407, 'fitness': 0.3655201793824362}\n",
              "save_dir: PosixPath('runs/detect/train')\n",
              "speed: {'preprocess': 0.1906373284079812, 'inference': 4.401509207908553, 'loss': 0.0006418035487936001, 'postprocess': 2.50845846503672}\n",
              "task: 'detect'"
            ]
          },
          "metadata": {},
          "execution_count": 3
        }
      ],
      "source": [
        "from ultralytics import YOLO\n",
        "model = YOLO('/content/drive/MyDrive/YOLO_finalgigi/train2/weights/last.pt')  # load a pretrained YOLO detection model\n",
        "\n",
        "model.train(data=\"/content/drive/MyDrive/Yolo_final_data/train.yaml\", epochs=50)  # train the model\n"
      ]
    },
    {
      "cell_type": "code",
      "execution_count": null,
      "metadata": {
        "id": "RYGCwCBsNqyd"
      },
      "outputs": [],
      "source": [
        "import locale\n",
        "def getpreferredencoding(do_setlocale = True):\n",
        "    return \"UTF-8\"\n",
        "locale.getpreferredencoding = getpreferredencoding\n",
        "\n",
        "!cp -r /content/runs/detect /content/drive/MyDrive/model_result"
      ]
    },
    {
      "cell_type": "markdown",
      "metadata": {
        "id": "S1BJucTAnsA9"
      },
      "source": [
        "#Testing"
      ]
    },
    {
      "cell_type": "code",
      "execution_count": null,
      "metadata": {
        "id": "AsqzqueknP8Y",
        "colab": {
          "base_uri": "https://localhost:8080/"
        },
        "outputId": "18c5872f-1aa8-4f40-d028-d575c9105874",
        "collapsed": true
      },
      "outputs": [
        {
          "output_type": "stream",
          "name": "stdout",
          "text": [
            "Ultralytics 8.3.36 🚀 Python-3.10.12 torch-2.5.1+cu121 CUDA:0 (Tesla T4, 15102MiB)\n",
            "Model summary (fused): 168 layers, 11,126,745 parameters, 0 gradients, 28.4 GFLOPs\n",
            "\n",
            "video 1/1 (frame 1/800) /content/drive/MyDrive/trash.mp4: 640x384 (no detections), 40.6ms\n",
            "video 1/1 (frame 2/800) /content/drive/MyDrive/trash.mp4: 640x384 (no detections), 10.7ms\n",
            "video 1/1 (frame 3/800) /content/drive/MyDrive/trash.mp4: 640x384 (no detections), 10.6ms\n",
            "video 1/1 (frame 4/800) /content/drive/MyDrive/trash.mp4: 640x384 (no detections), 10.7ms\n",
            "video 1/1 (frame 5/800) /content/drive/MyDrive/trash.mp4: 640x384 (no detections), 10.7ms\n",
            "video 1/1 (frame 6/800) /content/drive/MyDrive/trash.mp4: 640x384 (no detections), 12.5ms\n",
            "video 1/1 (frame 7/800) /content/drive/MyDrive/trash.mp4: 640x384 (no detections), 10.6ms\n",
            "video 1/1 (frame 8/800) /content/drive/MyDrive/trash.mp4: 640x384 (no detections), 10.6ms\n",
            "video 1/1 (frame 9/800) /content/drive/MyDrive/trash.mp4: 640x384 (no detections), 10.6ms\n",
            "video 1/1 (frame 10/800) /content/drive/MyDrive/trash.mp4: 640x384 (no detections), 12.1ms\n",
            "video 1/1 (frame 11/800) /content/drive/MyDrive/trash.mp4: 640x384 (no detections), 10.6ms\n",
            "video 1/1 (frame 12/800) /content/drive/MyDrive/trash.mp4: 640x384 (no detections), 10.7ms\n",
            "video 1/1 (frame 13/800) /content/drive/MyDrive/trash.mp4: 640x384 (no detections), 10.6ms\n",
            "video 1/1 (frame 14/800) /content/drive/MyDrive/trash.mp4: 640x384 (no detections), 10.7ms\n",
            "video 1/1 (frame 15/800) /content/drive/MyDrive/trash.mp4: 640x384 (no detections), 10.6ms\n",
            "video 1/1 (frame 16/800) /content/drive/MyDrive/trash.mp4: 640x384 (no detections), 10.6ms\n",
            "video 1/1 (frame 17/800) /content/drive/MyDrive/trash.mp4: 640x384 (no detections), 10.7ms\n",
            "video 1/1 (frame 18/800) /content/drive/MyDrive/trash.mp4: 640x384 (no detections), 10.6ms\n",
            "video 1/1 (frame 19/800) /content/drive/MyDrive/trash.mp4: 640x384 (no detections), 10.6ms\n",
            "video 1/1 (frame 20/800) /content/drive/MyDrive/trash.mp4: 640x384 (no detections), 10.7ms\n",
            "video 1/1 (frame 21/800) /content/drive/MyDrive/trash.mp4: 640x384 (no detections), 10.6ms\n",
            "video 1/1 (frame 22/800) /content/drive/MyDrive/trash.mp4: 640x384 (no detections), 10.7ms\n",
            "video 1/1 (frame 23/800) /content/drive/MyDrive/trash.mp4: 640x384 (no detections), 10.7ms\n",
            "video 1/1 (frame 24/800) /content/drive/MyDrive/trash.mp4: 640x384 (no detections), 10.6ms\n",
            "video 1/1 (frame 25/800) /content/drive/MyDrive/trash.mp4: 640x384 (no detections), 10.6ms\n",
            "video 1/1 (frame 26/800) /content/drive/MyDrive/trash.mp4: 640x384 (no detections), 10.6ms\n",
            "video 1/1 (frame 27/800) /content/drive/MyDrive/trash.mp4: 640x384 (no detections), 10.6ms\n",
            "video 1/1 (frame 28/800) /content/drive/MyDrive/trash.mp4: 640x384 (no detections), 11.1ms\n",
            "video 1/1 (frame 29/800) /content/drive/MyDrive/trash.mp4: 640x384 (no detections), 10.6ms\n",
            "video 1/1 (frame 30/800) /content/drive/MyDrive/trash.mp4: 640x384 (no detections), 10.6ms\n",
            "video 1/1 (frame 31/800) /content/drive/MyDrive/trash.mp4: 640x384 (no detections), 10.7ms\n",
            "video 1/1 (frame 32/800) /content/drive/MyDrive/trash.mp4: 640x384 (no detections), 10.6ms\n",
            "video 1/1 (frame 33/800) /content/drive/MyDrive/trash.mp4: 640x384 (no detections), 10.6ms\n",
            "video 1/1 (frame 34/800) /content/drive/MyDrive/trash.mp4: 640x384 (no detections), 10.6ms\n",
            "video 1/1 (frame 35/800) /content/drive/MyDrive/trash.mp4: 640x384 (no detections), 10.6ms\n",
            "video 1/1 (frame 36/800) /content/drive/MyDrive/trash.mp4: 640x384 (no detections), 10.6ms\n",
            "video 1/1 (frame 37/800) /content/drive/MyDrive/trash.mp4: 640x384 (no detections), 10.6ms\n",
            "video 1/1 (frame 38/800) /content/drive/MyDrive/trash.mp4: 640x384 (no detections), 10.2ms\n",
            "video 1/1 (frame 39/800) /content/drive/MyDrive/trash.mp4: 640x384 (no detections), 10.2ms\n",
            "video 1/1 (frame 40/800) /content/drive/MyDrive/trash.mp4: 640x384 (no detections), 10.2ms\n",
            "video 1/1 (frame 41/800) /content/drive/MyDrive/trash.mp4: 640x384 (no detections), 10.2ms\n",
            "video 1/1 (frame 42/800) /content/drive/MyDrive/trash.mp4: 640x384 (no detections), 10.2ms\n",
            "video 1/1 (frame 43/800) /content/drive/MyDrive/trash.mp4: 640x384 (no detections), 10.2ms\n",
            "video 1/1 (frame 44/800) /content/drive/MyDrive/trash.mp4: 640x384 (no detections), 10.2ms\n",
            "video 1/1 (frame 45/800) /content/drive/MyDrive/trash.mp4: 640x384 (no detections), 10.2ms\n",
            "video 1/1 (frame 46/800) /content/drive/MyDrive/trash.mp4: 640x384 (no detections), 10.2ms\n",
            "video 1/1 (frame 47/800) /content/drive/MyDrive/trash.mp4: 640x384 (no detections), 10.2ms\n",
            "video 1/1 (frame 48/800) /content/drive/MyDrive/trash.mp4: 640x384 (no detections), 10.2ms\n",
            "video 1/1 (frame 49/800) /content/drive/MyDrive/trash.mp4: 640x384 (no detections), 10.2ms\n",
            "video 1/1 (frame 50/800) /content/drive/MyDrive/trash.mp4: 640x384 (no detections), 12.3ms\n",
            "video 1/1 (frame 51/800) /content/drive/MyDrive/trash.mp4: 640x384 (no detections), 10.2ms\n",
            "video 1/1 (frame 52/800) /content/drive/MyDrive/trash.mp4: 640x384 (no detections), 10.2ms\n",
            "video 1/1 (frame 53/800) /content/drive/MyDrive/trash.mp4: 640x384 (no detections), 10.2ms\n",
            "video 1/1 (frame 54/800) /content/drive/MyDrive/trash.mp4: 640x384 (no detections), 10.2ms\n",
            "video 1/1 (frame 55/800) /content/drive/MyDrive/trash.mp4: 640x384 (no detections), 10.2ms\n",
            "video 1/1 (frame 56/800) /content/drive/MyDrive/trash.mp4: 640x384 (no detections), 10.2ms\n",
            "video 1/1 (frame 57/800) /content/drive/MyDrive/trash.mp4: 640x384 (no detections), 10.2ms\n",
            "video 1/1 (frame 58/800) /content/drive/MyDrive/trash.mp4: 640x384 (no detections), 10.2ms\n",
            "video 1/1 (frame 59/800) /content/drive/MyDrive/trash.mp4: 640x384 (no detections), 10.2ms\n",
            "video 1/1 (frame 60/800) /content/drive/MyDrive/trash.mp4: 640x384 (no detections), 10.2ms\n",
            "video 1/1 (frame 61/800) /content/drive/MyDrive/trash.mp4: 640x384 (no detections), 10.2ms\n",
            "video 1/1 (frame 62/800) /content/drive/MyDrive/trash.mp4: 640x384 1 mattress, 10.2ms\n",
            "video 1/1 (frame 63/800) /content/drive/MyDrive/trash.mp4: 640x384 (no detections), 10.2ms\n",
            "video 1/1 (frame 64/800) /content/drive/MyDrive/trash.mp4: 640x384 (no detections), 10.2ms\n",
            "video 1/1 (frame 65/800) /content/drive/MyDrive/trash.mp4: 640x384 (no detections), 10.2ms\n",
            "video 1/1 (frame 66/800) /content/drive/MyDrive/trash.mp4: 640x384 (no detections), 10.2ms\n",
            "video 1/1 (frame 67/800) /content/drive/MyDrive/trash.mp4: 640x384 (no detections), 10.2ms\n",
            "video 1/1 (frame 68/800) /content/drive/MyDrive/trash.mp4: 640x384 (no detections), 10.2ms\n",
            "video 1/1 (frame 69/800) /content/drive/MyDrive/trash.mp4: 640x384 (no detections), 10.2ms\n",
            "video 1/1 (frame 70/800) /content/drive/MyDrive/trash.mp4: 640x384 (no detections), 10.2ms\n",
            "video 1/1 (frame 71/800) /content/drive/MyDrive/trash.mp4: 640x384 (no detections), 10.2ms\n",
            "video 1/1 (frame 72/800) /content/drive/MyDrive/trash.mp4: 640x384 (no detections), 10.2ms\n",
            "video 1/1 (frame 73/800) /content/drive/MyDrive/trash.mp4: 640x384 (no detections), 11.1ms\n",
            "video 1/1 (frame 74/800) /content/drive/MyDrive/trash.mp4: 640x384 (no detections), 10.2ms\n",
            "video 1/1 (frame 75/800) /content/drive/MyDrive/trash.mp4: 640x384 (no detections), 10.2ms\n",
            "video 1/1 (frame 76/800) /content/drive/MyDrive/trash.mp4: 640x384 (no detections), 10.3ms\n",
            "video 1/1 (frame 77/800) /content/drive/MyDrive/trash.mp4: 640x384 (no detections), 10.2ms\n",
            "video 1/1 (frame 78/800) /content/drive/MyDrive/trash.mp4: 640x384 (no detections), 10.4ms\n",
            "video 1/1 (frame 79/800) /content/drive/MyDrive/trash.mp4: 640x384 (no detections), 10.6ms\n",
            "video 1/1 (frame 80/800) /content/drive/MyDrive/trash.mp4: 640x384 (no detections), 10.6ms\n",
            "video 1/1 (frame 81/800) /content/drive/MyDrive/trash.mp4: 640x384 (no detections), 10.6ms\n",
            "video 1/1 (frame 82/800) /content/drive/MyDrive/trash.mp4: 640x384 (no detections), 10.6ms\n",
            "video 1/1 (frame 83/800) /content/drive/MyDrive/trash.mp4: 640x384 (no detections), 10.7ms\n",
            "video 1/1 (frame 84/800) /content/drive/MyDrive/trash.mp4: 640x384 1 rubbish, 11.9ms\n",
            "video 1/1 (frame 85/800) /content/drive/MyDrive/trash.mp4: 640x384 1 rubbish, 10.7ms\n",
            "video 1/1 (frame 86/800) /content/drive/MyDrive/trash.mp4: 640x384 (no detections), 10.6ms\n",
            "video 1/1 (frame 87/800) /content/drive/MyDrive/trash.mp4: 640x384 (no detections), 10.6ms\n",
            "video 1/1 (frame 88/800) /content/drive/MyDrive/trash.mp4: 640x384 1 rubbish, 10.6ms\n",
            "video 1/1 (frame 89/800) /content/drive/MyDrive/trash.mp4: 640x384 1 rubbish, 10.6ms\n",
            "video 1/1 (frame 90/800) /content/drive/MyDrive/trash.mp4: 640x384 2 rubbishs, 10.6ms\n",
            "video 1/1 (frame 91/800) /content/drive/MyDrive/trash.mp4: 640x384 2 rubbishs, 10.6ms\n",
            "video 1/1 (frame 92/800) /content/drive/MyDrive/trash.mp4: 640x384 3 rubbishs, 10.7ms\n",
            "video 1/1 (frame 93/800) /content/drive/MyDrive/trash.mp4: 640x384 3 rubbishs, 10.6ms\n",
            "video 1/1 (frame 94/800) /content/drive/MyDrive/trash.mp4: 640x384 3 rubbishs, 10.7ms\n",
            "video 1/1 (frame 95/800) /content/drive/MyDrive/trash.mp4: 640x384 3 rubbishs, 10.7ms\n",
            "video 1/1 (frame 96/800) /content/drive/MyDrive/trash.mp4: 640x384 3 rubbishs, 10.6ms\n",
            "video 1/1 (frame 97/800) /content/drive/MyDrive/trash.mp4: 640x384 3 rubbishs, 10.6ms\n",
            "video 1/1 (frame 98/800) /content/drive/MyDrive/trash.mp4: 640x384 2 rubbishs, 10.7ms\n",
            "video 1/1 (frame 99/800) /content/drive/MyDrive/trash.mp4: 640x384 3 rubbishs, 10.7ms\n",
            "video 1/1 (frame 100/800) /content/drive/MyDrive/trash.mp4: 640x384 3 rubbishs, 10.6ms\n",
            "video 1/1 (frame 101/800) /content/drive/MyDrive/trash.mp4: 640x384 3 rubbishs, 10.7ms\n",
            "video 1/1 (frame 102/800) /content/drive/MyDrive/trash.mp4: 640x384 2 rubbishs, 10.6ms\n",
            "video 1/1 (frame 103/800) /content/drive/MyDrive/trash.mp4: 640x384 2 rubbishs, 11.1ms\n",
            "video 1/1 (frame 104/800) /content/drive/MyDrive/trash.mp4: 640x384 1 rubbish, 10.6ms\n",
            "video 1/1 (frame 105/800) /content/drive/MyDrive/trash.mp4: 640x384 1 rubbish, 10.6ms\n",
            "video 1/1 (frame 106/800) /content/drive/MyDrive/trash.mp4: 640x384 1 rubbish, 10.6ms\n",
            "video 1/1 (frame 107/800) /content/drive/MyDrive/trash.mp4: 640x384 2 rubbishs, 10.6ms\n",
            "video 1/1 (frame 108/800) /content/drive/MyDrive/trash.mp4: 640x384 1 rubbish, 10.6ms\n",
            "video 1/1 (frame 109/800) /content/drive/MyDrive/trash.mp4: 640x384 1 rubbish, 10.6ms\n",
            "video 1/1 (frame 110/800) /content/drive/MyDrive/trash.mp4: 640x384 1 rubbish, 10.7ms\n",
            "video 1/1 (frame 111/800) /content/drive/MyDrive/trash.mp4: 640x384 1 rubbish, 10.6ms\n",
            "video 1/1 (frame 112/800) /content/drive/MyDrive/trash.mp4: 640x384 1 rubbish, 10.6ms\n",
            "video 1/1 (frame 113/800) /content/drive/MyDrive/trash.mp4: 640x384 1 rubbish, 10.9ms\n",
            "video 1/1 (frame 114/800) /content/drive/MyDrive/trash.mp4: 640x384 2 rubbishs, 10.9ms\n",
            "video 1/1 (frame 115/800) /content/drive/MyDrive/trash.mp4: 640x384 1 rubbish, 10.7ms\n",
            "video 1/1 (frame 116/800) /content/drive/MyDrive/trash.mp4: 640x384 2 rubbishs, 10.6ms\n",
            "video 1/1 (frame 117/800) /content/drive/MyDrive/trash.mp4: 640x384 1 rubbish, 10.6ms\n",
            "video 1/1 (frame 118/800) /content/drive/MyDrive/trash.mp4: 640x384 1 rubbish, 10.6ms\n",
            "video 1/1 (frame 119/800) /content/drive/MyDrive/trash.mp4: 640x384 1 rubbish, 10.6ms\n",
            "video 1/1 (frame 120/800) /content/drive/MyDrive/trash.mp4: 640x384 1 rubbish, 10.6ms\n",
            "video 1/1 (frame 121/800) /content/drive/MyDrive/trash.mp4: 640x384 1 rubbish, 10.6ms\n",
            "video 1/1 (frame 122/800) /content/drive/MyDrive/trash.mp4: 640x384 1 rubbish, 10.7ms\n",
            "video 1/1 (frame 123/800) /content/drive/MyDrive/trash.mp4: 640x384 1 rubbish, 10.7ms\n",
            "video 1/1 (frame 124/800) /content/drive/MyDrive/trash.mp4: 640x384 1 rubbish, 10.7ms\n",
            "video 1/1 (frame 125/800) /content/drive/MyDrive/trash.mp4: 640x384 1 rubbish, 10.6ms\n",
            "video 1/1 (frame 126/800) /content/drive/MyDrive/trash.mp4: 640x384 1 rubbish, 10.7ms\n",
            "video 1/1 (frame 127/800) /content/drive/MyDrive/trash.mp4: 640x384 2 rubbishs, 10.6ms\n",
            "video 1/1 (frame 128/800) /content/drive/MyDrive/trash.mp4: 640x384 1 rubbish, 10.8ms\n",
            "video 1/1 (frame 129/800) /content/drive/MyDrive/trash.mp4: 640x384 2 rubbishs, 10.6ms\n",
            "video 1/1 (frame 130/800) /content/drive/MyDrive/trash.mp4: 640x384 1 rubbish, 10.6ms\n",
            "video 1/1 (frame 131/800) /content/drive/MyDrive/trash.mp4: 640x384 1 rubbish, 10.6ms\n",
            "video 1/1 (frame 132/800) /content/drive/MyDrive/trash.mp4: 640x384 (no detections), 10.6ms\n",
            "video 1/1 (frame 133/800) /content/drive/MyDrive/trash.mp4: 640x384 (no detections), 11.0ms\n",
            "video 1/1 (frame 134/800) /content/drive/MyDrive/trash.mp4: 640x384 (no detections), 10.6ms\n",
            "video 1/1 (frame 135/800) /content/drive/MyDrive/trash.mp4: 640x384 (no detections), 10.6ms\n",
            "video 1/1 (frame 136/800) /content/drive/MyDrive/trash.mp4: 640x384 (no detections), 10.6ms\n",
            "video 1/1 (frame 137/800) /content/drive/MyDrive/trash.mp4: 640x384 1 rubbish, 10.6ms\n",
            "video 1/1 (frame 138/800) /content/drive/MyDrive/trash.mp4: 640x384 1 rubbish, 10.6ms\n",
            "video 1/1 (frame 139/800) /content/drive/MyDrive/trash.mp4: 640x384 1 rubbish, 10.6ms\n",
            "video 1/1 (frame 140/800) /content/drive/MyDrive/trash.mp4: 640x384 1 rubbish, 10.6ms\n",
            "video 1/1 (frame 141/800) /content/drive/MyDrive/trash.mp4: 640x384 1 rubbish, 10.6ms\n",
            "video 1/1 (frame 142/800) /content/drive/MyDrive/trash.mp4: 640x384 1 rubbish, 10.6ms\n",
            "video 1/1 (frame 143/800) /content/drive/MyDrive/trash.mp4: 640x384 1 rubbish, 10.6ms\n",
            "video 1/1 (frame 144/800) /content/drive/MyDrive/trash.mp4: 640x384 (no detections), 10.6ms\n",
            "video 1/1 (frame 145/800) /content/drive/MyDrive/trash.mp4: 640x384 (no detections), 10.6ms\n",
            "video 1/1 (frame 146/800) /content/drive/MyDrive/trash.mp4: 640x384 (no detections), 10.6ms\n",
            "video 1/1 (frame 147/800) /content/drive/MyDrive/trash.mp4: 640x384 1 rubbish, 10.6ms\n",
            "video 1/1 (frame 148/800) /content/drive/MyDrive/trash.mp4: 640x384 (no detections), 10.6ms\n",
            "video 1/1 (frame 149/800) /content/drive/MyDrive/trash.mp4: 640x384 1 rubbish, 10.6ms\n",
            "video 1/1 (frame 150/800) /content/drive/MyDrive/trash.mp4: 640x384 (no detections), 10.6ms\n",
            "video 1/1 (frame 151/800) /content/drive/MyDrive/trash.mp4: 640x384 (no detections), 10.6ms\n",
            "video 1/1 (frame 152/800) /content/drive/MyDrive/trash.mp4: 640x384 (no detections), 10.6ms\n",
            "video 1/1 (frame 153/800) /content/drive/MyDrive/trash.mp4: 640x384 (no detections), 10.6ms\n",
            "video 1/1 (frame 154/800) /content/drive/MyDrive/trash.mp4: 640x384 (no detections), 10.6ms\n",
            "video 1/1 (frame 155/800) /content/drive/MyDrive/trash.mp4: 640x384 (no detections), 10.7ms\n",
            "video 1/1 (frame 156/800) /content/drive/MyDrive/trash.mp4: 640x384 (no detections), 10.6ms\n",
            "video 1/1 (frame 157/800) /content/drive/MyDrive/trash.mp4: 640x384 (no detections), 10.6ms\n",
            "video 1/1 (frame 158/800) /content/drive/MyDrive/trash.mp4: 640x384 (no detections), 10.6ms\n",
            "video 1/1 (frame 159/800) /content/drive/MyDrive/trash.mp4: 640x384 (no detections), 10.6ms\n",
            "video 1/1 (frame 160/800) /content/drive/MyDrive/trash.mp4: 640x384 (no detections), 10.6ms\n",
            "video 1/1 (frame 161/800) /content/drive/MyDrive/trash.mp4: 640x384 (no detections), 10.7ms\n",
            "video 1/1 (frame 162/800) /content/drive/MyDrive/trash.mp4: 640x384 (no detections), 10.6ms\n",
            "video 1/1 (frame 163/800) /content/drive/MyDrive/trash.mp4: 640x384 (no detections), 10.6ms\n",
            "video 1/1 (frame 164/800) /content/drive/MyDrive/trash.mp4: 640x384 (no detections), 10.6ms\n",
            "video 1/1 (frame 165/800) /content/drive/MyDrive/trash.mp4: 640x384 (no detections), 10.7ms\n",
            "video 1/1 (frame 166/800) /content/drive/MyDrive/trash.mp4: 640x384 (no detections), 10.6ms\n",
            "video 1/1 (frame 167/800) /content/drive/MyDrive/trash.mp4: 640x384 (no detections), 10.6ms\n",
            "video 1/1 (frame 168/800) /content/drive/MyDrive/trash.mp4: 640x384 (no detections), 10.6ms\n",
            "video 1/1 (frame 169/800) /content/drive/MyDrive/trash.mp4: 640x384 1 rubbish, 10.6ms\n",
            "video 1/1 (frame 170/800) /content/drive/MyDrive/trash.mp4: 640x384 (no detections), 10.6ms\n",
            "video 1/1 (frame 171/800) /content/drive/MyDrive/trash.mp4: 640x384 (no detections), 10.6ms\n",
            "video 1/1 (frame 172/800) /content/drive/MyDrive/trash.mp4: 640x384 (no detections), 10.6ms\n",
            "video 1/1 (frame 173/800) /content/drive/MyDrive/trash.mp4: 640x384 (no detections), 10.6ms\n",
            "video 1/1 (frame 174/800) /content/drive/MyDrive/trash.mp4: 640x384 (no detections), 10.6ms\n",
            "video 1/1 (frame 175/800) /content/drive/MyDrive/trash.mp4: 640x384 1 rubbish, 10.6ms\n",
            "video 1/1 (frame 176/800) /content/drive/MyDrive/trash.mp4: 640x384 (no detections), 10.6ms\n",
            "video 1/1 (frame 177/800) /content/drive/MyDrive/trash.mp4: 640x384 1 rubbish, 10.7ms\n",
            "video 1/1 (frame 178/800) /content/drive/MyDrive/trash.mp4: 640x384 2 rubbishs, 10.6ms\n",
            "video 1/1 (frame 179/800) /content/drive/MyDrive/trash.mp4: 640x384 1 rubbish, 10.6ms\n",
            "video 1/1 (frame 180/800) /content/drive/MyDrive/trash.mp4: 640x384 (no detections), 10.6ms\n",
            "video 1/1 (frame 181/800) /content/drive/MyDrive/trash.mp4: 640x384 (no detections), 10.6ms\n",
            "video 1/1 (frame 182/800) /content/drive/MyDrive/trash.mp4: 640x384 (no detections), 10.6ms\n",
            "video 1/1 (frame 183/800) /content/drive/MyDrive/trash.mp4: 640x384 (no detections), 10.6ms\n",
            "video 1/1 (frame 184/800) /content/drive/MyDrive/trash.mp4: 640x384 (no detections), 10.6ms\n",
            "video 1/1 (frame 185/800) /content/drive/MyDrive/trash.mp4: 640x384 (no detections), 10.6ms\n",
            "video 1/1 (frame 186/800) /content/drive/MyDrive/trash.mp4: 640x384 (no detections), 10.6ms\n",
            "video 1/1 (frame 187/800) /content/drive/MyDrive/trash.mp4: 640x384 (no detections), 10.6ms\n",
            "video 1/1 (frame 188/800) /content/drive/MyDrive/trash.mp4: 640x384 (no detections), 13.9ms\n",
            "video 1/1 (frame 189/800) /content/drive/MyDrive/trash.mp4: 640x384 (no detections), 11.7ms\n",
            "video 1/1 (frame 190/800) /content/drive/MyDrive/trash.mp4: 640x384 (no detections), 11.3ms\n",
            "video 1/1 (frame 191/800) /content/drive/MyDrive/trash.mp4: 640x384 (no detections), 11.6ms\n",
            "video 1/1 (frame 192/800) /content/drive/MyDrive/trash.mp4: 640x384 (no detections), 11.8ms\n",
            "video 1/1 (frame 193/800) /content/drive/MyDrive/trash.mp4: 640x384 1 rubbish, 11.2ms\n",
            "video 1/1 (frame 194/800) /content/drive/MyDrive/trash.mp4: 640x384 1 rubbish, 11.6ms\n",
            "video 1/1 (frame 195/800) /content/drive/MyDrive/trash.mp4: 640x384 1 rubbish, 10.7ms\n",
            "video 1/1 (frame 196/800) /content/drive/MyDrive/trash.mp4: 640x384 (no detections), 10.6ms\n",
            "video 1/1 (frame 197/800) /content/drive/MyDrive/trash.mp4: 640x384 1 rubbish, 10.6ms\n",
            "video 1/1 (frame 198/800) /content/drive/MyDrive/trash.mp4: 640x384 1 rubbish, 10.6ms\n",
            "video 1/1 (frame 199/800) /content/drive/MyDrive/trash.mp4: 640x384 1 rubbish, 10.6ms\n",
            "video 1/1 (frame 200/800) /content/drive/MyDrive/trash.mp4: 640x384 (no detections), 10.6ms\n",
            "video 1/1 (frame 201/800) /content/drive/MyDrive/trash.mp4: 640x384 (no detections), 10.6ms\n",
            "video 1/1 (frame 202/800) /content/drive/MyDrive/trash.mp4: 640x384 (no detections), 10.6ms\n",
            "video 1/1 (frame 203/800) /content/drive/MyDrive/trash.mp4: 640x384 (no detections), 10.6ms\n",
            "video 1/1 (frame 204/800) /content/drive/MyDrive/trash.mp4: 640x384 (no detections), 10.7ms\n",
            "video 1/1 (frame 205/800) /content/drive/MyDrive/trash.mp4: 640x384 (no detections), 10.7ms\n",
            "video 1/1 (frame 206/800) /content/drive/MyDrive/trash.mp4: 640x384 (no detections), 10.9ms\n",
            "video 1/1 (frame 207/800) /content/drive/MyDrive/trash.mp4: 640x384 (no detections), 10.6ms\n",
            "video 1/1 (frame 208/800) /content/drive/MyDrive/trash.mp4: 640x384 (no detections), 10.6ms\n",
            "video 1/1 (frame 209/800) /content/drive/MyDrive/trash.mp4: 640x384 (no detections), 10.6ms\n",
            "video 1/1 (frame 210/800) /content/drive/MyDrive/trash.mp4: 640x384 (no detections), 10.6ms\n",
            "video 1/1 (frame 211/800) /content/drive/MyDrive/trash.mp4: 640x384 (no detections), 10.6ms\n",
            "video 1/1 (frame 212/800) /content/drive/MyDrive/trash.mp4: 640x384 (no detections), 10.6ms\n",
            "video 1/1 (frame 213/800) /content/drive/MyDrive/trash.mp4: 640x384 (no detections), 10.6ms\n",
            "video 1/1 (frame 214/800) /content/drive/MyDrive/trash.mp4: 640x384 (no detections), 10.6ms\n",
            "video 1/1 (frame 215/800) /content/drive/MyDrive/trash.mp4: 640x384 (no detections), 10.6ms\n",
            "video 1/1 (frame 216/800) /content/drive/MyDrive/trash.mp4: 640x384 1 rubbish, 10.6ms\n",
            "video 1/1 (frame 217/800) /content/drive/MyDrive/trash.mp4: 640x384 1 rubbish, 10.7ms\n",
            "video 1/1 (frame 218/800) /content/drive/MyDrive/trash.mp4: 640x384 (no detections), 10.7ms\n",
            "video 1/1 (frame 219/800) /content/drive/MyDrive/trash.mp4: 640x384 (no detections), 10.6ms\n",
            "video 1/1 (frame 220/800) /content/drive/MyDrive/trash.mp4: 640x384 (no detections), 11.1ms\n",
            "video 1/1 (frame 221/800) /content/drive/MyDrive/trash.mp4: 640x384 (no detections), 10.7ms\n",
            "video 1/1 (frame 222/800) /content/drive/MyDrive/trash.mp4: 640x384 (no detections), 11.0ms\n",
            "video 1/1 (frame 223/800) /content/drive/MyDrive/trash.mp4: 640x384 (no detections), 12.9ms\n",
            "video 1/1 (frame 224/800) /content/drive/MyDrive/trash.mp4: 640x384 (no detections), 11.2ms\n",
            "video 1/1 (frame 225/800) /content/drive/MyDrive/trash.mp4: 640x384 (no detections), 10.7ms\n",
            "video 1/1 (frame 226/800) /content/drive/MyDrive/trash.mp4: 640x384 (no detections), 10.6ms\n",
            "video 1/1 (frame 227/800) /content/drive/MyDrive/trash.mp4: 640x384 (no detections), 10.6ms\n",
            "video 1/1 (frame 228/800) /content/drive/MyDrive/trash.mp4: 640x384 (no detections), 10.6ms\n",
            "video 1/1 (frame 229/800) /content/drive/MyDrive/trash.mp4: 640x384 (no detections), 10.6ms\n",
            "video 1/1 (frame 230/800) /content/drive/MyDrive/trash.mp4: 640x384 (no detections), 10.6ms\n",
            "video 1/1 (frame 231/800) /content/drive/MyDrive/trash.mp4: 640x384 (no detections), 13.1ms\n",
            "video 1/1 (frame 232/800) /content/drive/MyDrive/trash.mp4: 640x384 (no detections), 10.6ms\n",
            "video 1/1 (frame 233/800) /content/drive/MyDrive/trash.mp4: 640x384 1 rubbish, 10.6ms\n",
            "video 1/1 (frame 234/800) /content/drive/MyDrive/trash.mp4: 640x384 1 rubbish, 10.6ms\n",
            "video 1/1 (frame 235/800) /content/drive/MyDrive/trash.mp4: 640x384 1 rubbish, 10.8ms\n",
            "video 1/1 (frame 236/800) /content/drive/MyDrive/trash.mp4: 640x384 1 rubbish, 11.5ms\n",
            "video 1/1 (frame 237/800) /content/drive/MyDrive/trash.mp4: 640x384 (no detections), 10.6ms\n",
            "video 1/1 (frame 238/800) /content/drive/MyDrive/trash.mp4: 640x384 1 rubbish, 10.6ms\n",
            "video 1/1 (frame 239/800) /content/drive/MyDrive/trash.mp4: 640x384 1 rubbish, 10.6ms\n",
            "video 1/1 (frame 240/800) /content/drive/MyDrive/trash.mp4: 640x384 1 rubbish, 10.7ms\n",
            "video 1/1 (frame 241/800) /content/drive/MyDrive/trash.mp4: 640x384 1 rubbish, 10.6ms\n",
            "video 1/1 (frame 242/800) /content/drive/MyDrive/trash.mp4: 640x384 1 rubbish, 10.6ms\n",
            "video 1/1 (frame 243/800) /content/drive/MyDrive/trash.mp4: 640x384 1 rubbish, 10.6ms\n",
            "video 1/1 (frame 244/800) /content/drive/MyDrive/trash.mp4: 640x384 1 rubbish, 10.6ms\n",
            "video 1/1 (frame 245/800) /content/drive/MyDrive/trash.mp4: 640x384 1 rubbish, 10.7ms\n",
            "video 1/1 (frame 246/800) /content/drive/MyDrive/trash.mp4: 640x384 (no detections), 10.6ms\n",
            "video 1/1 (frame 247/800) /content/drive/MyDrive/trash.mp4: 640x384 (no detections), 10.6ms\n",
            "video 1/1 (frame 248/800) /content/drive/MyDrive/trash.mp4: 640x384 (no detections), 10.6ms\n",
            "video 1/1 (frame 249/800) /content/drive/MyDrive/trash.mp4: 640x384 (no detections), 10.6ms\n",
            "video 1/1 (frame 250/800) /content/drive/MyDrive/trash.mp4: 640x384 (no detections), 10.6ms\n",
            "video 1/1 (frame 251/800) /content/drive/MyDrive/trash.mp4: 640x384 (no detections), 10.6ms\n",
            "video 1/1 (frame 252/800) /content/drive/MyDrive/trash.mp4: 640x384 (no detections), 10.6ms\n",
            "video 1/1 (frame 253/800) /content/drive/MyDrive/trash.mp4: 640x384 (no detections), 10.7ms\n",
            "video 1/1 (frame 254/800) /content/drive/MyDrive/trash.mp4: 640x384 (no detections), 10.6ms\n",
            "video 1/1 (frame 255/800) /content/drive/MyDrive/trash.mp4: 640x384 (no detections), 10.6ms\n",
            "video 1/1 (frame 256/800) /content/drive/MyDrive/trash.mp4: 640x384 (no detections), 10.6ms\n",
            "video 1/1 (frame 257/800) /content/drive/MyDrive/trash.mp4: 640x384 (no detections), 10.6ms\n",
            "video 1/1 (frame 258/800) /content/drive/MyDrive/trash.mp4: 640x384 (no detections), 10.6ms\n",
            "video 1/1 (frame 259/800) /content/drive/MyDrive/trash.mp4: 640x384 (no detections), 10.6ms\n",
            "video 1/1 (frame 260/800) /content/drive/MyDrive/trash.mp4: 640x384 (no detections), 10.6ms\n",
            "video 1/1 (frame 261/800) /content/drive/MyDrive/trash.mp4: 640x384 (no detections), 10.6ms\n",
            "video 1/1 (frame 262/800) /content/drive/MyDrive/trash.mp4: 640x384 (no detections), 10.7ms\n",
            "video 1/1 (frame 263/800) /content/drive/MyDrive/trash.mp4: 640x384 (no detections), 10.6ms\n",
            "video 1/1 (frame 264/800) /content/drive/MyDrive/trash.mp4: 640x384 (no detections), 12.3ms\n",
            "video 1/1 (frame 265/800) /content/drive/MyDrive/trash.mp4: 640x384 (no detections), 10.6ms\n",
            "video 1/1 (frame 266/800) /content/drive/MyDrive/trash.mp4: 640x384 1 rubbish, 10.7ms\n",
            "video 1/1 (frame 267/800) /content/drive/MyDrive/trash.mp4: 640x384 1 rubbish, 2 mattresss, 10.7ms\n",
            "video 1/1 (frame 268/800) /content/drive/MyDrive/trash.mp4: 640x384 1 rubbish, 1 mattress, 10.6ms\n",
            "video 1/1 (frame 269/800) /content/drive/MyDrive/trash.mp4: 640x384 2 rubbishs, 1 mattress, 10.6ms\n",
            "video 1/1 (frame 270/800) /content/drive/MyDrive/trash.mp4: 640x384 1 mattress, 10.7ms\n",
            "video 1/1 (frame 271/800) /content/drive/MyDrive/trash.mp4: 640x384 1 mattress, 10.7ms\n",
            "video 1/1 (frame 272/800) /content/drive/MyDrive/trash.mp4: 640x384 1 mattress, 10.6ms\n",
            "video 1/1 (frame 273/800) /content/drive/MyDrive/trash.mp4: 640x384 1 mattress, 12.4ms\n",
            "video 1/1 (frame 274/800) /content/drive/MyDrive/trash.mp4: 640x384 1 mattress, 10.7ms\n",
            "video 1/1 (frame 275/800) /content/drive/MyDrive/trash.mp4: 640x384 1 rubbish, 1 mattress, 10.7ms\n",
            "video 1/1 (frame 276/800) /content/drive/MyDrive/trash.mp4: 640x384 1 mattress, 11.4ms\n",
            "video 1/1 (frame 277/800) /content/drive/MyDrive/trash.mp4: 640x384 1 rubbish, 1 mattress, 11.5ms\n",
            "video 1/1 (frame 278/800) /content/drive/MyDrive/trash.mp4: 640x384 1 mattress, 12.1ms\n",
            "video 1/1 (frame 279/800) /content/drive/MyDrive/trash.mp4: 640x384 1 mattress, 10.7ms\n",
            "video 1/1 (frame 280/800) /content/drive/MyDrive/trash.mp4: 640x384 1 mattress, 10.7ms\n",
            "video 1/1 (frame 281/800) /content/drive/MyDrive/trash.mp4: 640x384 1 mattress, 10.7ms\n",
            "video 1/1 (frame 282/800) /content/drive/MyDrive/trash.mp4: 640x384 1 rubbish, 1 mattress, 10.7ms\n",
            "video 1/1 (frame 283/800) /content/drive/MyDrive/trash.mp4: 640x384 1 rubbish, 10.7ms\n",
            "video 1/1 (frame 284/800) /content/drive/MyDrive/trash.mp4: 640x384 1 rubbish, 11.5ms\n",
            "video 1/1 (frame 285/800) /content/drive/MyDrive/trash.mp4: 640x384 (no detections), 10.7ms\n",
            "video 1/1 (frame 286/800) /content/drive/MyDrive/trash.mp4: 640x384 (no detections), 10.6ms\n",
            "video 1/1 (frame 287/800) /content/drive/MyDrive/trash.mp4: 640x384 (no detections), 10.7ms\n",
            "video 1/1 (frame 288/800) /content/drive/MyDrive/trash.mp4: 640x384 1 rubbish, 10.9ms\n",
            "video 1/1 (frame 289/800) /content/drive/MyDrive/trash.mp4: 640x384 (no detections), 10.6ms\n",
            "video 1/1 (frame 290/800) /content/drive/MyDrive/trash.mp4: 640x384 (no detections), 10.6ms\n",
            "video 1/1 (frame 291/800) /content/drive/MyDrive/trash.mp4: 640x384 (no detections), 12.8ms\n",
            "video 1/1 (frame 292/800) /content/drive/MyDrive/trash.mp4: 640x384 (no detections), 10.6ms\n",
            "video 1/1 (frame 293/800) /content/drive/MyDrive/trash.mp4: 640x384 (no detections), 10.7ms\n",
            "video 1/1 (frame 294/800) /content/drive/MyDrive/trash.mp4: 640x384 (no detections), 10.6ms\n",
            "video 1/1 (frame 295/800) /content/drive/MyDrive/trash.mp4: 640x384 (no detections), 10.6ms\n",
            "video 1/1 (frame 296/800) /content/drive/MyDrive/trash.mp4: 640x384 (no detections), 10.6ms\n",
            "video 1/1 (frame 297/800) /content/drive/MyDrive/trash.mp4: 640x384 (no detections), 10.6ms\n",
            "video 1/1 (frame 298/800) /content/drive/MyDrive/trash.mp4: 640x384 (no detections), 10.6ms\n",
            "video 1/1 (frame 299/800) /content/drive/MyDrive/trash.mp4: 640x384 (no detections), 10.7ms\n",
            "video 1/1 (frame 300/800) /content/drive/MyDrive/trash.mp4: 640x384 (no detections), 10.7ms\n",
            "video 1/1 (frame 301/800) /content/drive/MyDrive/trash.mp4: 640x384 (no detections), 13.3ms\n",
            "video 1/1 (frame 302/800) /content/drive/MyDrive/trash.mp4: 640x384 (no detections), 11.1ms\n",
            "video 1/1 (frame 303/800) /content/drive/MyDrive/trash.mp4: 640x384 (no detections), 10.9ms\n",
            "video 1/1 (frame 304/800) /content/drive/MyDrive/trash.mp4: 640x384 (no detections), 10.8ms\n",
            "video 1/1 (frame 305/800) /content/drive/MyDrive/trash.mp4: 640x384 (no detections), 11.7ms\n",
            "video 1/1 (frame 306/800) /content/drive/MyDrive/trash.mp4: 640x384 (no detections), 11.0ms\n",
            "video 1/1 (frame 307/800) /content/drive/MyDrive/trash.mp4: 640x384 (no detections), 10.7ms\n",
            "video 1/1 (frame 308/800) /content/drive/MyDrive/trash.mp4: 640x384 (no detections), 10.7ms\n",
            "video 1/1 (frame 309/800) /content/drive/MyDrive/trash.mp4: 640x384 (no detections), 12.1ms\n",
            "video 1/1 (frame 310/800) /content/drive/MyDrive/trash.mp4: 640x384 (no detections), 10.6ms\n",
            "video 1/1 (frame 311/800) /content/drive/MyDrive/trash.mp4: 640x384 1 mattress, 11.5ms\n",
            "video 1/1 (frame 312/800) /content/drive/MyDrive/trash.mp4: 640x384 (no detections), 10.7ms\n",
            "video 1/1 (frame 313/800) /content/drive/MyDrive/trash.mp4: 640x384 (no detections), 10.7ms\n",
            "video 1/1 (frame 314/800) /content/drive/MyDrive/trash.mp4: 640x384 (no detections), 10.7ms\n",
            "video 1/1 (frame 315/800) /content/drive/MyDrive/trash.mp4: 640x384 (no detections), 10.7ms\n",
            "video 1/1 (frame 316/800) /content/drive/MyDrive/trash.mp4: 640x384 (no detections), 12.2ms\n",
            "video 1/1 (frame 317/800) /content/drive/MyDrive/trash.mp4: 640x384 (no detections), 10.7ms\n",
            "video 1/1 (frame 318/800) /content/drive/MyDrive/trash.mp4: 640x384 (no detections), 10.7ms\n",
            "video 1/1 (frame 319/800) /content/drive/MyDrive/trash.mp4: 640x384 (no detections), 10.9ms\n",
            "video 1/1 (frame 320/800) /content/drive/MyDrive/trash.mp4: 640x384 1 rubbish, 12.2ms\n",
            "video 1/1 (frame 321/800) /content/drive/MyDrive/trash.mp4: 640x384 (no detections), 13.1ms\n",
            "video 1/1 (frame 322/800) /content/drive/MyDrive/trash.mp4: 640x384 1 rubbish, 10.7ms\n",
            "video 1/1 (frame 323/800) /content/drive/MyDrive/trash.mp4: 640x384 1 rubbish, 10.9ms\n",
            "video 1/1 (frame 324/800) /content/drive/MyDrive/trash.mp4: 640x384 1 rubbish, 11.4ms\n",
            "video 1/1 (frame 325/800) /content/drive/MyDrive/trash.mp4: 640x384 1 rubbish, 10.7ms\n",
            "video 1/1 (frame 326/800) /content/drive/MyDrive/trash.mp4: 640x384 1 rubbish, 10.7ms\n",
            "video 1/1 (frame 327/800) /content/drive/MyDrive/trash.mp4: 640x384 1 rubbish, 10.7ms\n",
            "video 1/1 (frame 328/800) /content/drive/MyDrive/trash.mp4: 640x384 1 rubbish, 10.7ms\n",
            "video 1/1 (frame 329/800) /content/drive/MyDrive/trash.mp4: 640x384 1 rubbish, 10.7ms\n",
            "video 1/1 (frame 330/800) /content/drive/MyDrive/trash.mp4: 640x384 1 rubbish, 10.7ms\n",
            "video 1/1 (frame 331/800) /content/drive/MyDrive/trash.mp4: 640x384 1 rubbish, 10.7ms\n",
            "video 1/1 (frame 332/800) /content/drive/MyDrive/trash.mp4: 640x384 (no detections), 10.7ms\n",
            "video 1/1 (frame 333/800) /content/drive/MyDrive/trash.mp4: 640x384 1 rubbish, 10.9ms\n",
            "video 1/1 (frame 334/800) /content/drive/MyDrive/trash.mp4: 640x384 1 rubbish, 10.7ms\n",
            "video 1/1 (frame 335/800) /content/drive/MyDrive/trash.mp4: 640x384 1 rubbish, 11.4ms\n",
            "video 1/1 (frame 336/800) /content/drive/MyDrive/trash.mp4: 640x384 1 rubbish, 12.4ms\n",
            "video 1/1 (frame 337/800) /content/drive/MyDrive/trash.mp4: 640x384 (no detections), 12.7ms\n",
            "video 1/1 (frame 338/800) /content/drive/MyDrive/trash.mp4: 640x384 1 rubbish, 10.7ms\n",
            "video 1/1 (frame 339/800) /content/drive/MyDrive/trash.mp4: 640x384 1 rubbish, 10.9ms\n",
            "video 1/1 (frame 340/800) /content/drive/MyDrive/trash.mp4: 640x384 1 rubbish, 10.7ms\n",
            "video 1/1 (frame 341/800) /content/drive/MyDrive/trash.mp4: 640x384 2 rubbishs, 12.3ms\n",
            "video 1/1 (frame 342/800) /content/drive/MyDrive/trash.mp4: 640x384 2 rubbishs, 12.5ms\n",
            "video 1/1 (frame 343/800) /content/drive/MyDrive/trash.mp4: 640x384 3 rubbishs, 10.7ms\n",
            "video 1/1 (frame 344/800) /content/drive/MyDrive/trash.mp4: 640x384 2 rubbishs, 10.6ms\n",
            "video 1/1 (frame 345/800) /content/drive/MyDrive/trash.mp4: 640x384 2 rubbishs, 10.6ms\n",
            "video 1/1 (frame 346/800) /content/drive/MyDrive/trash.mp4: 640x384 2 rubbishs, 10.7ms\n",
            "video 1/1 (frame 347/800) /content/drive/MyDrive/trash.mp4: 640x384 2 rubbishs, 10.6ms\n",
            "video 1/1 (frame 348/800) /content/drive/MyDrive/trash.mp4: 640x384 (no detections), 10.7ms\n",
            "video 1/1 (frame 349/800) /content/drive/MyDrive/trash.mp4: 640x384 1 rubbish, 15.0ms\n",
            "video 1/1 (frame 350/800) /content/drive/MyDrive/trash.mp4: 640x384 3 rubbishs, 10.7ms\n",
            "video 1/1 (frame 351/800) /content/drive/MyDrive/trash.mp4: 640x384 3 rubbishs, 10.7ms\n",
            "video 1/1 (frame 352/800) /content/drive/MyDrive/trash.mp4: 640x384 2 rubbishs, 11.8ms\n",
            "video 1/1 (frame 353/800) /content/drive/MyDrive/trash.mp4: 640x384 1 rubbish, 10.7ms\n",
            "video 1/1 (frame 354/800) /content/drive/MyDrive/trash.mp4: 640x384 1 rubbish, 10.7ms\n",
            "video 1/1 (frame 355/800) /content/drive/MyDrive/trash.mp4: 640x384 3 rubbishs, 10.7ms\n",
            "video 1/1 (frame 356/800) /content/drive/MyDrive/trash.mp4: 640x384 1 rubbish, 10.6ms\n",
            "video 1/1 (frame 357/800) /content/drive/MyDrive/trash.mp4: 640x384 2 rubbishs, 10.6ms\n",
            "video 1/1 (frame 358/800) /content/drive/MyDrive/trash.mp4: 640x384 1 rubbish, 10.7ms\n",
            "video 1/1 (frame 359/800) /content/drive/MyDrive/trash.mp4: 640x384 1 rubbish, 10.7ms\n",
            "video 1/1 (frame 360/800) /content/drive/MyDrive/trash.mp4: 640x384 (no detections), 10.7ms\n",
            "video 1/1 (frame 361/800) /content/drive/MyDrive/trash.mp4: 640x384 1 rubbish, 10.6ms\n",
            "video 1/1 (frame 362/800) /content/drive/MyDrive/trash.mp4: 640x384 (no detections), 10.7ms\n",
            "video 1/1 (frame 363/800) /content/drive/MyDrive/trash.mp4: 640x384 1 rubbish, 12.3ms\n",
            "video 1/1 (frame 364/800) /content/drive/MyDrive/trash.mp4: 640x384 (no detections), 10.7ms\n",
            "video 1/1 (frame 365/800) /content/drive/MyDrive/trash.mp4: 640x384 (no detections), 13.1ms\n",
            "video 1/1 (frame 366/800) /content/drive/MyDrive/trash.mp4: 640x384 (no detections), 11.8ms\n",
            "video 1/1 (frame 367/800) /content/drive/MyDrive/trash.mp4: 640x384 (no detections), 11.4ms\n",
            "video 1/1 (frame 368/800) /content/drive/MyDrive/trash.mp4: 640x384 (no detections), 12.9ms\n",
            "video 1/1 (frame 369/800) /content/drive/MyDrive/trash.mp4: 640x384 (no detections), 10.8ms\n",
            "video 1/1 (frame 370/800) /content/drive/MyDrive/trash.mp4: 640x384 (no detections), 10.7ms\n",
            "video 1/1 (frame 371/800) /content/drive/MyDrive/trash.mp4: 640x384 (no detections), 12.7ms\n",
            "video 1/1 (frame 372/800) /content/drive/MyDrive/trash.mp4: 640x384 (no detections), 11.8ms\n",
            "video 1/1 (frame 373/800) /content/drive/MyDrive/trash.mp4: 640x384 (no detections), 11.3ms\n",
            "video 1/1 (frame 374/800) /content/drive/MyDrive/trash.mp4: 640x384 (no detections), 13.7ms\n",
            "video 1/1 (frame 375/800) /content/drive/MyDrive/trash.mp4: 640x384 (no detections), 10.7ms\n",
            "video 1/1 (frame 376/800) /content/drive/MyDrive/trash.mp4: 640x384 (no detections), 12.4ms\n",
            "video 1/1 (frame 377/800) /content/drive/MyDrive/trash.mp4: 640x384 (no detections), 10.7ms\n",
            "video 1/1 (frame 378/800) /content/drive/MyDrive/trash.mp4: 640x384 2 rubbishs, 11.3ms\n",
            "video 1/1 (frame 379/800) /content/drive/MyDrive/trash.mp4: 640x384 4 rubbishs, 10.7ms\n",
            "video 1/1 (frame 380/800) /content/drive/MyDrive/trash.mp4: 640x384 1 rubbish, 10.7ms\n",
            "video 1/1 (frame 381/800) /content/drive/MyDrive/trash.mp4: 640x384 1 rubbish, 10.7ms\n",
            "video 1/1 (frame 382/800) /content/drive/MyDrive/trash.mp4: 640x384 1 rubbish, 10.7ms\n",
            "video 1/1 (frame 383/800) /content/drive/MyDrive/trash.mp4: 640x384 (no detections), 10.6ms\n",
            "video 1/1 (frame 384/800) /content/drive/MyDrive/trash.mp4: 640x384 (no detections), 10.7ms\n",
            "video 1/1 (frame 385/800) /content/drive/MyDrive/trash.mp4: 640x384 (no detections), 10.6ms\n",
            "video 1/1 (frame 386/800) /content/drive/MyDrive/trash.mp4: 640x384 (no detections), 10.7ms\n",
            "video 1/1 (frame 387/800) /content/drive/MyDrive/trash.mp4: 640x384 (no detections), 11.5ms\n",
            "video 1/1 (frame 388/800) /content/drive/MyDrive/trash.mp4: 640x384 (no detections), 10.8ms\n",
            "video 1/1 (frame 389/800) /content/drive/MyDrive/trash.mp4: 640x384 (no detections), 10.7ms\n",
            "video 1/1 (frame 390/800) /content/drive/MyDrive/trash.mp4: 640x384 (no detections), 10.7ms\n",
            "video 1/1 (frame 391/800) /content/drive/MyDrive/trash.mp4: 640x384 1 rubbish, 10.7ms\n",
            "video 1/1 (frame 392/800) /content/drive/MyDrive/trash.mp4: 640x384 1 rubbish, 10.7ms\n",
            "video 1/1 (frame 393/800) /content/drive/MyDrive/trash.mp4: 640x384 (no detections), 11.4ms\n",
            "video 1/1 (frame 394/800) /content/drive/MyDrive/trash.mp4: 640x384 (no detections), 12.2ms\n",
            "video 1/1 (frame 395/800) /content/drive/MyDrive/trash.mp4: 640x384 1 rubbish, 11.0ms\n",
            "video 1/1 (frame 396/800) /content/drive/MyDrive/trash.mp4: 640x384 1 rubbish, 10.7ms\n",
            "video 1/1 (frame 397/800) /content/drive/MyDrive/trash.mp4: 640x384 1 rubbish, 10.7ms\n",
            "video 1/1 (frame 398/800) /content/drive/MyDrive/trash.mp4: 640x384 1 rubbish, 10.6ms\n",
            "video 1/1 (frame 399/800) /content/drive/MyDrive/trash.mp4: 640x384 (no detections), 11.2ms\n",
            "video 1/1 (frame 400/800) /content/drive/MyDrive/trash.mp4: 640x384 1 rubbish, 10.6ms\n",
            "video 1/1 (frame 401/800) /content/drive/MyDrive/trash.mp4: 640x384 (no detections), 10.6ms\n",
            "video 1/1 (frame 402/800) /content/drive/MyDrive/trash.mp4: 640x384 1 rubbish, 10.6ms\n",
            "video 1/1 (frame 403/800) /content/drive/MyDrive/trash.mp4: 640x384 1 rubbish, 10.6ms\n",
            "video 1/1 (frame 404/800) /content/drive/MyDrive/trash.mp4: 640x384 1 rubbish, 10.6ms\n",
            "video 1/1 (frame 405/800) /content/drive/MyDrive/trash.mp4: 640x384 1 rubbish, 10.6ms\n",
            "video 1/1 (frame 406/800) /content/drive/MyDrive/trash.mp4: 640x384 (no detections), 10.7ms\n",
            "video 1/1 (frame 407/800) /content/drive/MyDrive/trash.mp4: 640x384 (no detections), 10.6ms\n",
            "video 1/1 (frame 408/800) /content/drive/MyDrive/trash.mp4: 640x384 (no detections), 12.1ms\n",
            "video 1/1 (frame 409/800) /content/drive/MyDrive/trash.mp4: 640x384 1 rubbish, 10.6ms\n",
            "video 1/1 (frame 410/800) /content/drive/MyDrive/trash.mp4: 640x384 1 rubbish, 10.6ms\n",
            "video 1/1 (frame 411/800) /content/drive/MyDrive/trash.mp4: 640x384 1 rubbish, 10.6ms\n",
            "video 1/1 (frame 412/800) /content/drive/MyDrive/trash.mp4: 640x384 1 rubbish, 10.6ms\n",
            "video 1/1 (frame 413/800) /content/drive/MyDrive/trash.mp4: 640x384 (no detections), 10.6ms\n",
            "video 1/1 (frame 414/800) /content/drive/MyDrive/trash.mp4: 640x384 (no detections), 10.6ms\n",
            "video 1/1 (frame 415/800) /content/drive/MyDrive/trash.mp4: 640x384 1 rubbish, 10.6ms\n",
            "video 1/1 (frame 416/800) /content/drive/MyDrive/trash.mp4: 640x384 1 rubbish, 10.6ms\n",
            "video 1/1 (frame 417/800) /content/drive/MyDrive/trash.mp4: 640x384 1 rubbish, 10.6ms\n",
            "video 1/1 (frame 418/800) /content/drive/MyDrive/trash.mp4: 640x384 1 rubbish, 10.6ms\n",
            "video 1/1 (frame 419/800) /content/drive/MyDrive/trash.mp4: 640x384 1 rubbish, 10.6ms\n",
            "video 1/1 (frame 420/800) /content/drive/MyDrive/trash.mp4: 640x384 1 rubbish, 10.6ms\n",
            "video 1/1 (frame 421/800) /content/drive/MyDrive/trash.mp4: 640x384 1 rubbish, 10.6ms\n",
            "video 1/1 (frame 422/800) /content/drive/MyDrive/trash.mp4: 640x384 1 rubbish, 10.7ms\n",
            "video 1/1 (frame 423/800) /content/drive/MyDrive/trash.mp4: 640x384 1 rubbish, 10.6ms\n",
            "video 1/1 (frame 424/800) /content/drive/MyDrive/trash.mp4: 640x384 1 rubbish, 10.7ms\n",
            "video 1/1 (frame 425/800) /content/drive/MyDrive/trash.mp4: 640x384 1 rubbish, 10.6ms\n",
            "video 1/1 (frame 426/800) /content/drive/MyDrive/trash.mp4: 640x384 (no detections), 10.7ms\n",
            "video 1/1 (frame 427/800) /content/drive/MyDrive/trash.mp4: 640x384 1 rubbish, 10.6ms\n",
            "video 1/1 (frame 428/800) /content/drive/MyDrive/trash.mp4: 640x384 1 rubbish, 10.6ms\n",
            "video 1/1 (frame 429/800) /content/drive/MyDrive/trash.mp4: 640x384 1 rubbish, 11.3ms\n",
            "video 1/1 (frame 430/800) /content/drive/MyDrive/trash.mp4: 640x384 (no detections), 10.6ms\n",
            "video 1/1 (frame 431/800) /content/drive/MyDrive/trash.mp4: 640x384 (no detections), 10.6ms\n",
            "video 1/1 (frame 432/800) /content/drive/MyDrive/trash.mp4: 640x384 (no detections), 12.1ms\n",
            "video 1/1 (frame 433/800) /content/drive/MyDrive/trash.mp4: 640x384 1 rubbish, 11.2ms\n",
            "video 1/1 (frame 434/800) /content/drive/MyDrive/trash.mp4: 640x384 1 rubbish, 10.6ms\n",
            "video 1/1 (frame 435/800) /content/drive/MyDrive/trash.mp4: 640x384 1 rubbish, 10.7ms\n",
            "video 1/1 (frame 436/800) /content/drive/MyDrive/trash.mp4: 640x384 (no detections), 10.6ms\n",
            "video 1/1 (frame 437/800) /content/drive/MyDrive/trash.mp4: 640x384 (no detections), 10.6ms\n",
            "video 1/1 (frame 438/800) /content/drive/MyDrive/trash.mp4: 640x384 1 rubbish, 10.6ms\n",
            "video 1/1 (frame 439/800) /content/drive/MyDrive/trash.mp4: 640x384 1 rubbish, 10.7ms\n",
            "video 1/1 (frame 440/800) /content/drive/MyDrive/trash.mp4: 640x384 1 rubbish, 10.6ms\n",
            "video 1/1 (frame 441/800) /content/drive/MyDrive/trash.mp4: 640x384 1 rubbish, 10.6ms\n",
            "video 1/1 (frame 442/800) /content/drive/MyDrive/trash.mp4: 640x384 (no detections), 10.6ms\n",
            "video 1/1 (frame 443/800) /content/drive/MyDrive/trash.mp4: 640x384 (no detections), 10.6ms\n",
            "video 1/1 (frame 444/800) /content/drive/MyDrive/trash.mp4: 640x384 1 rubbish, 10.7ms\n",
            "video 1/1 (frame 445/800) /content/drive/MyDrive/trash.mp4: 640x384 1 rubbish, 10.6ms\n",
            "video 1/1 (frame 446/800) /content/drive/MyDrive/trash.mp4: 640x384 1 rubbish, 10.6ms\n",
            "video 1/1 (frame 447/800) /content/drive/MyDrive/trash.mp4: 640x384 2 rubbishs, 10.6ms\n",
            "video 1/1 (frame 448/800) /content/drive/MyDrive/trash.mp4: 640x384 (no detections), 10.6ms\n",
            "video 1/1 (frame 449/800) /content/drive/MyDrive/trash.mp4: 640x384 2 rubbishs, 12.9ms\n",
            "video 1/1 (frame 450/800) /content/drive/MyDrive/trash.mp4: 640x384 1 rubbish, 10.6ms\n",
            "video 1/1 (frame 451/800) /content/drive/MyDrive/trash.mp4: 640x384 1 rubbish, 10.6ms\n",
            "video 1/1 (frame 452/800) /content/drive/MyDrive/trash.mp4: 640x384 1 rubbish, 10.6ms\n",
            "video 1/1 (frame 453/800) /content/drive/MyDrive/trash.mp4: 640x384 1 rubbish, 10.6ms\n",
            "video 1/1 (frame 454/800) /content/drive/MyDrive/trash.mp4: 640x384 1 rubbish, 10.6ms\n",
            "video 1/1 (frame 455/800) /content/drive/MyDrive/trash.mp4: 640x384 1 rubbish, 10.6ms\n",
            "video 1/1 (frame 456/800) /content/drive/MyDrive/trash.mp4: 640x384 1 rubbish, 10.6ms\n",
            "video 1/1 (frame 457/800) /content/drive/MyDrive/trash.mp4: 640x384 2 rubbishs, 11.1ms\n",
            "video 1/1 (frame 458/800) /content/drive/MyDrive/trash.mp4: 640x384 1 rubbish, 10.6ms\n",
            "video 1/1 (frame 459/800) /content/drive/MyDrive/trash.mp4: 640x384 1 rubbish, 10.7ms\n",
            "video 1/1 (frame 460/800) /content/drive/MyDrive/trash.mp4: 640x384 (no detections), 10.6ms\n",
            "video 1/1 (frame 461/800) /content/drive/MyDrive/trash.mp4: 640x384 1 rubbish, 10.6ms\n",
            "video 1/1 (frame 462/800) /content/drive/MyDrive/trash.mp4: 640x384 1 rubbish, 10.6ms\n",
            "video 1/1 (frame 463/800) /content/drive/MyDrive/trash.mp4: 640x384 1 rubbish, 10.6ms\n",
            "video 1/1 (frame 464/800) /content/drive/MyDrive/trash.mp4: 640x384 1 rubbish, 10.6ms\n",
            "video 1/1 (frame 465/800) /content/drive/MyDrive/trash.mp4: 640x384 1 rubbish, 10.7ms\n",
            "video 1/1 (frame 466/800) /content/drive/MyDrive/trash.mp4: 640x384 1 rubbish, 10.7ms\n",
            "video 1/1 (frame 467/800) /content/drive/MyDrive/trash.mp4: 640x384 (no detections), 10.7ms\n",
            "video 1/1 (frame 468/800) /content/drive/MyDrive/trash.mp4: 640x384 2 rubbishs, 10.7ms\n",
            "video 1/1 (frame 469/800) /content/drive/MyDrive/trash.mp4: 640x384 1 rubbish, 10.7ms\n",
            "video 1/1 (frame 470/800) /content/drive/MyDrive/trash.mp4: 640x384 1 rubbish, 10.6ms\n",
            "video 1/1 (frame 471/800) /content/drive/MyDrive/trash.mp4: 640x384 (no detections), 10.6ms\n",
            "video 1/1 (frame 472/800) /content/drive/MyDrive/trash.mp4: 640x384 1 rubbish, 10.6ms\n",
            "video 1/1 (frame 473/800) /content/drive/MyDrive/trash.mp4: 640x384 1 rubbish, 10.7ms\n",
            "video 1/1 (frame 474/800) /content/drive/MyDrive/trash.mp4: 640x384 1 rubbish, 10.7ms\n",
            "video 1/1 (frame 475/800) /content/drive/MyDrive/trash.mp4: 640x384 1 rubbish, 10.6ms\n",
            "video 1/1 (frame 476/800) /content/drive/MyDrive/trash.mp4: 640x384 2 rubbishs, 10.7ms\n",
            "video 1/1 (frame 477/800) /content/drive/MyDrive/trash.mp4: 640x384 2 rubbishs, 10.6ms\n",
            "video 1/1 (frame 478/800) /content/drive/MyDrive/trash.mp4: 640x384 2 rubbishs, 10.6ms\n",
            "video 1/1 (frame 479/800) /content/drive/MyDrive/trash.mp4: 640x384 1 rubbish, 10.6ms\n",
            "video 1/1 (frame 480/800) /content/drive/MyDrive/trash.mp4: 640x384 1 rubbish, 11.5ms\n",
            "video 1/1 (frame 481/800) /content/drive/MyDrive/trash.mp4: 640x384 1 rubbish, 11.0ms\n",
            "video 1/1 (frame 482/800) /content/drive/MyDrive/trash.mp4: 640x384 1 rubbish, 10.6ms\n",
            "video 1/1 (frame 483/800) /content/drive/MyDrive/trash.mp4: 640x384 1 rubbish, 10.6ms\n",
            "video 1/1 (frame 484/800) /content/drive/MyDrive/trash.mp4: 640x384 (no detections), 10.7ms\n",
            "video 1/1 (frame 485/800) /content/drive/MyDrive/trash.mp4: 640x384 1 rubbish, 10.6ms\n",
            "video 1/1 (frame 486/800) /content/drive/MyDrive/trash.mp4: 640x384 1 rubbish, 10.6ms\n",
            "video 1/1 (frame 487/800) /content/drive/MyDrive/trash.mp4: 640x384 1 rubbish, 10.6ms\n",
            "video 1/1 (frame 488/800) /content/drive/MyDrive/trash.mp4: 640x384 1 rubbish, 10.6ms\n",
            "video 1/1 (frame 489/800) /content/drive/MyDrive/trash.mp4: 640x384 1 rubbish, 10.6ms\n",
            "video 1/1 (frame 490/800) /content/drive/MyDrive/trash.mp4: 640x384 1 rubbish, 10.8ms\n",
            "video 1/1 (frame 491/800) /content/drive/MyDrive/trash.mp4: 640x384 1 rubbish, 10.6ms\n",
            "video 1/1 (frame 492/800) /content/drive/MyDrive/trash.mp4: 640x384 1 rubbish, 10.7ms\n",
            "video 1/1 (frame 493/800) /content/drive/MyDrive/trash.mp4: 640x384 1 rubbish, 10.6ms\n",
            "video 1/1 (frame 494/800) /content/drive/MyDrive/trash.mp4: 640x384 1 rubbish, 10.6ms\n",
            "video 1/1 (frame 495/800) /content/drive/MyDrive/trash.mp4: 640x384 1 rubbish, 10.6ms\n",
            "video 1/1 (frame 496/800) /content/drive/MyDrive/trash.mp4: 640x384 1 rubbish, 10.6ms\n",
            "video 1/1 (frame 497/800) /content/drive/MyDrive/trash.mp4: 640x384 1 rubbish, 11.4ms\n",
            "video 1/1 (frame 498/800) /content/drive/MyDrive/trash.mp4: 640x384 1 rubbish, 10.6ms\n",
            "video 1/1 (frame 499/800) /content/drive/MyDrive/trash.mp4: 640x384 1 rubbish, 10.6ms\n",
            "video 1/1 (frame 500/800) /content/drive/MyDrive/trash.mp4: 640x384 1 rubbish, 10.7ms\n",
            "video 1/1 (frame 501/800) /content/drive/MyDrive/trash.mp4: 640x384 1 rubbish, 11.1ms\n",
            "video 1/1 (frame 502/800) /content/drive/MyDrive/trash.mp4: 640x384 2 rubbishs, 10.6ms\n",
            "video 1/1 (frame 503/800) /content/drive/MyDrive/trash.mp4: 640x384 1 rubbish, 10.6ms\n",
            "video 1/1 (frame 504/800) /content/drive/MyDrive/trash.mp4: 640x384 1 rubbish, 10.6ms\n",
            "video 1/1 (frame 505/800) /content/drive/MyDrive/trash.mp4: 640x384 1 rubbish, 10.6ms\n",
            "video 1/1 (frame 506/800) /content/drive/MyDrive/trash.mp4: 640x384 (no detections), 10.7ms\n",
            "video 1/1 (frame 507/800) /content/drive/MyDrive/trash.mp4: 640x384 (no detections), 10.6ms\n",
            "video 1/1 (frame 508/800) /content/drive/MyDrive/trash.mp4: 640x384 (no detections), 10.7ms\n",
            "video 1/1 (frame 509/800) /content/drive/MyDrive/trash.mp4: 640x384 2 rubbishs, 10.6ms\n",
            "video 1/1 (frame 510/800) /content/drive/MyDrive/trash.mp4: 640x384 1 rubbish, 10.6ms\n",
            "video 1/1 (frame 511/800) /content/drive/MyDrive/trash.mp4: 640x384 1 rubbish, 10.6ms\n",
            "video 1/1 (frame 512/800) /content/drive/MyDrive/trash.mp4: 640x384 (no detections), 10.7ms\n",
            "video 1/1 (frame 513/800) /content/drive/MyDrive/trash.mp4: 640x384 1 rubbish, 12.2ms\n",
            "video 1/1 (frame 514/800) /content/drive/MyDrive/trash.mp4: 640x384 1 rubbish, 10.7ms\n",
            "video 1/1 (frame 515/800) /content/drive/MyDrive/trash.mp4: 640x384 1 rubbish, 10.9ms\n",
            "video 1/1 (frame 516/800) /content/drive/MyDrive/trash.mp4: 640x384 1 rubbish, 10.6ms\n",
            "video 1/1 (frame 517/800) /content/drive/MyDrive/trash.mp4: 640x384 1 rubbish, 10.6ms\n",
            "video 1/1 (frame 518/800) /content/drive/MyDrive/trash.mp4: 640x384 1 rubbish, 10.7ms\n",
            "video 1/1 (frame 519/800) /content/drive/MyDrive/trash.mp4: 640x384 1 rubbish, 10.6ms\n",
            "video 1/1 (frame 520/800) /content/drive/MyDrive/trash.mp4: 640x384 2 rubbishs, 10.6ms\n",
            "video 1/1 (frame 521/800) /content/drive/MyDrive/trash.mp4: 640x384 3 rubbishs, 10.6ms\n",
            "video 1/1 (frame 522/800) /content/drive/MyDrive/trash.mp4: 640x384 1 rubbish, 10.6ms\n",
            "video 1/1 (frame 523/800) /content/drive/MyDrive/trash.mp4: 640x384 1 rubbish, 10.7ms\n",
            "video 1/1 (frame 524/800) /content/drive/MyDrive/trash.mp4: 640x384 1 rubbish, 10.6ms\n",
            "video 1/1 (frame 525/800) /content/drive/MyDrive/trash.mp4: 640x384 1 rubbish, 14.3ms\n",
            "video 1/1 (frame 526/800) /content/drive/MyDrive/trash.mp4: 640x384 1 rubbish, 10.7ms\n",
            "video 1/1 (frame 527/800) /content/drive/MyDrive/trash.mp4: 640x384 1 rubbish, 10.6ms\n",
            "video 1/1 (frame 528/800) /content/drive/MyDrive/trash.mp4: 640x384 1 rubbish, 10.7ms\n",
            "video 1/1 (frame 529/800) /content/drive/MyDrive/trash.mp4: 640x384 1 rubbish, 10.7ms\n",
            "video 1/1 (frame 530/800) /content/drive/MyDrive/trash.mp4: 640x384 1 rubbish, 10.6ms\n",
            "video 1/1 (frame 531/800) /content/drive/MyDrive/trash.mp4: 640x384 1 rubbish, 10.6ms\n",
            "video 1/1 (frame 532/800) /content/drive/MyDrive/trash.mp4: 640x384 1 rubbish, 10.7ms\n",
            "video 1/1 (frame 533/800) /content/drive/MyDrive/trash.mp4: 640x384 1 rubbish, 10.7ms\n",
            "video 1/1 (frame 534/800) /content/drive/MyDrive/trash.mp4: 640x384 1 rubbish, 10.7ms\n",
            "video 1/1 (frame 535/800) /content/drive/MyDrive/trash.mp4: 640x384 1 rubbish, 10.7ms\n",
            "video 1/1 (frame 536/800) /content/drive/MyDrive/trash.mp4: 640x384 1 rubbish, 10.6ms\n",
            "video 1/1 (frame 537/800) /content/drive/MyDrive/trash.mp4: 640x384 1 rubbish, 10.6ms\n",
            "video 1/1 (frame 538/800) /content/drive/MyDrive/trash.mp4: 640x384 2 rubbishs, 12.8ms\n",
            "video 1/1 (frame 539/800) /content/drive/MyDrive/trash.mp4: 640x384 1 rubbish, 10.6ms\n",
            "video 1/1 (frame 540/800) /content/drive/MyDrive/trash.mp4: 640x384 1 rubbish, 10.6ms\n",
            "video 1/1 (frame 541/800) /content/drive/MyDrive/trash.mp4: 640x384 1 rubbish, 10.6ms\n",
            "video 1/1 (frame 542/800) /content/drive/MyDrive/trash.mp4: 640x384 1 rubbish, 10.7ms\n",
            "video 1/1 (frame 543/800) /content/drive/MyDrive/trash.mp4: 640x384 1 rubbish, 10.7ms\n",
            "video 1/1 (frame 544/800) /content/drive/MyDrive/trash.mp4: 640x384 1 rubbish, 10.7ms\n",
            "video 1/1 (frame 545/800) /content/drive/MyDrive/trash.mp4: 640x384 1 rubbish, 10.6ms\n",
            "video 1/1 (frame 546/800) /content/drive/MyDrive/trash.mp4: 640x384 1 rubbish, 10.6ms\n",
            "video 1/1 (frame 547/800) /content/drive/MyDrive/trash.mp4: 640x384 1 rubbish, 10.6ms\n",
            "video 1/1 (frame 548/800) /content/drive/MyDrive/trash.mp4: 640x384 1 rubbish, 10.7ms\n",
            "video 1/1 (frame 549/800) /content/drive/MyDrive/trash.mp4: 640x384 (no detections), 10.6ms\n",
            "video 1/1 (frame 550/800) /content/drive/MyDrive/trash.mp4: 640x384 (no detections), 10.6ms\n",
            "video 1/1 (frame 551/800) /content/drive/MyDrive/trash.mp4: 640x384 1 rubbish, 10.7ms\n",
            "video 1/1 (frame 552/800) /content/drive/MyDrive/trash.mp4: 640x384 1 rubbish, 10.6ms\n",
            "video 1/1 (frame 553/800) /content/drive/MyDrive/trash.mp4: 640x384 (no detections), 10.6ms\n",
            "video 1/1 (frame 554/800) /content/drive/MyDrive/trash.mp4: 640x384 (no detections), 10.7ms\n",
            "video 1/1 (frame 555/800) /content/drive/MyDrive/trash.mp4: 640x384 1 rubbish, 10.7ms\n",
            "video 1/1 (frame 556/800) /content/drive/MyDrive/trash.mp4: 640x384 (no detections), 10.7ms\n",
            "video 1/1 (frame 557/800) /content/drive/MyDrive/trash.mp4: 640x384 (no detections), 10.6ms\n",
            "video 1/1 (frame 558/800) /content/drive/MyDrive/trash.mp4: 640x384 (no detections), 11.4ms\n",
            "video 1/1 (frame 559/800) /content/drive/MyDrive/trash.mp4: 640x384 (no detections), 10.6ms\n",
            "video 1/1 (frame 560/800) /content/drive/MyDrive/trash.mp4: 640x384 (no detections), 10.6ms\n",
            "video 1/1 (frame 561/800) /content/drive/MyDrive/trash.mp4: 640x384 (no detections), 10.6ms\n",
            "video 1/1 (frame 562/800) /content/drive/MyDrive/trash.mp4: 640x384 1 rubbish, 10.7ms\n",
            "video 1/1 (frame 563/800) /content/drive/MyDrive/trash.mp4: 640x384 2 rubbishs, 10.6ms\n",
            "video 1/1 (frame 564/800) /content/drive/MyDrive/trash.mp4: 640x384 1 rubbish, 10.7ms\n",
            "video 1/1 (frame 565/800) /content/drive/MyDrive/trash.mp4: 640x384 1 rubbish, 10.7ms\n",
            "video 1/1 (frame 566/800) /content/drive/MyDrive/trash.mp4: 640x384 1 rubbish, 10.7ms\n",
            "video 1/1 (frame 567/800) /content/drive/MyDrive/trash.mp4: 640x384 1 rubbish, 10.6ms\n",
            "video 1/1 (frame 568/800) /content/drive/MyDrive/trash.mp4: 640x384 1 rubbish, 11.6ms\n",
            "video 1/1 (frame 569/800) /content/drive/MyDrive/trash.mp4: 640x384 1 rubbish, 10.6ms\n",
            "video 1/1 (frame 570/800) /content/drive/MyDrive/trash.mp4: 640x384 2 rubbishs, 10.6ms\n",
            "video 1/1 (frame 571/800) /content/drive/MyDrive/trash.mp4: 640x384 2 rubbishs, 10.6ms\n",
            "video 1/1 (frame 572/800) /content/drive/MyDrive/trash.mp4: 640x384 1 rubbish, 10.6ms\n",
            "video 1/1 (frame 573/800) /content/drive/MyDrive/trash.mp4: 640x384 2 rubbishs, 10.6ms\n",
            "video 1/1 (frame 574/800) /content/drive/MyDrive/trash.mp4: 640x384 2 rubbishs, 10.6ms\n",
            "video 1/1 (frame 575/800) /content/drive/MyDrive/trash.mp4: 640x384 1 rubbish, 13.3ms\n",
            "video 1/1 (frame 576/800) /content/drive/MyDrive/trash.mp4: 640x384 1 rubbish, 10.6ms\n",
            "video 1/1 (frame 577/800) /content/drive/MyDrive/trash.mp4: 640x384 1 rubbish, 10.6ms\n",
            "video 1/1 (frame 578/800) /content/drive/MyDrive/trash.mp4: 640x384 1 rubbish, 10.6ms\n",
            "video 1/1 (frame 579/800) /content/drive/MyDrive/trash.mp4: 640x384 2 rubbishs, 10.6ms\n",
            "video 1/1 (frame 580/800) /content/drive/MyDrive/trash.mp4: 640x384 1 rubbish, 10.7ms\n",
            "video 1/1 (frame 581/800) /content/drive/MyDrive/trash.mp4: 640x384 1 rubbish, 10.7ms\n",
            "video 1/1 (frame 582/800) /content/drive/MyDrive/trash.mp4: 640x384 1 rubbish, 10.6ms\n",
            "video 1/1 (frame 583/800) /content/drive/MyDrive/trash.mp4: 640x384 1 rubbish, 10.6ms\n",
            "video 1/1 (frame 584/800) /content/drive/MyDrive/trash.mp4: 640x384 2 rubbishs, 10.6ms\n",
            "video 1/1 (frame 585/800) /content/drive/MyDrive/trash.mp4: 640x384 1 rubbish, 10.7ms\n",
            "video 1/1 (frame 586/800) /content/drive/MyDrive/trash.mp4: 640x384 2 rubbishs, 10.6ms\n",
            "video 1/1 (frame 587/800) /content/drive/MyDrive/trash.mp4: 640x384 2 rubbishs, 10.6ms\n",
            "video 1/1 (frame 588/800) /content/drive/MyDrive/trash.mp4: 640x384 2 rubbishs, 10.6ms\n",
            "video 1/1 (frame 589/800) /content/drive/MyDrive/trash.mp4: 640x384 1 rubbish, 10.6ms\n",
            "video 1/1 (frame 590/800) /content/drive/MyDrive/trash.mp4: 640x384 3 rubbishs, 10.6ms\n",
            "video 1/1 (frame 591/800) /content/drive/MyDrive/trash.mp4: 640x384 1 rubbish, 10.9ms\n",
            "video 1/1 (frame 592/800) /content/drive/MyDrive/trash.mp4: 640x384 3 rubbishs, 10.7ms\n",
            "video 1/1 (frame 593/800) /content/drive/MyDrive/trash.mp4: 640x384 2 rubbishs, 10.6ms\n",
            "video 1/1 (frame 594/800) /content/drive/MyDrive/trash.mp4: 640x384 3 rubbishs, 10.7ms\n",
            "video 1/1 (frame 595/800) /content/drive/MyDrive/trash.mp4: 640x384 3 rubbishs, 10.6ms\n",
            "video 1/1 (frame 596/800) /content/drive/MyDrive/trash.mp4: 640x384 3 rubbishs, 10.6ms\n",
            "video 1/1 (frame 597/800) /content/drive/MyDrive/trash.mp4: 640x384 3 rubbishs, 10.6ms\n",
            "video 1/1 (frame 598/800) /content/drive/MyDrive/trash.mp4: 640x384 2 rubbishs, 10.6ms\n",
            "video 1/1 (frame 599/800) /content/drive/MyDrive/trash.mp4: 640x384 1 rubbish, 10.7ms\n",
            "video 1/1 (frame 600/800) /content/drive/MyDrive/trash.mp4: 640x384 1 rubbish, 10.6ms\n",
            "video 1/1 (frame 601/800) /content/drive/MyDrive/trash.mp4: 640x384 1 rubbish, 10.6ms\n",
            "video 1/1 (frame 602/800) /content/drive/MyDrive/trash.mp4: 640x384 2 rubbishs, 10.6ms\n",
            "video 1/1 (frame 603/800) /content/drive/MyDrive/trash.mp4: 640x384 2 rubbishs, 10.7ms\n",
            "video 1/1 (frame 604/800) /content/drive/MyDrive/trash.mp4: 640x384 2 rubbishs, 10.7ms\n",
            "video 1/1 (frame 605/800) /content/drive/MyDrive/trash.mp4: 640x384 2 rubbishs, 10.6ms\n",
            "video 1/1 (frame 606/800) /content/drive/MyDrive/trash.mp4: 640x384 1 rubbish, 10.7ms\n",
            "video 1/1 (frame 607/800) /content/drive/MyDrive/trash.mp4: 640x384 1 rubbish, 10.6ms\n",
            "video 1/1 (frame 608/800) /content/drive/MyDrive/trash.mp4: 640x384 2 rubbishs, 10.7ms\n",
            "video 1/1 (frame 609/800) /content/drive/MyDrive/trash.mp4: 640x384 1 rubbish, 10.6ms\n",
            "video 1/1 (frame 610/800) /content/drive/MyDrive/trash.mp4: 640x384 2 rubbishs, 10.6ms\n",
            "video 1/1 (frame 611/800) /content/drive/MyDrive/trash.mp4: 640x384 2 rubbishs, 10.6ms\n",
            "video 1/1 (frame 612/800) /content/drive/MyDrive/trash.mp4: 640x384 2 rubbishs, 10.6ms\n",
            "video 1/1 (frame 613/800) /content/drive/MyDrive/trash.mp4: 640x384 2 rubbishs, 10.6ms\n",
            "video 1/1 (frame 614/800) /content/drive/MyDrive/trash.mp4: 640x384 2 rubbishs, 10.6ms\n",
            "video 1/1 (frame 615/800) /content/drive/MyDrive/trash.mp4: 640x384 2 rubbishs, 10.6ms\n",
            "video 1/1 (frame 616/800) /content/drive/MyDrive/trash.mp4: 640x384 1 rubbish, 10.6ms\n",
            "video 1/1 (frame 617/800) /content/drive/MyDrive/trash.mp4: 640x384 1 rubbish, 10.6ms\n",
            "video 1/1 (frame 618/800) /content/drive/MyDrive/trash.mp4: 640x384 1 rubbish, 10.6ms\n",
            "video 1/1 (frame 619/800) /content/drive/MyDrive/trash.mp4: 640x384 2 rubbishs, 10.6ms\n",
            "video 1/1 (frame 620/800) /content/drive/MyDrive/trash.mp4: 640x384 2 rubbishs, 10.6ms\n",
            "video 1/1 (frame 621/800) /content/drive/MyDrive/trash.mp4: 640x384 2 rubbishs, 10.7ms\n",
            "video 1/1 (frame 622/800) /content/drive/MyDrive/trash.mp4: 640x384 2 rubbishs, 10.7ms\n",
            "video 1/1 (frame 623/800) /content/drive/MyDrive/trash.mp4: 640x384 2 rubbishs, 10.7ms\n",
            "video 1/1 (frame 624/800) /content/drive/MyDrive/trash.mp4: 640x384 (no detections), 10.7ms\n",
            "video 1/1 (frame 625/800) /content/drive/MyDrive/trash.mp4: 640x384 1 rubbish, 10.6ms\n",
            "video 1/1 (frame 626/800) /content/drive/MyDrive/trash.mp4: 640x384 2 rubbishs, 10.6ms\n",
            "video 1/1 (frame 627/800) /content/drive/MyDrive/trash.mp4: 640x384 2 rubbishs, 10.6ms\n",
            "video 1/1 (frame 628/800) /content/drive/MyDrive/trash.mp4: 640x384 3 rubbishs, 10.7ms\n",
            "video 1/1 (frame 629/800) /content/drive/MyDrive/trash.mp4: 640x384 2 rubbishs, 10.7ms\n",
            "video 1/1 (frame 630/800) /content/drive/MyDrive/trash.mp4: 640x384 1 rubbish, 10.7ms\n",
            "video 1/1 (frame 631/800) /content/drive/MyDrive/trash.mp4: 640x384 1 rubbish, 10.6ms\n",
            "video 1/1 (frame 632/800) /content/drive/MyDrive/trash.mp4: 640x384 1 rubbish, 10.7ms\n",
            "video 1/1 (frame 633/800) /content/drive/MyDrive/trash.mp4: 640x384 1 rubbish, 10.6ms\n",
            "video 1/1 (frame 634/800) /content/drive/MyDrive/trash.mp4: 640x384 (no detections), 10.7ms\n",
            "video 1/1 (frame 635/800) /content/drive/MyDrive/trash.mp4: 640x384 1 rubbish, 13.6ms\n",
            "video 1/1 (frame 636/800) /content/drive/MyDrive/trash.mp4: 640x384 1 rubbish, 10.6ms\n",
            "video 1/1 (frame 637/800) /content/drive/MyDrive/trash.mp4: 640x384 1 rubbish, 10.7ms\n",
            "video 1/1 (frame 638/800) /content/drive/MyDrive/trash.mp4: 640x384 1 rubbish, 10.7ms\n",
            "video 1/1 (frame 639/800) /content/drive/MyDrive/trash.mp4: 640x384 (no detections), 10.7ms\n",
            "video 1/1 (frame 640/800) /content/drive/MyDrive/trash.mp4: 640x384 (no detections), 10.7ms\n",
            "video 1/1 (frame 641/800) /content/drive/MyDrive/trash.mp4: 640x384 1 rubbish, 10.7ms\n",
            "video 1/1 (frame 642/800) /content/drive/MyDrive/trash.mp4: 640x384 (no detections), 10.6ms\n",
            "video 1/1 (frame 643/800) /content/drive/MyDrive/trash.mp4: 640x384 1 rubbish, 10.6ms\n",
            "video 1/1 (frame 644/800) /content/drive/MyDrive/trash.mp4: 640x384 1 rubbish, 10.7ms\n",
            "video 1/1 (frame 645/800) /content/drive/MyDrive/trash.mp4: 640x384 1 rubbish, 10.6ms\n",
            "video 1/1 (frame 646/800) /content/drive/MyDrive/trash.mp4: 640x384 1 rubbish, 10.7ms\n",
            "video 1/1 (frame 647/800) /content/drive/MyDrive/trash.mp4: 640x384 1 rubbish, 10.7ms\n",
            "video 1/1 (frame 648/800) /content/drive/MyDrive/trash.mp4: 640x384 1 rubbish, 10.7ms\n",
            "video 1/1 (frame 649/800) /content/drive/MyDrive/trash.mp4: 640x384 1 rubbish, 10.6ms\n",
            "video 1/1 (frame 650/800) /content/drive/MyDrive/trash.mp4: 640x384 1 rubbish, 10.7ms\n",
            "video 1/1 (frame 651/800) /content/drive/MyDrive/trash.mp4: 640x384 1 rubbish, 10.6ms\n",
            "video 1/1 (frame 652/800) /content/drive/MyDrive/trash.mp4: 640x384 1 rubbish, 10.6ms\n",
            "video 1/1 (frame 653/800) /content/drive/MyDrive/trash.mp4: 640x384 1 rubbish, 10.7ms\n",
            "video 1/1 (frame 654/800) /content/drive/MyDrive/trash.mp4: 640x384 1 rubbish, 12.4ms\n",
            "video 1/1 (frame 655/800) /content/drive/MyDrive/trash.mp4: 640x384 1 rubbish, 10.7ms\n",
            "video 1/1 (frame 656/800) /content/drive/MyDrive/trash.mp4: 640x384 1 rubbish, 10.6ms\n",
            "video 1/1 (frame 657/800) /content/drive/MyDrive/trash.mp4: 640x384 1 rubbish, 10.7ms\n",
            "video 1/1 (frame 658/800) /content/drive/MyDrive/trash.mp4: 640x384 1 rubbish, 10.9ms\n",
            "video 1/1 (frame 659/800) /content/drive/MyDrive/trash.mp4: 640x384 1 rubbish, 10.7ms\n",
            "video 1/1 (frame 660/800) /content/drive/MyDrive/trash.mp4: 640x384 1 rubbish, 10.7ms\n",
            "video 1/1 (frame 661/800) /content/drive/MyDrive/trash.mp4: 640x384 1 rubbish, 10.6ms\n",
            "video 1/1 (frame 662/800) /content/drive/MyDrive/trash.mp4: 640x384 (no detections), 10.7ms\n",
            "video 1/1 (frame 663/800) /content/drive/MyDrive/trash.mp4: 640x384 (no detections), 10.7ms\n",
            "video 1/1 (frame 664/800) /content/drive/MyDrive/trash.mp4: 640x384 1 rubbish, 10.6ms\n",
            "video 1/1 (frame 665/800) /content/drive/MyDrive/trash.mp4: 640x384 (no detections), 10.6ms\n",
            "video 1/1 (frame 666/800) /content/drive/MyDrive/trash.mp4: 640x384 2 rubbishs, 10.7ms\n",
            "video 1/1 (frame 667/800) /content/drive/MyDrive/trash.mp4: 640x384 1 rubbish, 10.6ms\n",
            "video 1/1 (frame 668/800) /content/drive/MyDrive/trash.mp4: 640x384 1 rubbish, 10.6ms\n",
            "video 1/1 (frame 669/800) /content/drive/MyDrive/trash.mp4: 640x384 (no detections), 10.7ms\n",
            "video 1/1 (frame 670/800) /content/drive/MyDrive/trash.mp4: 640x384 (no detections), 10.7ms\n",
            "video 1/1 (frame 671/800) /content/drive/MyDrive/trash.mp4: 640x384 1 rubbish, 10.6ms\n",
            "video 1/1 (frame 672/800) /content/drive/MyDrive/trash.mp4: 640x384 (no detections), 11.2ms\n",
            "video 1/1 (frame 673/800) /content/drive/MyDrive/trash.mp4: 640x384 (no detections), 10.7ms\n",
            "video 1/1 (frame 674/800) /content/drive/MyDrive/trash.mp4: 640x384 (no detections), 10.7ms\n",
            "video 1/1 (frame 675/800) /content/drive/MyDrive/trash.mp4: 640x384 (no detections), 10.7ms\n",
            "video 1/1 (frame 676/800) /content/drive/MyDrive/trash.mp4: 640x384 1 rubbish, 10.6ms\n",
            "video 1/1 (frame 677/800) /content/drive/MyDrive/trash.mp4: 640x384 2 rubbishs, 10.6ms\n",
            "video 1/1 (frame 678/800) /content/drive/MyDrive/trash.mp4: 640x384 1 rubbish, 10.6ms\n",
            "video 1/1 (frame 679/800) /content/drive/MyDrive/trash.mp4: 640x384 (no detections), 10.6ms\n",
            "video 1/1 (frame 680/800) /content/drive/MyDrive/trash.mp4: 640x384 1 rubbish, 10.6ms\n",
            "video 1/1 (frame 681/800) /content/drive/MyDrive/trash.mp4: 640x384 (no detections), 10.7ms\n",
            "video 1/1 (frame 682/800) /content/drive/MyDrive/trash.mp4: 640x384 (no detections), 10.6ms\n",
            "video 1/1 (frame 683/800) /content/drive/MyDrive/trash.mp4: 640x384 (no detections), 10.6ms\n",
            "video 1/1 (frame 684/800) /content/drive/MyDrive/trash.mp4: 640x384 1 rubbish, 10.6ms\n",
            "video 1/1 (frame 685/800) /content/drive/MyDrive/trash.mp4: 640x384 1 rubbish, 10.6ms\n",
            "video 1/1 (frame 686/800) /content/drive/MyDrive/trash.mp4: 640x384 1 rubbish, 10.7ms\n",
            "video 1/1 (frame 687/800) /content/drive/MyDrive/trash.mp4: 640x384 1 rubbish, 10.6ms\n",
            "video 1/1 (frame 688/800) /content/drive/MyDrive/trash.mp4: 640x384 1 rubbish, 10.7ms\n",
            "video 1/1 (frame 689/800) /content/drive/MyDrive/trash.mp4: 640x384 1 rubbish, 10.7ms\n",
            "video 1/1 (frame 690/800) /content/drive/MyDrive/trash.mp4: 640x384 1 rubbish, 10.7ms\n",
            "video 1/1 (frame 691/800) /content/drive/MyDrive/trash.mp4: 640x384 1 rubbish, 10.6ms\n",
            "video 1/1 (frame 692/800) /content/drive/MyDrive/trash.mp4: 640x384 1 rubbish, 10.6ms\n",
            "video 1/1 (frame 693/800) /content/drive/MyDrive/trash.mp4: 640x384 3 rubbishs, 10.6ms\n",
            "video 1/1 (frame 694/800) /content/drive/MyDrive/trash.mp4: 640x384 3 rubbishs, 10.6ms\n",
            "video 1/1 (frame 695/800) /content/drive/MyDrive/trash.mp4: 640x384 2 rubbishs, 10.6ms\n",
            "video 1/1 (frame 696/800) /content/drive/MyDrive/trash.mp4: 640x384 2 rubbishs, 10.6ms\n",
            "video 1/1 (frame 697/800) /content/drive/MyDrive/trash.mp4: 640x384 1 rubbish, 10.6ms\n",
            "video 1/1 (frame 698/800) /content/drive/MyDrive/trash.mp4: 640x384 1 rubbish, 10.6ms\n",
            "video 1/1 (frame 699/800) /content/drive/MyDrive/trash.mp4: 640x384 1 rubbish, 10.6ms\n",
            "video 1/1 (frame 700/800) /content/drive/MyDrive/trash.mp4: 640x384 2 rubbishs, 10.7ms\n",
            "video 1/1 (frame 701/800) /content/drive/MyDrive/trash.mp4: 640x384 1 rubbish, 10.7ms\n",
            "video 1/1 (frame 702/800) /content/drive/MyDrive/trash.mp4: 640x384 1 rubbish, 10.6ms\n",
            "video 1/1 (frame 703/800) /content/drive/MyDrive/trash.mp4: 640x384 2 rubbishs, 12.0ms\n",
            "video 1/1 (frame 704/800) /content/drive/MyDrive/trash.mp4: 640x384 2 rubbishs, 10.7ms\n",
            "video 1/1 (frame 705/800) /content/drive/MyDrive/trash.mp4: 640x384 1 rubbish, 10.6ms\n",
            "video 1/1 (frame 706/800) /content/drive/MyDrive/trash.mp4: 640x384 1 rubbish, 10.7ms\n",
            "video 1/1 (frame 707/800) /content/drive/MyDrive/trash.mp4: 640x384 1 rubbish, 11.0ms\n",
            "video 1/1 (frame 708/800) /content/drive/MyDrive/trash.mp4: 640x384 1 rubbish, 10.7ms\n",
            "video 1/1 (frame 709/800) /content/drive/MyDrive/trash.mp4: 640x384 1 rubbish, 10.7ms\n",
            "video 1/1 (frame 710/800) /content/drive/MyDrive/trash.mp4: 640x384 1 rubbish, 10.7ms\n",
            "video 1/1 (frame 711/800) /content/drive/MyDrive/trash.mp4: 640x384 1 rubbish, 10.6ms\n",
            "video 1/1 (frame 712/800) /content/drive/MyDrive/trash.mp4: 640x384 1 rubbish, 10.6ms\n",
            "video 1/1 (frame 713/800) /content/drive/MyDrive/trash.mp4: 640x384 1 rubbish, 10.7ms\n",
            "video 1/1 (frame 714/800) /content/drive/MyDrive/trash.mp4: 640x384 1 rubbish, 10.6ms\n",
            "video 1/1 (frame 715/800) /content/drive/MyDrive/trash.mp4: 640x384 1 rubbish, 10.7ms\n",
            "video 1/1 (frame 716/800) /content/drive/MyDrive/trash.mp4: 640x384 1 rubbish, 10.6ms\n",
            "video 1/1 (frame 717/800) /content/drive/MyDrive/trash.mp4: 640x384 1 rubbish, 10.6ms\n",
            "video 1/1 (frame 718/800) /content/drive/MyDrive/trash.mp4: 640x384 1 rubbish, 10.7ms\n",
            "video 1/1 (frame 719/800) /content/drive/MyDrive/trash.mp4: 640x384 1 rubbish, 10.6ms\n",
            "video 1/1 (frame 720/800) /content/drive/MyDrive/trash.mp4: 640x384 1 rubbish, 10.6ms\n",
            "video 1/1 (frame 721/800) /content/drive/MyDrive/trash.mp4: 640x384 1 rubbish, 10.8ms\n",
            "video 1/1 (frame 722/800) /content/drive/MyDrive/trash.mp4: 640x384 (no detections), 10.6ms\n",
            "video 1/1 (frame 723/800) /content/drive/MyDrive/trash.mp4: 640x384 1 rubbish, 10.6ms\n",
            "video 1/1 (frame 724/800) /content/drive/MyDrive/trash.mp4: 640x384 1 rubbish, 10.7ms\n",
            "video 1/1 (frame 725/800) /content/drive/MyDrive/trash.mp4: 640x384 (no detections), 10.6ms\n",
            "video 1/1 (frame 726/800) /content/drive/MyDrive/trash.mp4: 640x384 (no detections), 10.6ms\n",
            "video 1/1 (frame 727/800) /content/drive/MyDrive/trash.mp4: 640x384 1 rubbish, 10.6ms\n",
            "video 1/1 (frame 728/800) /content/drive/MyDrive/trash.mp4: 640x384 (no detections), 13.8ms\n",
            "video 1/1 (frame 729/800) /content/drive/MyDrive/trash.mp4: 640x384 (no detections), 10.7ms\n",
            "video 1/1 (frame 730/800) /content/drive/MyDrive/trash.mp4: 640x384 1 rubbish, 10.7ms\n",
            "video 1/1 (frame 731/800) /content/drive/MyDrive/trash.mp4: 640x384 1 rubbish, 10.9ms\n",
            "video 1/1 (frame 732/800) /content/drive/MyDrive/trash.mp4: 640x384 1 rubbish, 11.5ms\n",
            "video 1/1 (frame 733/800) /content/drive/MyDrive/trash.mp4: 640x384 1 rubbish, 10.7ms\n",
            "video 1/1 (frame 734/800) /content/drive/MyDrive/trash.mp4: 640x384 1 rubbish, 10.8ms\n",
            "video 1/1 (frame 735/800) /content/drive/MyDrive/trash.mp4: 640x384 1 rubbish, 12.6ms\n",
            "video 1/1 (frame 736/800) /content/drive/MyDrive/trash.mp4: 640x384 1 rubbish, 14.5ms\n",
            "video 1/1 (frame 737/800) /content/drive/MyDrive/trash.mp4: 640x384 1 rubbish, 10.6ms\n",
            "video 1/1 (frame 738/800) /content/drive/MyDrive/trash.mp4: 640x384 1 rubbish, 11.1ms\n",
            "video 1/1 (frame 739/800) /content/drive/MyDrive/trash.mp4: 640x384 1 rubbish, 13.0ms\n",
            "video 1/1 (frame 740/800) /content/drive/MyDrive/trash.mp4: 640x384 1 rubbish, 10.7ms\n",
            "video 1/1 (frame 741/800) /content/drive/MyDrive/trash.mp4: 640x384 1 rubbish, 14.1ms\n",
            "video 1/1 (frame 742/800) /content/drive/MyDrive/trash.mp4: 640x384 1 rubbish, 10.7ms\n",
            "video 1/1 (frame 743/800) /content/drive/MyDrive/trash.mp4: 640x384 1 rubbish, 10.7ms\n",
            "video 1/1 (frame 744/800) /content/drive/MyDrive/trash.mp4: 640x384 2 rubbishs, 10.8ms\n",
            "video 1/1 (frame 745/800) /content/drive/MyDrive/trash.mp4: 640x384 1 rubbish, 10.6ms\n",
            "video 1/1 (frame 746/800) /content/drive/MyDrive/trash.mp4: 640x384 1 rubbish, 12.1ms\n",
            "video 1/1 (frame 747/800) /content/drive/MyDrive/trash.mp4: 640x384 1 rubbish, 10.6ms\n",
            "video 1/1 (frame 748/800) /content/drive/MyDrive/trash.mp4: 640x384 1 rubbish, 10.7ms\n",
            "video 1/1 (frame 749/800) /content/drive/MyDrive/trash.mp4: 640x384 1 rubbish, 10.7ms\n",
            "video 1/1 (frame 750/800) /content/drive/MyDrive/trash.mp4: 640x384 1 rubbish, 10.8ms\n",
            "video 1/1 (frame 751/800) /content/drive/MyDrive/trash.mp4: 640x384 2 rubbishs, 11.2ms\n",
            "video 1/1 (frame 752/800) /content/drive/MyDrive/trash.mp4: 640x384 1 rubbish, 10.7ms\n",
            "video 1/1 (frame 753/800) /content/drive/MyDrive/trash.mp4: 640x384 2 rubbishs, 11.7ms\n",
            "video 1/1 (frame 754/800) /content/drive/MyDrive/trash.mp4: 640x384 1 rubbish, 11.5ms\n",
            "video 1/1 (frame 755/800) /content/drive/MyDrive/trash.mp4: 640x384 1 rubbish, 10.7ms\n",
            "video 1/1 (frame 756/800) /content/drive/MyDrive/trash.mp4: 640x384 1 rubbish, 10.7ms\n",
            "video 1/1 (frame 757/800) /content/drive/MyDrive/trash.mp4: 640x384 1 rubbish, 11.9ms\n",
            "video 1/1 (frame 758/800) /content/drive/MyDrive/trash.mp4: 640x384 1 rubbish, 10.8ms\n",
            "video 1/1 (frame 759/800) /content/drive/MyDrive/trash.mp4: 640x384 1 rubbish, 14.1ms\n",
            "video 1/1 (frame 760/800) /content/drive/MyDrive/trash.mp4: 640x384 1 rubbish, 10.7ms\n",
            "video 1/1 (frame 761/800) /content/drive/MyDrive/trash.mp4: 640x384 2 rubbishs, 10.7ms\n",
            "video 1/1 (frame 762/800) /content/drive/MyDrive/trash.mp4: 640x384 2 rubbishs, 11.1ms\n",
            "video 1/1 (frame 763/800) /content/drive/MyDrive/trash.mp4: 640x384 2 rubbishs, 10.7ms\n",
            "video 1/1 (frame 764/800) /content/drive/MyDrive/trash.mp4: 640x384 1 rubbish, 10.6ms\n",
            "video 1/1 (frame 765/800) /content/drive/MyDrive/trash.mp4: 640x384 1 rubbish, 10.6ms\n",
            "video 1/1 (frame 766/800) /content/drive/MyDrive/trash.mp4: 640x384 1 rubbish, 10.7ms\n",
            "video 1/1 (frame 767/800) /content/drive/MyDrive/trash.mp4: 640x384 2 rubbishs, 10.7ms\n",
            "video 1/1 (frame 768/800) /content/drive/MyDrive/trash.mp4: 640x384 1 rubbish, 10.6ms\n",
            "video 1/1 (frame 769/800) /content/drive/MyDrive/trash.mp4: 640x384 1 rubbish, 10.9ms\n",
            "video 1/1 (frame 770/800) /content/drive/MyDrive/trash.mp4: 640x384 1 rubbish, 10.7ms\n",
            "video 1/1 (frame 771/800) /content/drive/MyDrive/trash.mp4: 640x384 1 rubbish, 1 furniture, 10.6ms\n",
            "video 1/1 (frame 772/800) /content/drive/MyDrive/trash.mp4: 640x384 1 rubbish, 10.7ms\n",
            "video 1/1 (frame 773/800) /content/drive/MyDrive/trash.mp4: 640x384 1 rubbish, 10.6ms\n",
            "video 1/1 (frame 774/800) /content/drive/MyDrive/trash.mp4: 640x384 1 rubbish, 10.7ms\n",
            "video 1/1 (frame 775/800) /content/drive/MyDrive/trash.mp4: 640x384 1 rubbish, 10.7ms\n",
            "video 1/1 (frame 776/800) /content/drive/MyDrive/trash.mp4: 640x384 1 rubbish, 11.7ms\n",
            "video 1/1 (frame 777/800) /content/drive/MyDrive/trash.mp4: 640x384 1 rubbish, 10.6ms\n",
            "video 1/1 (frame 778/800) /content/drive/MyDrive/trash.mp4: 640x384 1 rubbish, 10.6ms\n",
            "video 1/1 (frame 779/800) /content/drive/MyDrive/trash.mp4: 640x384 1 rubbish, 10.6ms\n",
            "video 1/1 (frame 780/800) /content/drive/MyDrive/trash.mp4: 640x384 1 rubbish, 1 furniture, 10.6ms\n",
            "video 1/1 (frame 781/800) /content/drive/MyDrive/trash.mp4: 640x384 2 rubbishs, 1 furniture, 10.6ms\n",
            "video 1/1 (frame 782/800) /content/drive/MyDrive/trash.mp4: 640x384 2 rubbishs, 1 furniture, 10.6ms\n",
            "video 1/1 (frame 783/800) /content/drive/MyDrive/trash.mp4: 640x384 2 rubbishs, 1 furniture, 10.6ms\n",
            "video 1/1 (frame 784/800) /content/drive/MyDrive/trash.mp4: 640x384 2 rubbishs, 1 furniture, 12.2ms\n",
            "video 1/1 (frame 785/800) /content/drive/MyDrive/trash.mp4: 640x384 2 rubbishs, 1 furniture, 17.5ms\n",
            "video 1/1 (frame 786/800) /content/drive/MyDrive/trash.mp4: 640x384 2 rubbishs, 1 furniture, 10.6ms\n",
            "video 1/1 (frame 787/800) /content/drive/MyDrive/trash.mp4: 640x384 2 rubbishs, 1 furniture, 13.3ms\n",
            "video 1/1 (frame 788/800) /content/drive/MyDrive/trash.mp4: 640x384 2 rubbishs, 1 furniture, 10.7ms\n",
            "video 1/1 (frame 789/800) /content/drive/MyDrive/trash.mp4: 640x384 2 rubbishs, 1 furniture, 10.7ms\n",
            "video 1/1 (frame 790/800) /content/drive/MyDrive/trash.mp4: 640x384 2 rubbishs, 1 furniture, 10.9ms\n",
            "video 1/1 (frame 791/800) /content/drive/MyDrive/trash.mp4: 640x384 2 rubbishs, 1 furniture, 10.9ms\n",
            "video 1/1 (frame 792/800) /content/drive/MyDrive/trash.mp4: 640x384 2 rubbishs, 1 furniture, 14.9ms\n",
            "video 1/1 (frame 793/800) /content/drive/MyDrive/trash.mp4: 640x384 1 rubbish, 1 furniture, 10.7ms\n",
            "video 1/1 (frame 794/800) /content/drive/MyDrive/trash.mp4: 640x384 2 rubbishs, 11.7ms\n",
            "video 1/1 (frame 795/800) /content/drive/MyDrive/trash.mp4: 640x384 1 rubbish, 10.7ms\n",
            "video 1/1 (frame 796/800) /content/drive/MyDrive/trash.mp4: 640x384 (no detections), 10.7ms\n",
            "video 1/1 (frame 797/800) /content/drive/MyDrive/trash.mp4: 640x384 (no detections), 11.0ms\n",
            "video 1/1 (frame 798/800) /content/drive/MyDrive/trash.mp4: 640x384 (no detections), 10.7ms\n",
            "video 1/1 (frame 799/800) /content/drive/MyDrive/trash.mp4: 640x384 (no detections), 16.0ms\n",
            "video 1/1 (frame 800/800) /content/drive/MyDrive/trash.mp4: 640x384 (no detections), 10.6ms\n",
            "Speed: 2.0ms preprocess, 10.9ms inference, 2.0ms postprocess per image at shape (1, 3, 640, 384)\n",
            "Results saved to \u001b[1mruns/detect/predict4\u001b[0m\n",
            "💡 Learn more at https://docs.ultralytics.com/modes/predict\n"
          ]
        }
      ],
      "source": [
        "# Run inference on an image with YOLO11n\n",
        "!yolo predict model=\"/content/drive/MyDrive/YOLO_medium_final/train/weights/best.pt\" source='/content/drive/MyDrive/trash.mp4'"
      ]
    },
    {
      "cell_type": "code",
      "execution_count": null,
      "metadata": {
        "id": "Wvo-oBbLnVMG",
        "colab": {
          "base_uri": "https://localhost:8080/"
        },
        "outputId": "b82afeb3-0125-4b0a-ad82-c2c65bbc9a90"
      },
      "outputs": [
        {
          "output_type": "stream",
          "name": "stdout",
          "text": [
            "Ultralytics 8.3.36 🚀 Python-3.10.12 torch-2.5.1+cu121 CUDA:0 (Tesla T4, 15102MiB)\n",
            "Model summary (fused): 168 layers, 11,126,745 parameters, 0 gradients, 28.4 GFLOPs\n"
          ]
        },
        {
          "output_type": "stream",
          "name": "stderr",
          "text": [
            "\u001b[34m\u001b[1mval: \u001b[0mScanning /content/drive/MyDrive/Yolo_final_data/labels/test.cache... 103 images, 40 backgrounds, 0 corrupt: 100%|██████████| 103/103 [00:00<?, ?it/s]\n",
            "                 Class     Images  Instances      Box(P          R      mAP50  mAP50-95): 100%|██████████| 7/7 [00:05<00:00,  1.27it/s]\n"
          ]
        },
        {
          "output_type": "stream",
          "name": "stdout",
          "text": [
            "                   all        103        111      0.446      0.416       0.38      0.236\n",
            "               rubbish         46         72      0.469      0.472      0.386      0.207\n",
            "              mattress          9         11       0.59      0.526      0.474      0.279\n",
            "             furniture         17         28      0.279       0.25      0.282      0.223\n",
            "Speed: 4.6ms preprocess, 9.6ms inference, 0.0ms loss, 3.9ms postprocess per image\n",
            "Results saved to \u001b[1mruns/detect/val3\u001b[0m\n"
          ]
        }
      ],
      "source": [
        "from ultralytics import YOLO\n",
        "\n",
        "# Load a model\n",
        "model = YOLO(\"/content/drive/MyDrive/YOLO_finalgigi/train2/weights/best.pt\")\n",
        "\n",
        "# Customize validation settings\n",
        "validation_results = model.val(data=\"/content/drive/MyDrive/Yolo_final_data/test.yaml\", imgsz=640, batch=16, iou=0.5)"
      ]
    },
    {
      "cell_type": "code",
      "source": [
        "from ultralytics import YOLO\n",
        "\n",
        "# Load a model\n",
        "model = YOLO(\"/content/drive/MyDrive/YOLO_medium_final/train/weights/best.pt\")\n",
        "\n",
        "# Customize validation settings\n",
        "validation_results = model.val(data=\"/content/drive/MyDrive/Yolo_final_data/train.yaml\", imgsz=640, batch=16,iou=0.5)"
      ],
      "metadata": {
        "colab": {
          "base_uri": "https://localhost:8080/"
        },
        "id": "aTQt4_eiQYQv",
        "outputId": "f2e62f49-cd40-446c-ca99-5b171bb2dc0b"
      },
      "execution_count": null,
      "outputs": [
        {
          "output_type": "stream",
          "name": "stdout",
          "text": [
            "Ultralytics 8.3.36 🚀 Python-3.10.12 torch-2.5.1+cu121 CUDA:0 (Tesla T4, 15102MiB)\n",
            "Model summary (fused): 168 layers, 11,126,745 parameters, 0 gradients, 28.4 GFLOPs\n"
          ]
        },
        {
          "output_type": "stream",
          "name": "stderr",
          "text": [
            "\u001b[34m\u001b[1mval: \u001b[0mScanning /content/drive/MyDrive/Yolo_final_data/labels/val.cache... 198 images, 77 backgrounds, 0 corrupt: 100%|██████████| 198/198 [00:00<?, ?it/s]\n",
            "                 Class     Images  Instances      Box(P          R      mAP50  mAP50-95): 100%|██████████| 13/13 [00:06<00:00,  1.98it/s]\n"
          ]
        },
        {
          "output_type": "stream",
          "name": "stdout",
          "text": [
            "                   all        198        235      0.629      0.468      0.511      0.351\n",
            "               rubbish         86        162      0.514      0.426      0.416       0.22\n",
            "              mattress         17         21      0.678      0.402      0.502      0.412\n",
            "             furniture         31         52      0.696      0.577      0.615       0.42\n",
            "Speed: 2.3ms preprocess, 7.8ms inference, 0.0ms loss, 2.3ms postprocess per image\n",
            "Results saved to \u001b[1mruns/detect/val4\u001b[0m\n"
          ]
        }
      ]
    }
  ],
  "metadata": {
    "colab": {
      "provenance": [],
      "gpuType": "T4"
    },
    "kernelspec": {
      "display_name": "Python 3",
      "name": "python3"
    },
    "language_info": {
      "name": "python"
    },
    "accelerator": "GPU"
  },
  "nbformat": 4,
  "nbformat_minor": 0
}